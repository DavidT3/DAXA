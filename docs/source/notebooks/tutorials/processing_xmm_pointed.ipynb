{
 "cells": [
  {
   "cell_type": "markdown",
   "id": "9f0b85df",
   "metadata": {},
   "source": [
    "# Processing raw XMM-Newton Pointed data"
   ]
  },
  {
   "cell_type": "markdown",
   "id": "042fc3de",
   "metadata": {},
   "source": [
    "This tutorial will teach you how to use DAXA to process raw XMM-Newton data into a science ready state using one line of Python code (or several lines, if you wish to have more control over the settings for each step). **This relies on there being an initialised (either manually before launching Python, or in your bash profile/rc) backend installation of the XMM Science Analysis System (SAS), including accessible calibration files** - DAXA will check for such an installation, and will not allow processing to start without it."
   ]
  },
  {
   "cell_type": "markdown",
   "id": "ffa16c92",
   "metadata": {},
   "source": [
    "## Import Statements"
   ]
  },
  {
   "cell_type": "code",
   "execution_count": 4,
   "id": "b0bec4dd",
   "metadata": {},
   "outputs": [],
   "source": [
    "from daxa.mission import XMMPointed\n",
    "from daxa.archive import Archive\n",
    "from daxa.process.simple import full_process_xmm"
   ]
  },
  {
   "cell_type": "markdown",
   "id": "875dddbe",
   "metadata": {},
   "source": [
    "## An Archive to be processed"
   ]
  },
  {
   "cell_type": "markdown",
   "id": "2a32a380",
   "metadata": {},
   "source": [
    "Every processing function implemented in DAXA takes an Archive instance as its first argument; if you don't already know what that is then you should go back and read the following tutorials:\n",
    "\n",
    "* [Creating a DAXA archive](archives.html) - This explains how to create an archive, load an existing archive, and the various properties and features of DAXA archives.\n",
    "* [Using DAXA missions](missions.html) - Here we explain what DAXA mission classes are and how to use them to select only the data you need.\n",
    "\n",
    "Here we create an archive of XMM observations of the galaxy cluster Abell 907:"
   ]
  },
  {
   "cell_type": "code",
   "execution_count": 5,
   "id": "99c5c2e8",
   "metadata": {},
   "outputs": [
    {
     "name": "stderr",
     "output_type": "stream",
     "text": [
      "/Users/dt237/code/DAXA/daxa/mission/xmm.py:83: UserWarning: 140 of the 17689 observations located for this mission have been removed due to NaN RA or Dec values\n",
      "  self._fetch_obs_info()\n",
      "Downloading XMM-Newton Pointed data: 100%|██████████████████████████████████████| 3/3 [00:36<00:00, 12.05s/it]\n"
     ]
    }
   ],
   "source": [
    "xm = XMMPointed()\n",
    "xm.filter_on_name('A907')\n",
    "arch = Archive('Abell907', xm)"
   ]
  },
  {
   "cell_type": "markdown",
   "id": "aed94b0c",
   "metadata": {},
   "source": [
    "## One-line solution"
   ]
  },
  {
   "cell_type": "markdown",
   "id": "c4f3829f",
   "metadata": {},
   "source": [
    "Though we provide individual functions that wrap the various steps required to reduce and prepare XMM data, and they can be used separately for greater control over the configuration parameters, we also include a one-line solution which executes the processing steps with default configuration.\n",
    "\n",
    "We believe that the default parameters are adequate for most use cases, and this allows for users unfamiliar with the intricacies of XMM data to easily start working with it. Executing the following will automatically generate cleaned event lists for MOS1, MOS2, PN, RGS1, and RGS2 (if they were selected during mission creation), as well as images and exposure maps for MOS1, MOS2, and PN:"
   ]
  },
  {
   "cell_type": "code",
   "execution_count": 6,
   "id": "89b28f07",
   "metadata": {},
   "outputs": [
    {
     "name": "stderr",
     "output_type": "stream",
     "text": [
      "XMM-Newton Pointed - Generating calibration files: 100%|████████████████████████| 3/3 [00:19<00:00,  6.51s/it]\n",
      "XMM-Newton Pointed - Generating ODF summary files: 100%|████████████████████████| 3/3 [00:03<00:00,  1.25s/it]\n",
      "XMM-Newton Pointed - Assembling PN and PN-OOT event lists: 100%|████████████████| 3/3 [03:37<00:00, 72.36s/it]\n",
      "XMM-Newton Pointed - Assembling MOS event lists: 100%|██████████████████████████| 6/6 [01:22<00:00, 13.70s/it]\n",
      "XMM-Newton Pointed - Finding PN/MOS soft-proton flares: 100%|███████████████████| 9/9 [00:17<00:00,  1.93s/it]\n",
      "XMM-Newton Pointed - Generating cleaned PN/MOS event lists: 100%|███████████████| 8/8 [00:03<00:00,  2.62it/s]\n",
      "XMM-Newton Pointed - Generating final PN/MOS event lists: 100%|████████████████| 8/8 [00:00<00:00, 120.67it/s]\n",
      "Generating products of type(s) ccf: 100%|███████████████████████████████████████| 3/3 [00:19<00:00,  6.37s/it]\n",
      "Generating products of type(s) image: 100%|█████████████████████████████████████| 8/8 [00:01<00:00,  7.19it/s]\n",
      "Generating products of type(s) expmap: 100%|████████████████████████████████████| 8/8 [00:22<00:00,  2.84s/it]\n",
      "Generating products of type(s) image: 100%|█████████████████████████████████████| 8/8 [00:01<00:00,  7.01it/s]\n",
      "Generating products of type(s) expmap: 100%|████████████████████████████████████| 8/8 [00:22<00:00,  2.84s/it]\n"
     ]
    }
   ],
   "source": [
    "full_process_xmm(arch)"
   ]
  },
  {
   "cell_type": "markdown",
   "id": "5a28a1d5",
   "metadata": {},
   "source": [
    "## Breaking down the XMM processing steps"
   ]
  },
  {
   "cell_type": "markdown",
   "id": "61b34e71",
   "metadata": {},
   "source": [
    "### Setup steps"
   ]
  },
  {
   "cell_type": "markdown",
   "id": "c8532e89",
   "metadata": {},
   "source": []
  },
  {
   "cell_type": "markdown",
   "id": "aef9ddc0",
   "metadata": {},
   "source": [
    "#### Building calibration files (cif_build)"
   ]
  },
  {
   "cell_type": "markdown",
   "id": "bb2e7874",
   "metadata": {},
   "source": [
    "The [cif_build function](../../daxa.process.xmm.html#daxa.process.xmm.setup.cif_build)\n",
    "\n"
   ]
  },
  {
   "cell_type": "markdown",
   "id": "4406a212",
   "metadata": {},
   "source": [
    "### EPIC Cameras (CCD)"
   ]
  },
  {
   "cell_type": "markdown",
   "id": "aea2d31e",
   "metadata": {},
   "source": []
  },
  {
   "cell_type": "markdown",
   "id": "c960836d",
   "metadata": {},
   "source": [
    "### Reflection Grating Spectrometer (RGS)"
   ]
  },
  {
   "cell_type": "markdown",
   "id": "12af0cbe",
   "metadata": {},
   "source": []
  },
  {
   "cell_type": "code",
   "execution_count": null,
   "id": "acb8ace5",
   "metadata": {},
   "outputs": [],
   "source": []
  },
  {
   "cell_type": "markdown",
   "id": "885fd8cb",
   "metadata": {},
   "source": [
    "## "
   ]
  }
 ],
 "metadata": {
  "kernelspec": {
   "display_name": "Python 3 (ipykernel)",
   "language": "python",
   "name": "python3"
  },
  "language_info": {
   "codemirror_mode": {
    "name": "ipython",
    "version": 3
   },
   "file_extension": ".py",
   "mimetype": "text/x-python",
   "name": "python",
   "nbconvert_exporter": "python",
   "pygments_lexer": "ipython3",
   "version": "3.9.0"
  }
 },
 "nbformat": 4,
 "nbformat_minor": 5
}
