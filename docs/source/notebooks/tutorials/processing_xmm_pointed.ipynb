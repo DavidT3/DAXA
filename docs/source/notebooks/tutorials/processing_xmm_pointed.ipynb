{
 "cells": [
  {
   "cell_type": "markdown",
   "id": "9f0b85df",
   "metadata": {},
   "source": [
    "# Processing raw XMM-Newton Pointed data"
   ]
  },
  {
   "cell_type": "markdown",
   "id": "042fc3de",
   "metadata": {},
   "source": [
    "This tutorial will teach you how to use DAXA to process raw XMM-Newton data into a science ready state using one line of Python code (or several lines, if you wish to have more control over the settings for each step). **This relies on there being an initialised (either manually before launching Python, or in your bash profile/rc) backend installation of the XMM Science Analysis System (SAS), including accessible calibration files** - DAXA will check for such an installation, and will not allow processing to start without it."
   ]
  },
  {
   "cell_type": "markdown",
   "id": "ffa16c92",
   "metadata": {},
   "source": [
    "## Import Statements"
   ]
  },
  {
   "cell_type": "code",
   "execution_count": 9,
   "id": "1556cc3d",
   "metadata": {},
   "outputs": [],
   "source": [
    "from daxa.mission import XMMPointed\n",
    "from daxa.archive import Archive\n",
    "from daxa.process.simple import full_process_xmm\n",
    "from daxa.process.xmm.setup import cif_build, odf_ingest"
   ]
  },
  {
   "cell_type": "markdown",
   "id": "88f2d074",
   "metadata": {},
   "source": [
    "## An Archive to be processed"
   ]
  },
  {
   "cell_type": "markdown",
   "id": "fd2dd981",
   "metadata": {},
   "source": [
    "Every processing function implemented in DAXA takes an Archive instance as its first argument; if you don't already know what that is then you should go back and read the following tutorials:\n",
    "\n",
    "* [Creating a DAXA archive](archives.html) - This explains how to create an archive, load an existing archive, and the various properties and features of DAXA archives.\n",
    "* [Using DAXA missions](missions.html) - Here we explain what DAXA mission classes are and how to use them to select only the data you need.\n",
    "\n",
    "Here we create an archive of XMM observations of the galaxy cluster Abell 907:"
   ]
  },
  {
   "cell_type": "code",
   "execution_count": 5,
   "id": "47a72dcb",
   "metadata": {},
   "outputs": [
    {
     "name": "stderr",
     "output_type": "stream",
     "text": [
      "/Users/dt237/code/DAXA/daxa/mission/xmm.py:83: UserWarning: 140 of the 17689 observations located for this mission have been removed due to NaN RA or Dec values\n",
      "  self._fetch_obs_info()\n",
      "Downloading XMM-Newton Pointed data: 100%|██████████████████████████████████████| 3/3 [00:36<00:00, 12.05s/it]\n"
     ]
    }
   ],
   "source": [
    "xm = XMMPointed()\n",
    "xm.filter_on_name('A907')\n",
    "arch = Archive('Abell907', xm)"
   ]
  },
  {
   "cell_type": "markdown",
   "id": "c6b2b960",
   "metadata": {},
   "source": [
    "## One-line solution"
   ]
  },
  {
   "cell_type": "markdown",
   "id": "1f51d1fe",
   "metadata": {},
   "source": [
    "Though we provide individual functions that wrap the various steps required to reduce and prepare XMM data, and they can be used separately for greater control over the configuration parameters, we also include a one-line solution which executes the processing steps with default configuration.\n",
    "\n",
    "We believe that the default parameters are adequate for most use cases, and this allows for users unfamiliar with the intricacies of XMM data to easily start working with it. Executing the following will automatically generate cleaned event lists for MOS1, MOS2, PN, RGS1, and RGS2 (if they were selected during mission creation), as well as images and exposure maps for MOS1, MOS2, and PN:"
   ]
  },
  {
   "cell_type": "code",
   "execution_count": 6,
   "id": "b6dc9b96",
   "metadata": {},
   "outputs": [
    {
     "name": "stderr",
     "output_type": "stream",
     "text": [
      "XMM-Newton Pointed - Generating calibration files: 100%|████████████████████████| 3/3 [00:19<00:00,  6.51s/it]\n",
      "XMM-Newton Pointed - Generating ODF summary files: 100%|████████████████████████| 3/3 [00:03<00:00,  1.25s/it]\n",
      "XMM-Newton Pointed - Assembling PN and PN-OOT event lists: 100%|████████████████| 3/3 [03:37<00:00, 72.36s/it]\n",
      "XMM-Newton Pointed - Assembling MOS event lists: 100%|██████████████████████████| 6/6 [01:22<00:00, 13.70s/it]\n",
      "XMM-Newton Pointed - Finding PN/MOS soft-proton flares: 100%|███████████████████| 9/9 [00:17<00:00,  1.93s/it]\n",
      "XMM-Newton Pointed - Generating cleaned PN/MOS event lists: 100%|███████████████| 8/8 [00:03<00:00,  2.62it/s]\n",
      "XMM-Newton Pointed - Generating final PN/MOS event lists: 100%|████████████████| 8/8 [00:00<00:00, 120.67it/s]\n",
      "Generating products of type(s) ccf: 100%|███████████████████████████████████████| 3/3 [00:19<00:00,  6.37s/it]\n",
      "Generating products of type(s) image: 100%|█████████████████████████████████████| 8/8 [00:01<00:00,  7.19it/s]\n",
      "Generating products of type(s) expmap: 100%|████████████████████████████████████| 8/8 [00:22<00:00,  2.84s/it]\n",
      "Generating products of type(s) image: 100%|█████████████████████████████████████| 8/8 [00:01<00:00,  7.01it/s]\n",
      "Generating products of type(s) expmap: 100%|████████████████████████████████████| 8/8 [00:22<00:00,  2.84s/it]\n"
     ]
    }
   ],
   "source": [
    "full_process_xmm(arch)"
   ]
  },
  {
   "cell_type": "markdown",
   "id": "93c4b0af",
   "metadata": {},
   "source": [
    "## Breaking down the XMM processing steps"
   ]
  },
  {
   "cell_type": "markdown",
   "id": "99ea3092",
   "metadata": {},
   "source": [
    "### Setup steps"
   ]
  },
  {
   "cell_type": "markdown",
   "id": "6f5af11d",
   "metadata": {},
   "source": []
  },
  {
   "cell_type": "markdown",
   "id": "51535c6b",
   "metadata": {},
   "source": [
    "#### Building calibration files (cif_build)"
   ]
  },
  {
   "cell_type": "markdown",
   "id": "04c090b7",
   "metadata": {},
   "source": [
    "The [cif_build function](../../daxa.process.xmm.html#daxa.process.xmm.setup.cif_build) function is a wrapper for the XMM SAS tool of the same name - it assembles a CIF, which points other SAS tools to the current calibration files required for whatever XMM instrument they are working on.\n",
    "\n",
    "Only the `analysis_date` parameter of this function affects the files produced by this function (other things can be controlled, such as the number of cores or timeout) - this date determines which calibration files are selected for the generated CIF, and the default is the current date - another date can be passed as a Python datetime object.\n",
    "\n",
    "**All other processing steps depend on this one**"
   ]
  },
  {
   "cell_type": "code",
   "execution_count": 12,
   "id": "6ae79ac6",
   "metadata": {},
   "outputs": [
    {
     "name": "stdout",
     "output_type": "stream",
     "text": [
      "Help on function cif_build in module daxa.process.xmm.setup:\n",
      "\n",
      "cif_build(obs_archive: daxa.archive.base.Archive, num_cores: int = 9, disable_progress: bool = False, analysis_date: Union[str, datetime.datetime] = 'now', timeout: astropy.units.quantity.Quantity = None) -> Tuple[dict, dict, dict, str, int, bool, astropy.units.quantity.Quantity]\n",
      "    A DAXA Python interface for the SAS cifbuild command, used to generate calibration files for XMM observations\n",
      "    prior to processing. The observation date is supplied by the XMM mission instance(s), and is the date when the\n",
      "    observation was started (as acquired from the XSA).\n",
      "    \n",
      "    :param Archive obs_archive: An Archive instance containing XMM mission instances for which observation calibration\n",
      "        files should be generated. This function will fail if no XMM missions are present in the archive.\n",
      "    :param int num_cores: The number of cores to use, default is set to 90% of available.\n",
      "    :param bool disable_progress: Setting this to true will turn off the SAS generation progress bar.\n",
      "    :param str/datetime analysis_date: The analysis date for which to generate calibration file. The default is\n",
      "        'now', but this parameter can be used to create calibration files as they would have been on a past date.\n",
      "    :param Quantity timeout: The amount of time each individual process is allowed to run for, the default is None.\n",
      "        Please note that this is not a timeout for the entire cif_build process, but a timeout for individual\n",
      "        ObsID processes.\n",
      "    :return: Information required by the SAS decorator that will run commands. Top level keys of any dictionaries are\n",
      "        internal DAXA mission names, next level keys are ObsIDs. The return is a tuple containing a) a dictionary of\n",
      "        bash commands, b) a dictionary of final output paths to check, c) a dictionary of extra info (in this case\n",
      "        obs and analysis dates), d) a generation message for the progress bar, e) the number of cores allowed, and\n",
      "        f) whether the progress bar should be hidden or not.\n",
      "    :rtype: Tuple[dict, dict, dict, str, int, bool, Quantity]\n",
      "\n"
     ]
    }
   ],
   "source": [
    "help(cif_build)"
   ]
  },
  {
   "cell_type": "markdown",
   "id": "6277bba6",
   "metadata": {},
   "source": [
    "#### Summarising the available data files (odf_ingest)"
   ]
  },
  {
   "cell_type": "markdown",
   "id": "1b13ad8e",
   "metadata": {},
   "source": [
    "The [odf_ingest function](../../daxa.process.xmm.html#daxa.process.xmm.setup.odf_ingest) function"
   ]
  },
  {
   "cell_type": "markdown",
   "id": "69619af2",
   "metadata": {},
   "source": [
    "### EPIC Cameras (CCD)"
   ]
  },
  {
   "cell_type": "markdown",
   "id": "91738100",
   "metadata": {},
   "source": []
  },
  {
   "cell_type": "markdown",
   "id": "51eba74b",
   "metadata": {},
   "source": [
    "### Reflection Grating Spectrometer (RGS)"
   ]
  },
  {
   "cell_type": "markdown",
   "id": "95378a75",
   "metadata": {},
   "source": []
  },
  {
   "cell_type": "code",
   "execution_count": null,
   "id": "a0a6f58e",
   "metadata": {},
   "outputs": [],
   "source": []
  },
  {
   "cell_type": "markdown",
   "id": "885fd8cb",
   "metadata": {},
   "source": [
    "## "
   ]
  }
 ],
 "metadata": {
  "kernelspec": {
   "display_name": "Python 3 (ipykernel)",
   "language": "python",
   "name": "python3"
  },
  "language_info": {
   "codemirror_mode": {
    "name": "ipython",
    "version": 3
   },
   "file_extension": ".py",
   "mimetype": "text/x-python",
   "name": "python",
   "nbconvert_exporter": "python",
   "pygments_lexer": "ipython3",
   "version": "3.9.0"
  }
 },
 "nbformat": 4,
 "nbformat_minor": 5
}
