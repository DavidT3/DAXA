{
 "cells": [
  {
   "cell_type": "markdown",
   "id": "9f0b85df",
   "metadata": {},
   "source": [
    "# Processing raw XMM-Newton Pointed data"
   ]
  },
  {
   "cell_type": "markdown",
   "id": "042fc3de",
   "metadata": {},
   "source": [
    "This tutorial will teach you how to use DAXA to process raw XMM-Newton data into a science ready state using one line of Python code (or several lines, if you wish to have more control over the settings for each step). **This relies on there being an initialised (either manually before launching Python, or in your bash profile/rc) backend installation of the XMM Science Analysis System (SAS), including accessible calibration files** - DAXA will check for such an installation, and will not allow processing to start without it.\n",
    "\n",
    "**All DAXA processing steps will parallelise as much as possible - processes running on different ObsIDs/instruments/sub-exposures will be run simultaneously (if cores are available)**"
   ]
  },
  {
   "cell_type": "markdown",
   "id": "ffa16c92",
   "metadata": {},
   "source": [
    "## Import Statements"
   ]
  },
  {
   "cell_type": "code",
   "execution_count": 23,
   "id": "bf181ecd",
   "metadata": {},
   "outputs": [],
   "source": [
    "from daxa.mission import XMMPointed\n",
    "from daxa.archive import Archive\n",
    "from daxa.process.simple import full_process_xmm\n",
    "from daxa.process.xmm.setup import cif_build, odf_ingest\n",
    "from daxa.process.xmm.assemble import emchain, epchain, cleaned_evt_lists, merge_subexposures\n",
    "from daxa.process.xmm.check import emanom\n",
    "from daxa.process.xmm.clean import espfilt"
   ]
  },
  {
   "cell_type": "markdown",
   "id": "4e812b0a",
   "metadata": {},
   "source": [
    "## An Archive to be processed"
   ]
  },
  {
   "cell_type": "markdown",
   "id": "fc1c19f6",
   "metadata": {},
   "source": [
    "Every processing function implemented in DAXA takes an Archive instance as its first argument; if you don't already know what that is then you should go back and read the following tutorials:\n",
    "\n",
    "* [Creating a DAXA archive](archives.html) - This explains how to create an archive, load an existing archive, and the various properties and features of DAXA archives.\n",
    "* [Using DAXA missions](missions.html) - Here we explain what DAXA mission classes are and how to use them to select only the data you need.\n",
    "\n",
    "Here we create an archive of XMM observations of the galaxy cluster Abell 907:"
   ]
  },
  {
   "cell_type": "code",
   "execution_count": 5,
   "id": "b179a013",
   "metadata": {},
   "outputs": [
    {
     "name": "stderr",
     "output_type": "stream",
     "text": [
      "/Users/dt237/code/DAXA/daxa/mission/xmm.py:83: UserWarning: 140 of the 17689 observations located for this mission have been removed due to NaN RA or Dec values\n",
      "  self._fetch_obs_info()\n",
      "Downloading XMM-Newton Pointed data: 100%|██████████████████████████████████████| 3/3 [00:36<00:00, 12.05s/it]\n"
     ]
    }
   ],
   "source": [
    "xm = XMMPointed()\n",
    "xm.filter_on_name('A907')\n",
    "arch = Archive('Abell907', xm)"
   ]
  },
  {
   "cell_type": "markdown",
   "id": "a730ace7",
   "metadata": {},
   "source": [
    "## One-line solution"
   ]
  },
  {
   "cell_type": "markdown",
   "id": "a9f346b3",
   "metadata": {},
   "source": [
    "Though we provide individual functions that wrap the various steps required to reduce and prepare XMM data, and they can be used separately for greater control over the configuration parameters, we also include a one-line solution which executes the processing steps with default configuration.\n",
    "\n",
    "We believe that the default parameters are adequate for most use cases, and this allows for users unfamiliar with the intricacies of XMM data to easily start working with it. Executing the following will automatically generate cleaned event lists for MOS1, MOS2, PN, RGS1, and RGS2 (if they were selected during mission creation), as well as images and exposure maps for MOS1, MOS2, and PN:"
   ]
  },
  {
   "cell_type": "code",
   "execution_count": 6,
   "id": "25385833",
   "metadata": {},
   "outputs": [
    {
     "name": "stderr",
     "output_type": "stream",
     "text": [
      "XMM-Newton Pointed - Generating calibration files: 100%|████████████████████████| 3/3 [00:19<00:00,  6.51s/it]\n",
      "XMM-Newton Pointed - Generating ODF summary files: 100%|████████████████████████| 3/3 [00:03<00:00,  1.25s/it]\n",
      "XMM-Newton Pointed - Assembling PN and PN-OOT event lists: 100%|████████████████| 3/3 [03:37<00:00, 72.36s/it]\n",
      "XMM-Newton Pointed - Assembling MOS event lists: 100%|██████████████████████████| 6/6 [01:22<00:00, 13.70s/it]\n",
      "XMM-Newton Pointed - Finding PN/MOS soft-proton flares: 100%|███████████████████| 9/9 [00:17<00:00,  1.93s/it]\n",
      "XMM-Newton Pointed - Generating cleaned PN/MOS event lists: 100%|███████████████| 8/8 [00:03<00:00,  2.62it/s]\n",
      "XMM-Newton Pointed - Generating final PN/MOS event lists: 100%|████████████████| 8/8 [00:00<00:00, 120.67it/s]\n",
      "Generating products of type(s) ccf: 100%|███████████████████████████████████████| 3/3 [00:19<00:00,  6.37s/it]\n",
      "Generating products of type(s) image: 100%|█████████████████████████████████████| 8/8 [00:01<00:00,  7.19it/s]\n",
      "Generating products of type(s) expmap: 100%|████████████████████████████████████| 8/8 [00:22<00:00,  2.84s/it]\n",
      "Generating products of type(s) image: 100%|█████████████████████████████████████| 8/8 [00:01<00:00,  7.01it/s]\n",
      "Generating products of type(s) expmap: 100%|████████████████████████████████████| 8/8 [00:22<00:00,  2.84s/it]\n"
     ]
    }
   ],
   "source": [
    "full_process_xmm(arch)"
   ]
  },
  {
   "cell_type": "markdown",
   "id": "c1ec2189",
   "metadata": {},
   "source": [
    "## General arguments for all processing functions"
   ]
  },
  {
   "cell_type": "markdown",
   "id": "761298d6",
   "metadata": {},
   "source": [
    "There are some arguments that all processing functions will take - they don't control the behaviour of the processing step itself, but instead how the commands are executed:\n",
    "\n",
    "* **num_cores** - The number of cores that the function is allowed to use. This is set globally by the daxa.NUM_CORES constant (if set before any other DAXA function is imported), and by default is 90% of the cores available on the system.\n",
    "* **timeout** - This controls how long an individual instance of the process is allowed to run before it is cancelled; the whole function may run for longer depending how many pieces of data need processing and how many cores are allocated. The default is generally null, but it can be set using an astropy quantity with time units."
   ]
  },
  {
   "cell_type": "markdown",
   "id": "e251b143",
   "metadata": {},
   "source": [
    "## Breaking down the XMM processing steps"
   ]
  },
  {
   "cell_type": "markdown",
   "id": "1e12d933",
   "metadata": {},
   "source": [
    "### Setup steps"
   ]
  },
  {
   "cell_type": "markdown",
   "id": "fc3def1d",
   "metadata": {},
   "source": [
    "These functions set up the necessary environment/files for the further processing/reduction of XMM data."
   ]
  },
  {
   "cell_type": "markdown",
   "id": "fe8289a4",
   "metadata": {},
   "source": [
    "#### Building calibration files (cif_build)"
   ]
  },
  {
   "cell_type": "markdown",
   "id": "c32fdc1e",
   "metadata": {},
   "source": [
    "The [cif_build function](../../daxa.process.xmm.html#daxa.process.xmm.setup.cif_build) function is a wrapper for the XMM SAS tool of the same name - it assembles a CIF, which points other SAS tools to the current calibration files required for whatever XMM instrument they are working on.\n",
    "\n",
    "Only the `analysis_date` parameter of this function affects the files produced by this function (other things can be controlled, such as the number of cores or timeout) - this date determines which calibration files are selected for the generated CIF, and the default is the current date - another date can be passed as a Python datetime object.\n",
    "\n",
    "**All other processing steps depend on this one**"
   ]
  },
  {
   "cell_type": "code",
   "execution_count": 12,
   "id": "a55ca768",
   "metadata": {},
   "outputs": [
    {
     "name": "stdout",
     "output_type": "stream",
     "text": [
      "Help on function cif_build in module daxa.process.xmm.setup:\n",
      "\n",
      "cif_build(obs_archive: daxa.archive.base.Archive, num_cores: int = 9, disable_progress: bool = False, analysis_date: Union[str, datetime.datetime] = 'now', timeout: astropy.units.quantity.Quantity = None) -> Tuple[dict, dict, dict, str, int, bool, astropy.units.quantity.Quantity]\n",
      "    A DAXA Python interface for the SAS cifbuild command, used to generate calibration files for XMM observations\n",
      "    prior to processing. The observation date is supplied by the XMM mission instance(s), and is the date when the\n",
      "    observation was started (as acquired from the XSA).\n",
      "    \n",
      "    :param Archive obs_archive: An Archive instance containing XMM mission instances for which observation calibration\n",
      "        files should be generated. This function will fail if no XMM missions are present in the archive.\n",
      "    :param int num_cores: The number of cores to use, default is set to 90% of available.\n",
      "    :param bool disable_progress: Setting this to true will turn off the SAS generation progress bar.\n",
      "    :param str/datetime analysis_date: The analysis date for which to generate calibration file. The default is\n",
      "        'now', but this parameter can be used to create calibration files as they would have been on a past date.\n",
      "    :param Quantity timeout: The amount of time each individual process is allowed to run for, the default is None.\n",
      "        Please note that this is not a timeout for the entire cif_build process, but a timeout for individual\n",
      "        ObsID processes.\n",
      "    :return: Information required by the SAS decorator that will run commands. Top level keys of any dictionaries are\n",
      "        internal DAXA mission names, next level keys are ObsIDs. The return is a tuple containing a) a dictionary of\n",
      "        bash commands, b) a dictionary of final output paths to check, c) a dictionary of extra info (in this case\n",
      "        obs and analysis dates), d) a generation message for the progress bar, e) the number of cores allowed, and\n",
      "        f) whether the progress bar should be hidden or not.\n",
      "    :rtype: Tuple[dict, dict, dict, str, int, bool, Quantity]\n",
      "\n"
     ]
    }
   ],
   "source": [
    "help(cif_build)"
   ]
  },
  {
   "cell_type": "markdown",
   "id": "36c0012e",
   "metadata": {},
   "source": [
    "#### Summarising the available data files (odf_ingest)"
   ]
  },
  {
   "cell_type": "markdown",
   "id": "93c86f9c",
   "metadata": {},
   "source": [
    "The [odf_ingest function](../../daxa.process.xmm.html#daxa.process.xmm.setup.odf_ingest) function simply examines the observation data file (ODF) directory, and determines the instruments (including observing modes and sub-exposures) that have data present - it then creates a SAS summary file.\n",
    "\n",
    "Our implementation of this function wraps the original SAS tool, and then adds a second step - this parses the SAS summary file and extracts the information that is relevant to whether we can use a particular instrument (and sub-exposure of an instrument) for astrophysics. This is what populates the XMM entry in the `observation_summaries` property of the archive class.\n",
    "\n",
    "**All subsequent steps depend on this one - and observation_summaries will have no XMM entry until this is run**"
   ]
  },
  {
   "cell_type": "code",
   "execution_count": 13,
   "id": "9f3f06e3",
   "metadata": {},
   "outputs": [
    {
     "name": "stdout",
     "output_type": "stream",
     "text": [
      "Help on function odf_ingest in module daxa.process.xmm.setup:\n",
      "\n",
      "odf_ingest(obs_archive: daxa.archive.base.Archive, num_cores: int = 9, disable_progress: bool = False, timeout: astropy.units.quantity.Quantity = None)\n",
      "    This function runs the SAS odfingest task, which creates a summary of the raw data available in the ODF\n",
      "    directory, and is used by many SAS processing tasks.\n",
      "    \n",
      "    :param Archive obs_archive: An Archive instance containing XMM mission instances for which observation summary\n",
      "        files should be generated. This function will fail if no XMM missions are present in the archive.\n",
      "    :param int num_cores: The number of cores to use, default is set to 90% of available.\n",
      "    :param bool disable_progress: Setting this to true will turn off the SAS generation progress bar.\n",
      "    :param Quantity timeout: The amount of time each individual process is allowed to run for, the default is None.\n",
      "        Please note that this is not a timeout for the entire odf_ingest process, but a timeout for individual\n",
      "        ObsID processes.\n",
      "    :return: Information required by the SAS decorator that will run commands. Top level keys of any dictionaries are\n",
      "        internal DAXA mission names, next level keys are ObsIDs. The return is a tuple containing a) a dictionary of\n",
      "        bash commands, b) a dictionary of final output paths to check, c) a dictionary of extra info (in this case\n",
      "        obs and analysis dates), d) a generation message for the progress bar, e) the number of cores allowed, and\n",
      "        f) whether the progress bar should be hidden or not.\n",
      "    :rtype: Tuple[dict, dict, dict, str, int, bool, Quantity]\n",
      "\n"
     ]
    }
   ],
   "source": [
    "help(odf_ingest)"
   ]
  },
  {
   "cell_type": "markdown",
   "id": "45dde81b",
   "metadata": {},
   "source": [
    "### EPIC Cameras (CCD)"
   ]
  },
  {
   "cell_type": "markdown",
   "id": "a179da94",
   "metadata": {},
   "source": []
  },
  {
   "cell_type": "markdown",
   "id": "ce7949aa",
   "metadata": {},
   "source": [
    "#### Assembling whole-camera MOS initial event lists (emchain)"
   ]
  },
  {
   "cell_type": "markdown",
   "id": "b7afbc3f",
   "metadata": {},
   "source": [
    "The [emchain function](../../daxa.process.xmm.html#daxa.process.xmm.assemble.emchain) is what assembles the raw, separate-CCD-level, event lists and files into a single raw events list for a whole XMM MOS camera exposure. If there are **multiple sub-exposures** which DAXA has identified as being usable, then a separate raw event list is created for each of them - they are combined in a later processing step.\n",
    "\n",
    "We have implemented this method so that MOS1 and MOS2 (and sub-exposures, if present) data are processed in parallel for a given observation (and all observations are processed in parallel as well).\n",
    "\n",
    "Only the `process_unscheduled` argument passed to emchain can change the files produced, as it controls whether unscheduled sub-exposures should be processed or not - the default is True."
   ]
  },
  {
   "cell_type": "code",
   "execution_count": 15,
   "id": "158b9721",
   "metadata": {},
   "outputs": [
    {
     "name": "stdout",
     "output_type": "stream",
     "text": [
      "Help on function emchain in module daxa.process.xmm.assemble:\n",
      "\n",
      "emchain(obs_archive: daxa.archive.base.Archive, process_unscheduled: bool = True, num_cores: int = 9, disable_progress: bool = False, timeout: astropy.units.quantity.Quantity = None)\n",
      "    This function runs the emchain SAS process on XMM missions in the passed archive, which assembles the\n",
      "    MOS-specific ODFs into combined photon event lists - rather than the per CCD files that existed before. The\n",
      "    emchain manual can be found here (https://xmm-tools.cosmos.esa.int/external/sas/current/doc/emchain.pdf) and\n",
      "    gives detailed explanations of the process.\n",
      "    \n",
      "    The DAXA wrapper does not allow emchain to automatically loop through all the sub-exposures for a given\n",
      "    ObsID-MOSX combo, but rather creates a separate process call for each of them. This allows for greater\n",
      "    parallelisation (if on a system with a significant core count), but also allows the same level of granularity\n",
      "    in the logging of processing of different sub-exposures as in DAXA's epchain implementation.\n",
      "    \n",
      "    The particular CCDs to be processed are not specified in emchain, unlike in epchain, because it can sometimes\n",
      "    have unintended consequences. For instance processing a MOS observation in FastUncompressed mode, with timing\n",
      "    on CCD 1 and imaging everywhere else, can cause emchain to fail (even though no actual failure occurs) because\n",
      "    the submode is set to Unknown, rather than FastUncompressed.\n",
      "    \n",
      "    :param Archive obs_archive: An Archive instance containing XMM mission instances with MOS observations for\n",
      "        which emchain should be run. This function will fail if no XMM missions are present in the archive.\n",
      "    :param bool process_unscheduled: Whether this function should also process sub-exposures marked 'U', for\n",
      "        unscheduled. Default is True, in which case they will be processed.\n",
      "    :param int num_cores: The number of cores to use, default is set to 90% of available.\n",
      "    :param bool disable_progress: Setting this to true will turn off the SAS generation progress bar.\n",
      "    :param Quantity timeout: The amount of time each individual process is allowed to run for, the default is None.\n",
      "        Please note that this is not a timeout for the entire emchain process, but a timeout for individual\n",
      "        ObsID-subexposure processes.\n",
      "    :return: Information required by the SAS decorator that will run commands. Top level keys of any dictionaries are\n",
      "        internal DAXA mission names, next level keys are ObsIDs. The return is a tuple containing a) a dictionary of\n",
      "        bash commands, b) a dictionary of final output paths to check, c) a dictionary of extra info (in this case\n",
      "        obs and analysis dates), d) a generation message for the progress bar, e) the number of cores allowed, and\n",
      "        f) whether the progress bar should be hidden or not.\n",
      "    :rtype: Tuple[dict, dict, dict, str, int, bool, Quantity]\n",
      "\n"
     ]
    }
   ],
   "source": [
    "help(emchain)"
   ]
  },
  {
   "cell_type": "markdown",
   "id": "b885a569",
   "metadata": {},
   "source": [
    "#### Assembling whole-camera PN initial event lists (epchain)"
   ]
  },
  {
   "cell_type": "markdown",
   "id": "3a8538df",
   "metadata": {},
   "source": [
    "The [epchain function](../../daxa.process.xmm.html#daxa.process.xmm.assemble.epchain) serves much the same purpose as emchain, but for PN camera data. There is only one PN camera, but the presence of multiple sub-exposures is still possible. This function generates raw, whole-camera, event lists just like emchain, but also creates whole-camera out-of-time (OOT) event lists, which attempts to identify event lists that were detected during a CCD readout (this can leave a characteristic streak in the direction of readout for bright sources in PN observations)."
   ]
  },
  {
   "cell_type": "code",
   "execution_count": 16,
   "id": "53f66c50",
   "metadata": {},
   "outputs": [
    {
     "name": "stdout",
     "output_type": "stream",
     "text": [
      "Help on function epchain in module daxa.process.xmm.assemble:\n",
      "\n",
      "epchain(obs_archive: daxa.archive.base.Archive, process_unscheduled: bool = True, num_cores: int = 9, disable_progress: bool = False, timeout: astropy.units.quantity.Quantity = None)\n",
      "    This function runs the epchain SAS process on XMM missions in the passed archive, which assembles the\n",
      "    PN-specific ODFs into combined photon event lists - rather than the per CCD files that existed before. A run of\n",
      "    epchain for out of time (OOT) events is also performed as part of this function call. The epchain manual can be\n",
      "    found here (https://xmm-tools.cosmos.esa.int/external/sas/current/doc/epchain.pdf) and gives detailed\n",
      "    explanations of the process.\n",
      "    \n",
      "    Per the advice of the SAS epchain manual, the OOT event list epchain call is performed first, and its intermediate\n",
      "    files are saved and then used for the normal call to epchain.\n",
      "    \n",
      "    :param Archive obs_archive: An Archive instance containing XMM mission instances with PN observations for\n",
      "        which epchain should be run. This function will fail if no XMM missions are present in the archive.\n",
      "    :param bool process_unscheduled: Whether this function should also process sub-exposures marked 'U', for\n",
      "        unscheduled. Default is True, in which case they will be processed.\n",
      "    :param int num_cores: The number of cores to use, default is set to 90% of available.\n",
      "    :param bool disable_progress: Setting this to true will turn off the SAS generation progress bar.\n",
      "    :param Quantity timeout: The amount of time each individual process is allowed to run for, the default is None.\n",
      "        Please note that this is not a timeout for the entire epchain process, but a timeout for individual\n",
      "        ObsID-subexposure processes.\n",
      "    :return: Information required by the SAS decorator that will run commands. Top level keys of any dictionaries are\n",
      "        internal DAXA mission names, next level keys are ObsIDs. The return is a tuple containing a) a dictionary of\n",
      "        bash commands, b) a dictionary of final output paths to check, c) a dictionary of extra info (in this case\n",
      "        obs and analysis dates), d) a generation message for the progress bar, e) the number of cores allowed, and\n",
      "        f) whether the progress bar should be hidden or not.\n",
      "    :rtype: Tuple[dict, dict, dict, str, int, bool, Quantity]\n",
      "\n"
     ]
    }
   ],
   "source": [
    "help(epchain)"
   ]
  },
  {
   "cell_type": "markdown",
   "id": "dbb23cd7",
   "metadata": {},
   "source": [
    "#### Searching for anomalous MOS CCD states (emanom) "
   ]
  },
  {
   "cell_type": "markdown",
   "id": "87737c7e",
   "metadata": {},
   "source": [
    "The [emanom function](../../daxa.process.xmm.html#daxa.process.xmm.check.emanom) wraps the SAS function of the same name, and is an **optional** step that finds MOS CCDs which have operated in an 'anomalous' state, where the  background at E < 1 keV is strongly enhanced. However, it should be noted that the \"anonymous\" anomalous state of MOS1 CCD#4 is not always detectable from the unexposed corner data.\n",
    "\n",
    "**We note that this is not enabled by default in the `full_process_xmm` function, and your results may vary**."
   ]
  },
  {
   "cell_type": "code",
   "execution_count": 26,
   "id": "f8fd39f7",
   "metadata": {},
   "outputs": [
    {
     "name": "stdout",
     "output_type": "stream",
     "text": [
      "Help on function emanom in module daxa.process.xmm.check:\n",
      "\n",
      "emanom(obs_archive: daxa.archive.base.Archive, num_cores: int = 9, disable_progress: bool = False, timeout: astropy.units.quantity.Quantity = None)\n",
      "    This function runs the SAS emanom function, which attempts to identify when MOS CCDs are have operated in an\n",
      "    'anomalous' state, where the  background at E < 1 keV is strongly enhanced. Data above 2 keV are unaffected, so\n",
      "    CCDs in anomalous states used for science where the soft X-rays are unnecessary do not need to be excluded.\n",
      "    \n",
      "    The emanom task calculates the (2.5-5.0 keV)/(0.4-0.8 keV) hardness ratio from the corner data to determine\n",
      "    whether a chip is in an anomalous state. However, it should be noted that the \"anonymous\" anomalous state of\n",
      "    MOS1 CCD#4 is not always detectable from the unexposed corner data.\n",
      "    \n",
      "    This functionality is only usable if you have SAS v19.0.0 or higher - a version check will be performed and\n",
      "    a warning raised (though no error will be raised) if you use this function with an earlier SAS version.\n",
      "    \n",
      "    :param Archive obs_archive: An Archive instance containing XMM mission instances with MOS observations for\n",
      "        which emchain should be run. This function will fail if no XMM missions are present in the archive.\n",
      "    :param int num_cores: The number of cores to use, default is set to 90% of available.\n",
      "    :param bool disable_progress: Setting this to true will turn off the SAS generation progress bar.\n",
      "    :param Quantity timeout: The amount of time each individual process is allowed to run for, the default is None.\n",
      "        Please note that this is not a timeout for the entire emanom process, but a timeout for individual\n",
      "        ObsID-subexposure processes.\n",
      "    :return: Information required by the SAS decorator that will run commands. Top level keys of any dictionaries are\n",
      "        internal DAXA mission names, next level keys are ObsIDs. The return is a tuple containing a) a dictionary of\n",
      "        bash commands, b) a dictionary of final output paths to check, c) a dictionary of extra info (in this case\n",
      "        obs and analysis dates), d) a generation message for the progress bar, e) the number of cores allowed, and\n",
      "        f) whether the progress bar should be hidden or not.\n",
      "    :rtype: Tuple[dict, dict, dict, str, int, bool, Quantity]\n",
      "\n"
     ]
    }
   ],
   "source": [
    "help(emanom)"
   ]
  },
  {
   "cell_type": "markdown",
   "id": "2d83ecd0",
   "metadata": {},
   "source": [
    "#### Searching for flared periods of the observations (espfilt)"
   ]
  },
  {
   "cell_type": "markdown",
   "id": "f1a96afc",
   "metadata": {},
   "source": [
    "This particularly important function ([espfilt](../../daxa.process.xmm.html#daxa.process.xmm.clean.espfilt)) wraps the SAS tool of the same name, and attempts to automatically detect periods of observations which have been overwhelmed by soft-proton flaring. The ultimate result of this process is a set of 'good time intervals', which are periods of a particular observation that have been deemed safe to use; **this check if performed on all instruments and sub-exposures of an observation independently**.\n",
    "\n",
    "Several configuration options are provided, mirroring those that can be passed into the espfilt SAS tool:\n",
    "\n",
    "* **method** - There are two methods of identifying flaring available, 'histogram' (the default) and 'ratio'. The histogram method fits a gaussian to the whole-FoV count-rate distribution (in order to find a mean and a standard deviation), and then defines good-time intervals by finding the time periods where the whole-FoV lightcurve count-rate is within `allowed_sigma` of the mean. The 'ratio' method compares the count-rate from the FoV with the count-rate in the unexposed corners of XMM observations (i.e. there is an active CCD but the telescope is not focusing photons or soft-protons onto it); an acceptable ratio is defined by `ratio`, and points where the lightcurve ratio is lower than or equal to this are considered good-time intervals.\n",
    "* **with_smoothing** - Should smoothing be applied to the light curve data. The default is True, in which case a smoothing factor of 51 seconds is used - an astropy quantity with time units may also be passed to set a custom value.\n",
    "* **with_binning** - Should binning be applied to the light curve data. The default is True, in which case a binning size of 60 seconds is used - an astropy quantity with time units may also be passed to set a custom value.\n",
    "* **ratio** - The acceptable ratio for the 'ratio' method.\n",
    "* **filter_lo_en** - The lower energy bound used for soft-proton flaring identification; the default is 2.5 keV.\n",
    "* **filter_hi_en** - The upper energy bound used for soft-proton flaring identification; the default is 8.5 keV.\n",
    "* **range_scale** - Histogram fit range scale factor. The default is a dictionary with an entry for 'pn' (15.0) and an entry for 'mos' (6.0).\n",
    "* **allowed_sigma** - Number of stdev from the mean count-rate allowed before a period is considered to **not** be a good time interval. Default is 3.\n",
    "* **gauss_fit_lims** - The parameter limts for gaussian fits for the histogram method, the default is (0.1, 6.5)."
   ]
  },
  {
   "cell_type": "code",
   "execution_count": 20,
   "id": "e96aa3dc",
   "metadata": {},
   "outputs": [
    {
     "name": "stdout",
     "output_type": "stream",
     "text": [
      "Help on function espfilt in module daxa.process.xmm.clean:\n",
      "\n",
      "espfilt(obs_archive: daxa.archive.base.Archive, method: str = 'histogram', with_smoothing: Union[bool, astropy.units.quantity.Quantity] = True, with_binning: Union[bool, astropy.units.quantity.Quantity] = True, ratio: float = 1.2, filter_lo_en: astropy.units.quantity.Quantity = <Quantity 2500. eV>, filter_hi_en: astropy.units.quantity.Quantity = <Quantity 8500. eV>, range_scale: dict = None, allowed_sigma: float = 3.0, gauss_fit_lims: Tuple[float, float] = (0.1, 6.5), num_cores: int = 9, disable_progress: bool = False, timeout: astropy.units.quantity.Quantity = None)\n",
      "    The DAXA wrapper for the XMM SAS task espfilt, which attempts to identify good time intervals with minimal\n",
      "    soft-proton flaring for individual sub-exposures (if multiple have been taken) of XMM ObsID-Instrument\n",
      "    combinations. Both EPIC-PN and EPIC-MOS observations will be processed by this function.\n",
      "    \n",
      "    This function does not generate final event lists, but instead is used to create good-time-interval files\n",
      "    which are then applied to the creation of final event lists, along with other user-specified filters, in the\n",
      "    'cleaned_evt_lists' function.\n",
      "    \n",
      "    :param Archive obs_archive: An Archive instance containing XMM mission instances with PN/MOS observations for\n",
      "        which espfilt should be run. This function will fail if no XMM missions are present in the archive.\n",
      "    :param str method: The method that espfilt should use to find soft proton flaring. Either 'ratio' or 'histogram'\n",
      "        can be selected. The default is 'histogram'.\n",
      "    :param bool/Quantity with_smoothing: Should smoothing be applied to the light curve data. If set to True (the\n",
      "        default) a smoothing factor of 51 seconds is used, if set to False smoothing will be turned off, if an astropy\n",
      "        Quantity is passed (with units convertible to seconds) then that value will be used for the smoothing factor.\n",
      "    :param bool/Quantity with_binning: Should binning be applied to the light curve data. If set to True (the\n",
      "        default) a bin size of 60 seconds is used, if set to False binning will be turned off, if an astropy\n",
      "        Quantity is passed (with units convertible to seconds) then that value will be used for the bin size.\n",
      "    :param float ratio: Flaring ratio of annulus counts.\n",
      "    :param Quantity filter_lo_en: The lower energy bound for the event lists used for soft proton flaring\n",
      "        identification.\n",
      "    :param Quantity filter_hi_en: The upper energy bound for the event lists used for soft proton flaring\n",
      "        identification.\n",
      "    :param dict range_scale: Histogram fit range scale factor. The default is a dictionary with an entry for 'pn'\n",
      "        (15.0) and an entry for 'mos' (6.0).\n",
      "    :param float allowed_sigma: Limit in sigma for unflared rates.\n",
      "    :param Tuple[float, float] gauss_fit_lims: The parameter limits for gaussian fits.\n",
      "    :param int num_cores: The number of cores to use, default is set to 90% of available.\n",
      "    :param bool disable_progress: Setting this to true will turn off the SAS generation progress bar.\n",
      "    :param Quantity timeout: The amount of time each individual process is allowed to run for, the default is None.\n",
      "        Please note that this is not a timeout for the entire espfilt process, but a timeout for individual\n",
      "        ObsID-Inst-subexposure processes.\n",
      "    :return: Information required by the SAS decorator that will run commands. Top level keys of any dictionaries are\n",
      "        internal DAXA mission names, next level keys are ObsIDs. The return is a tuple containing a) a dictionary of\n",
      "        bash commands, b) a dictionary of final output paths to check, c) a dictionary of extra info (in this case\n",
      "        obs and analysis dates), d) a generation message for the progress bar, e) the number of cores allowed, and\n",
      "        f) whether the progress bar should be hidden or not.\n",
      "    :rtype: Tuple[dict, dict, dict, str, int, bool, Quantity]\n",
      "\n"
     ]
    }
   ],
   "source": [
    "help(espfilt)"
   ]
  },
  {
   "cell_type": "markdown",
   "id": "6940372f",
   "metadata": {},
   "source": [
    "#### Applying event filtering and good-time-intervals to the raw event lists (cleaned_evt_lists)"
   ]
  },
  {
   "cell_type": "markdown",
   "id": "ffebadc6",
   "metadata": {},
   "source": [
    "The [cleaned_evt_lists](../../daxa.process.xmm.html#daxa.process.xmm.assemble.cleaned_evt_lists) function uses SAS' evselect tool to both apply the GTIs generated by the espfilt function, and to apply further filtering of events as directed by the user. \n",
    "\n",
    "We allow for filtering based on flag, pattern, energy, and MOS anomolous states (if the emanon task was run) - the user can also define custom filtering expressions. The MOS and PN filtering statements are defined separately, as it is standard practise to use different filtering for the different instruments. The exact behaviour is controlled by passing the following arguments:\n",
    "\n",
    "* **lo_en** - The lowest energy of event that should be left in the output cleaned event list. The default is None, in which case no energy filter is applied.\n",
    "* **hi_en** - The highest energy of event that should be left in the output cleaned event list. The default is None, in which case no energy filter is applied.\n",
    "* **pn_filt_expr** - This essentially lets the user set the evselect expression keyword, and determines what filters should be applied to the PN event lists (other than energy range and good time interval application) - the default is (\"#XMMEA_EP\", \"(PATTERN <= 4)\", \"(FLAG .eq. 0)\"), where the elements of the tuple are combined into the base filtering expression.\n",
    "* **mos_filt_expr** - This essentially lets the user set the evselect expression keyword, and determines what filters should be applied to the MOS event lists (other than energy range and good time interval application) - the default is (\"#XMMEA_EM\", \"(PATTERN <= 12)\", \"(FLAG .eq. 0)\"), where the elements of the tuple are combined into the base filtering expression.\n",
    "* **filt_mos_anom_state** - Whether the function should use the results of an 'emanom' run to identify and remove MOS CCDs that are in anomolous states. Default is 'False', meaning no such filtering would be applied.\n",
    "* **acc_mos_anom_states** - A list/tuple of acceptable MOS CCD status codes found by emanom (status- G is good at all energies, I is intermediate for E<1 keV, B is bad for E<1 keV, O is off, chip not in use, U is undetermined (low band counts <= 0))."
   ]
  },
  {
   "cell_type": "code",
   "execution_count": 22,
   "id": "807f43c0",
   "metadata": {},
   "outputs": [
    {
     "name": "stdout",
     "output_type": "stream",
     "text": [
      "Help on function cleaned_evt_lists in module daxa.process.xmm.assemble:\n",
      "\n",
      "cleaned_evt_lists(obs_archive: daxa.archive.base.Archive, lo_en: astropy.units.quantity.Quantity = None, hi_en: astropy.units.quantity.Quantity = None, pn_filt_expr: Union[str, List[str]] = ('#XMMEA_EP', '(PATTERN <= 4)', '(FLAG .eq. 0)'), mos_filt_expr: Union[str, List[str]] = ('#XMMEA_EM', '(PATTERN <= 12)', '(FLAG .eq. 0)'), filt_mos_anom_state: bool = False, acc_mos_anom_states: Union[List[str], str] = ('G', 'I', 'U'), num_cores: int = 9, disable_progress: bool = False, timeout: astropy.units.quantity.Quantity = None)\n",
      "    This function is used to apply the soft-proton filtering (along with any other filtering you may desire, including\n",
      "    the setting of energy limits) to XMM-Newton event lists, resulting in the creation of sets of cleaned event lists\n",
      "    which are ready to be analysed (or merged together, if there are multiple exposures for a particular\n",
      "    observation-instrument combination).\n",
      "    \n",
      "    :param Archive obs_archive: An Archive instance containing XMM mission instances for which cleaned event lists\n",
      "        should be created. This function will fail if no XMM missions are present in the archive.\n",
      "    :param Quantity lo_en: The lower bound of an energy filter to be applied to the cleaned, filtered, event lists. If\n",
      "        'lo_en' is set to an Astropy Quantity, then 'hi_en' must be as well. Default is None, in which case no\n",
      "        energy filter is applied.\n",
      "    :param Quantity hi_en: The upper bound of an energy filter to be applied to the cleaned, filtered, event lists. If\n",
      "        'hi_en' is set to an Astropy Quantity, then 'lo_en' must be as well. Default is None, in which case no\n",
      "        energy filter is applied.\n",
      "    :param str/List[str]/Tuple[str] pn_filt_expr: The filter expressions to be applied to EPIC-PN event lists. Either\n",
      "        a single string expression can be passed, or a list/tuple of separate expressions, which will be combined\n",
      "        using '&&' logic before being used as the expression for evselect. Other expression components can be\n",
      "        added during the process of the function, such as GTI filtering and energy filtering.\n",
      "    :param str/List[str]/Tuple[str] mos_filt_expr: The filter expressions to be applied to EPIC-MOS event lists. Either\n",
      "        a single string expression can be passed, or a list/tuple of separate expressions, which will be combined\n",
      "        using '&&' logic before being used as the expression for evselect. Other expression components can be\n",
      "        added during the process of the function, such as GTI filtering, energy filtering, and anomalous state CCD\n",
      "        filtering..\n",
      "    :param bool filt_mos_anom_state: Whether this function should use the results of an 'emanom' run\n",
      "        to identify and remove MOS CCDs that are in anomolous states. If 'False' is passed then no such filtering\n",
      "        will be applied.\n",
      "    :param List[str]/str acc_mos_anom_states: A list/tuple of acceptable MOS CCD status codes found by emanom\n",
      "        (status- G is good at all energies, I is intermediate for E<1 keV, B is bad for E<1 keV, O is off, chip\n",
      "        not in use, U is undetermined (low band counts <= 0)).\n",
      "    :param int num_cores: The number of cores to use, default is set to 90% of available.\n",
      "    :param bool disable_progress: Setting this to true will turn off the SAS generation progress bar.\n",
      "    :param Quantity timeout: The amount of time each individual process is allowed to run for, the default is None.\n",
      "        Please note that this is not a timeout for the entire cleaned_evt_lists process, but a timeout for individual\n",
      "        ObsID-Inst-subexposure processes.\n",
      "    :return: Information required by the SAS decorator that will run commands. Top level keys of any dictionaries are\n",
      "        internal DAXA mission names, next level keys are ObsIDs. The return is a tuple containing a) a dictionary of\n",
      "        bash commands, b) a dictionary of final output paths to check, c) a dictionary of extra info (in this case\n",
      "        obs and analysis dates), d) a generation message for the progress bar, e) the number of cores allowed, and\n",
      "        f) whether the progress bar should be hidden or not.\n",
      "    :rtype: Tuple[dict, dict, dict, str, int, bool, Quantity]\n",
      "\n"
     ]
    }
   ],
   "source": [
    "help(cleaned_evt_lists)"
   ]
  },
  {
   "cell_type": "markdown",
   "id": "b1fb427d",
   "metadata": {},
   "source": [
    "#### Finalising the event lists by combining sub-exposures (merge_subexposures)"
   ]
  },
  {
   "cell_type": "markdown",
   "id": "64eaf2ca",
   "metadata": {},
   "source": [
    "The [merge_subexposures](../../daxa.process.xmm.html#daxa.process.xmm.assemble.merge_subexposures) function will automatically check for cases where a particular instrument of a particular ObsID has multiple sub-exposures, and then it will automatically combine them. There are no user-provided arguments which will affect the output of this function, only the standard arguments to set number of cores and timeout."
   ]
  },
  {
   "cell_type": "code",
   "execution_count": 24,
   "id": "3a6daaf3",
   "metadata": {},
   "outputs": [
    {
     "name": "stdout",
     "output_type": "stream",
     "text": [
      "Help on function merge_subexposures in module daxa.process.xmm.assemble:\n",
      "\n",
      "merge_subexposures(obs_archive: daxa.archive.base.Archive, num_cores: int = 9, disable_progress: bool = False, timeout: astropy.units.quantity.Quantity = None)\n",
      "    A function to identify cases where an instrument for a particular XMM observation has multiple\n",
      "    sub-exposures, for which the event lists can be merged. This produces a final event list, which is a\n",
      "    combination of the sub-exposures.\n",
      "    \n",
      "    For those observation-instrument combinations with only a single\n",
      "    exposure, this function will rename the cleaned event list so that the naming convention is comparable\n",
      "    to the merged event list naming convention (i.e. sub-exposure identifier will be removed).\n",
      "    \n",
      "    :param Archive obs_archive: An Archive instance containing XMM mission instances for which cleaned event lists\n",
      "        should be created. This function will fail if no XMM missions are present in the archive.\n",
      "    :param int num_cores: The number of cores to use, default is set to 90% of available.\n",
      "    :param bool disable_progress: Setting this to true will turn off the SAS generation progress bar.\n",
      "    :param Quantity timeout: The amount of time each individual process is allowed to run for, the default is None.\n",
      "        Please note that this is not a timeout for the entire merge_subexposures process, but a timeout for individual\n",
      "        ObsID-Inst processes.\n",
      "    :return: Information required by the SAS decorator that will run commands. Top level keys of any dictionaries are\n",
      "        internal DAXA mission names, next level keys are ObsIDs. The return is a tuple containing a) a dictionary of\n",
      "        bash commands, b) a dictionary of final output paths to check, c) a dictionary of extra info (in this case\n",
      "        obs and analysis dates), d) a generation message for the progress bar, e) the number of cores allowed, and\n",
      "        f) whether the progress bar should be hidden or not.\n",
      "    :rtype: Tuple[dict, dict, dict, str, int, bool, Quantity]\n",
      "\n"
     ]
    }
   ],
   "source": [
    "help(merge_subexposures)"
   ]
  },
  {
   "cell_type": "markdown",
   "id": "c2892c87",
   "metadata": {},
   "source": [
    "### Reflection Grating Spectrometer (RGS)"
   ]
  },
  {
   "cell_type": "markdown",
   "id": "cc2b2962",
   "metadata": {},
   "source": []
  },
  {
   "cell_type": "code",
   "execution_count": null,
   "id": "d2783c0a",
   "metadata": {},
   "outputs": [],
   "source": []
  },
  {
   "cell_type": "markdown",
   "id": "885fd8cb",
   "metadata": {},
   "source": [
    "## "
   ]
  }
 ],
 "metadata": {
  "kernelspec": {
   "display_name": "Python 3 (ipykernel)",
   "language": "python",
   "name": "python3"
  },
  "language_info": {
   "codemirror_mode": {
    "name": "ipython",
    "version": 3
   },
   "file_extension": ".py",
   "mimetype": "text/x-python",
   "name": "python",
   "nbconvert_exporter": "python",
   "pygments_lexer": "ipython3",
   "version": "3.9.0"
  }
 },
 "nbformat": 4,
 "nbformat_minor": 5
}
