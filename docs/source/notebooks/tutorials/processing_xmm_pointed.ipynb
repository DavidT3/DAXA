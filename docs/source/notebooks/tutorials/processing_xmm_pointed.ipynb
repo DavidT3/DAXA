{
 "cells": [
  {
   "cell_type": "markdown",
   "id": "9f0b85df",
   "metadata": {},
   "source": [
    "# Processing raw XMM-Newton Pointed data"
   ]
  },
  {
   "cell_type": "markdown",
   "id": "042fc3de",
   "metadata": {},
   "source": []
  },
  {
   "cell_type": "markdown",
   "id": "ffa16c92",
   "metadata": {},
   "source": [
    "## Import Statements"
   ]
  },
  {
   "cell_type": "markdown",
   "id": "316b0fbe",
   "metadata": {},
   "source": []
  },
  {
   "cell_type": "markdown",
   "id": "885fd8cb",
   "metadata": {},
   "source": [
    "## "
   ]
  }
 ],
 "metadata": {
  "kernelspec": {
   "display_name": "Python 3 (ipykernel)",
   "language": "python",
   "name": "python3"
  },
  "language_info": {
   "codemirror_mode": {
    "name": "ipython",
    "version": 3
   },
   "file_extension": ".py",
   "mimetype": "text/x-python",
   "name": "python",
   "nbconvert_exporter": "python",
   "pygments_lexer": "ipython3",
   "version": "3.8.12"
  }
 },
 "nbformat": 4,
 "nbformat_minor": 5
}
