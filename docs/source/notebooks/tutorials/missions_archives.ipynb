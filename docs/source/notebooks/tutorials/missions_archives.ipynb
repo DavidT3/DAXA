{
 "cells": [
  {
   "cell_type": "markdown",
   "id": "fa35cceea9f5339f",
   "metadata": {},
   "source": [
    "# DAXA Tutorials - Identifying and acquiring relevant X-ray observations"
   ]
  },
  {
   "cell_type": "markdown",
   "id": "f64edf29",
   "metadata": {},
   "source": [
    "This tutorial will explain the basic concepts and components of the X-ray astronomy Python module 'Democratising Archival X-ray Astronomy' (DAXA). We will particularly focus on the various 'mission' classes (implemented for each of the X-ray telescopes that DAXA supports), and the functionality that allows for large numbers of observations to be selected and downloaded; we will also discuss the 'Archive' class, which can be used to create, reduce, and organise multi-mission collections of X-ray astronomy data.\n",
    "\n",
    "Other tutorials "
   ]
  },
  {
   "cell_type": "markdown",
   "id": "405be864",
   "metadata": {},
   "source": [
    "## Import Statements"
   ]
  },
  {
   "cell_type": "code",
   "execution_count": 6,
   "id": "7bbdf260",
   "metadata": {},
   "outputs": [],
   "source": [
    "from daxa.mission import MISS_INDEX\n",
    "from daxa.mission.base import SRC_TYPE_TAXONOMY"
   ]
  },
  {
   "cell_type": "markdown",
   "id": "a426e351",
   "metadata": {},
   "source": [
    "## Missions and Archives"
   ]
  },
  {
   "cell_type": "markdown",
   "id": "e9a9c71a",
   "metadata": {},
   "source": []
  },
  {
   "cell_type": "code",
   "execution_count": null,
   "id": "e9a5b7c4",
   "metadata": {},
   "outputs": [],
   "source": []
  },
  {
   "cell_type": "markdown",
   "id": "b7f2061b",
   "metadata": {},
   "source": [
    "## What missions are available?"
   ]
  },
  {
   "cell_type": "markdown",
   "id": "e7e5271f",
   "metadata": {},
   "source": []
  },
  {
   "cell_type": "code",
   "execution_count": 5,
   "id": "d71f26f1",
   "metadata": {},
   "outputs": [
    {
     "data": {
      "text/plain": [
       "{'xmm_pointed': daxa.mission.xmm.XMMPointed,\n",
       " 'nustar_pointed': daxa.mission.nustar.NuSTARPointed,\n",
       " 'erosita_calpv': daxa.mission.erosita.eROSITACalPV,\n",
       " 'erosita_all_sky_de_dr1': daxa.mission.erosita.eRASS1DE,\n",
       " 'chandra': daxa.mission.chandra.Chandra,\n",
       " 'rosat_all_sky': daxa.mission.rosat.ROSATAllSky,\n",
       " 'rosat_pointed': daxa.mission.rosat.ROSATPointed,\n",
       " 'swift': daxa.mission.swift.Swift,\n",
       " 'suzaku': daxa.mission.suzaku.Suzaku,\n",
       " 'asca': daxa.mission.asca.ASCA,\n",
       " 'integral_pointed': daxa.mission.integral.INTEGRALPointed}"
      ]
     },
     "execution_count": 5,
     "metadata": {},
     "output_type": "execute_result"
    }
   ],
   "source": [
    "MISS_INDEX"
   ]
  },
  {
   "cell_type": "markdown",
   "id": "ae2adf00",
   "metadata": {},
   "source": [
    "## Mission properties"
   ]
  },
  {
   "cell_type": "markdown",
   "id": "bd36ae8e",
   "metadata": {},
   "source": []
  },
  {
   "cell_type": "markdown",
   "id": "2b8713ab",
   "metadata": {},
   "source": [
    "### Name & Pretty Name"
   ]
  },
  {
   "cell_type": "markdown",
   "id": "7344a530",
   "metadata": {},
   "source": []
  },
  {
   "cell_type": "code",
   "execution_count": null,
   "id": "dca255a1",
   "metadata": {},
   "outputs": [],
   "source": []
  },
  {
   "cell_type": "markdown",
   "id": "3bcf5072",
   "metadata": {},
   "source": [
    "### All Instruments & Chosen Instruments"
   ]
  },
  {
   "cell_type": "markdown",
   "id": "654c42f9",
   "metadata": {},
   "source": []
  },
  {
   "cell_type": "code",
   "execution_count": null,
   "id": "ea102794",
   "metadata": {},
   "outputs": [],
   "source": []
  }
 ],
 "metadata": {
  "kernelspec": {
   "display_name": "Python 3 (ipykernel)",
   "language": "python",
   "name": "python3"
  },
  "language_info": {
   "codemirror_mode": {
    "name": "ipython",
    "version": 3
   },
   "file_extension": ".py",
   "mimetype": "text/x-python",
   "name": "python",
   "nbconvert_exporter": "python",
   "pygments_lexer": "ipython3",
   "version": "3.9.0"
  }
 },
 "nbformat": 4,
 "nbformat_minor": 5
}
