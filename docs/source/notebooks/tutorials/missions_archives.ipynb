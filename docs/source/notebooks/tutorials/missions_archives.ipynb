{
 "cells": [
  {
   "cell_type": "markdown",
   "id": "fa35cceea9f5339f",
   "metadata": {},
   "source": [
    "# DAXA Tutorials - Identifying and acquiring relevant X-ray observations"
   ]
  },
  {
   "cell_type": "markdown",
   "id": "f64edf29",
   "metadata": {},
   "source": [
    "This tutorial will explain the basic concepts and components of the X-ray astronomy Python module 'Democratising Archival X-ray Astronomy' (DAXA). We will particularly focus on the various 'mission' classes (implemented for each of the X-ray telescopes that DAXA supports), and the functionality that allows for large numbers of observations to be selected and downloaded; we will also discuss the 'Archive' class, which can be used to create, reduce, and organise multi-mission collections of X-ray astronomy data.\n",
    "\n",
    "Other tutorials "
   ]
  },
  {
   "cell_type": "markdown",
   "id": "405be864",
   "metadata": {},
   "source": [
    "## Import Statements"
   ]
  },
  {
   "cell_type": "code",
   "execution_count": null,
   "id": "7bbdf260",
   "metadata": {},
   "outputs": [],
   "source": [
    "from daxa.mission import "
   ]
  },
  {
   "cell_type": "markdown",
   "id": "fe1a216c",
   "metadata": {},
   "source": [
    "## "
   ]
  }
 ],
 "metadata": {
  "kernelspec": {
   "display_name": "Python 3 (ipykernel)",
   "language": "python",
   "name": "python3"
  },
  "language_info": {
   "codemirror_mode": {
    "name": "ipython",
    "version": 3
   },
   "file_extension": ".py",
   "mimetype": "text/x-python",
   "name": "python",
   "nbconvert_exporter": "python",
   "pygments_lexer": "ipython3",
   "version": "3.8.12"
  }
 },
 "nbformat": 4,
 "nbformat_minor": 5
}
