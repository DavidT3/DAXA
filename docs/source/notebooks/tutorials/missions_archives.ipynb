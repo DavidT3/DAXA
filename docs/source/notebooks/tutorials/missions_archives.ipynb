{
 "cells": [
  {
   "cell_type": "markdown",
   "source": [
    "DAXA Basic Tutorials - Missions and Archives"
   ],
   "metadata": {
    "collapsed": false
   },
   "id": "fa35cceea9f5339f"
  }
 ],
 "metadata": {
  "kernelspec": {
   "display_name": "Python 3",
   "language": "python",
   "name": "python3"
  },
  "language_info": {
   "codemirror_mode": {
    "name": "ipython",
    "version": 2
   },
   "file_extension": ".py",
   "mimetype": "text/x-python",
   "name": "python",
   "nbconvert_exporter": "python",
   "pygments_lexer": "ipython2",
   "version": "2.7.6"
  }
 },
 "nbformat": 4,
 "nbformat_minor": 5
}
