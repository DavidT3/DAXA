{
 "cells": [
  {
   "cell_type": "markdown",
   "id": "fa35cceea9f5339f",
   "metadata": {},
   "source": [
    "# DAXA Tutorials - Identifying and acquiring relevant X-ray observations"
   ]
  },
  {
   "cell_type": "markdown",
   "id": "f64edf29",
   "metadata": {},
   "source": [
    "This tutorial will explain the basic concepts and components of the X-ray astronomy Python module 'Democratising Archival X-ray Astronomy' (DAXA). We will particularly focus on the various 'mission' classes (implemented for each of the X-ray telescopes that DAXA supports), and the functionality that allows for large numbers of observations to be selected and downloaded; we will also discuss the 'Archive' class, which can be used to create, reduce, and organise multi-mission collections of X-ray astronomy data."
   ]
  },
  {
   "cell_type": "markdown",
   "id": "405be864",
   "metadata": {},
   "source": [
    "## Import Statements"
   ]
  },
  {
   "cell_type": "code",
   "execution_count": 17,
   "id": "7bbdf260",
   "metadata": {},
   "outputs": [],
   "source": [
    "from daxa.mission import MISS_INDEX, XMMPointed, Chandra, eRASS1DE, eROSITACalPV, NuSTARPointed, Swift, \\\n",
    "    ROSATAllSky, ROSATPointed, ASCA, INTEGRALPointed, Suzaku\n",
    "from daxa.mission.base import SRC_TYPE_TAXONOMY"
   ]
  },
  {
   "cell_type": "markdown",
   "id": "14ed62f6",
   "metadata": {},
   "source": [
    "## Missions and Archives"
   ]
  },
  {
   "cell_type": "markdown",
   "id": "659b3c98",
   "metadata": {},
   "source": []
  },
  {
   "cell_type": "code",
   "execution_count": null,
   "id": "52cc54ee",
   "metadata": {},
   "outputs": [],
   "source": []
  },
  {
   "cell_type": "markdown",
   "id": "396fec42",
   "metadata": {},
   "source": [
    "## What missions are available?"
   ]
  },
  {
   "cell_type": "markdown",
   "id": "0fa718b9",
   "metadata": {},
   "source": [
    "We have implemented support for access and searching the archives of many X-ray telescopes; we would also be willing to provide an interface to the data archives of other X-ray telescopes, if feasible - please feel free to reach out using the support page if you think there is one we should add.\n",
    "\n",
    "Some telescopes (such as the ROSATPointed/ROSATAllSky and eROSITACalPV/eRASS1DE classes) are not uniquely represented by a single DAXA mission - this is generally the case when the telescope in question has been used in distinctly different ways (e.g. ROSAT had a survey phase and a pointed phase), such that the data for one mode may not be relevant to all applications."
   ]
  },
  {
   "cell_type": "code",
   "execution_count": 5,
   "id": "242e2ec1",
   "metadata": {},
   "outputs": [
    {
     "data": {
      "text/plain": [
       "{'xmm_pointed': daxa.mission.xmm.XMMPointed,\n",
       " 'nustar_pointed': daxa.mission.nustar.NuSTARPointed,\n",
       " 'erosita_calpv': daxa.mission.erosita.eROSITACalPV,\n",
       " 'erosita_all_sky_de_dr1': daxa.mission.erosita.eRASS1DE,\n",
       " 'chandra': daxa.mission.chandra.Chandra,\n",
       " 'rosat_all_sky': daxa.mission.rosat.ROSATAllSky,\n",
       " 'rosat_pointed': daxa.mission.rosat.ROSATPointed,\n",
       " 'swift': daxa.mission.swift.Swift,\n",
       " 'suzaku': daxa.mission.suzaku.Suzaku,\n",
       " 'asca': daxa.mission.asca.ASCA,\n",
       " 'integral_pointed': daxa.mission.integral.INTEGRALPointed}"
      ]
     },
     "execution_count": 5,
     "metadata": {},
     "output_type": "execute_result"
    }
   ],
   "source": [
    "MISS_INDEX"
   ]
  },
  {
   "cell_type": "markdown",
   "id": "f15753a0",
   "metadata": {},
   "source": [
    "### Notes on specific mission classes"
   ]
  },
  {
   "cell_type": "markdown",
   "id": "edd4176d",
   "metadata": {},
   "source": []
  },
  {
   "cell_type": "markdown",
   "id": "6d871e18",
   "metadata": {},
   "source": [
    "#### XMM-Pointed"
   ]
  },
  {
   "cell_type": "markdown",
   "id": "a1f268ee",
   "metadata": {},
   "source": []
  },
  {
   "cell_type": "code",
   "execution_count": null,
   "id": "1cf46f6a",
   "metadata": {},
   "outputs": [],
   "source": [
    "xm = XMMPointed()"
   ]
  },
  {
   "cell_type": "markdown",
   "id": "f6ca1127",
   "metadata": {},
   "source": [
    "#### Chandra"
   ]
  },
  {
   "cell_type": "markdown",
   "id": "28071261",
   "metadata": {},
   "source": []
  },
  {
   "cell_type": "code",
   "execution_count": 26,
   "id": "e782c933",
   "metadata": {},
   "outputs": [],
   "source": [
    "ch = Chandra()"
   ]
  },
  {
   "cell_type": "markdown",
   "id": "98688243",
   "metadata": {},
   "source": [
    "#### eROSITA All-Sky DR1 (German Half)"
   ]
  },
  {
   "cell_type": "markdown",
   "id": "546179ae",
   "metadata": {},
   "source": []
  },
  {
   "cell_type": "code",
   "execution_count": 14,
   "id": "13bfdf0b",
   "metadata": {},
   "outputs": [],
   "source": [
    "ea = eRASS1DE()"
   ]
  },
  {
   "cell_type": "markdown",
   "id": "4a17ec49",
   "metadata": {},
   "source": [
    "#### eROSITA Calibration and Performance Verification"
   ]
  },
  {
   "cell_type": "markdown",
   "id": "64e3dcee",
   "metadata": {},
   "source": []
  },
  {
   "cell_type": "code",
   "execution_count": 15,
   "id": "80544ee1",
   "metadata": {},
   "outputs": [],
   "source": [
    "ecpv = eROSITACalPV()"
   ]
  },
  {
   "cell_type": "markdown",
   "id": "eae2172d",
   "metadata": {},
   "source": [
    "#### NuSTAR-Pointed"
   ]
  },
  {
   "cell_type": "markdown",
   "id": "f09496d4",
   "metadata": {},
   "source": []
  },
  {
   "cell_type": "code",
   "execution_count": 18,
   "id": "b7bbdc6e",
   "metadata": {},
   "outputs": [],
   "source": [
    "nu = NuSTARPointed()"
   ]
  },
  {
   "cell_type": "markdown",
   "id": "450c9029",
   "metadata": {},
   "source": [
    "#### Swift"
   ]
  },
  {
   "cell_type": "markdown",
   "id": "76c806fd",
   "metadata": {},
   "source": []
  },
  {
   "cell_type": "code",
   "execution_count": null,
   "id": "2ff3daec",
   "metadata": {},
   "outputs": [],
   "source": [
    "sw = Swift()"
   ]
  },
  {
   "cell_type": "markdown",
   "id": "8dff73b8",
   "metadata": {},
   "source": [
    "#### ROSAT All-Sky Survey"
   ]
  },
  {
   "cell_type": "markdown",
   "id": "c30a1020",
   "metadata": {},
   "source": []
  },
  {
   "cell_type": "code",
   "execution_count": 19,
   "id": "adec706c",
   "metadata": {},
   "outputs": [],
   "source": [
    "ra = ROSATAllSky()"
   ]
  },
  {
   "cell_type": "markdown",
   "id": "fc90aad6",
   "metadata": {},
   "source": [
    "#### ROSAT-Pointed"
   ]
  },
  {
   "cell_type": "markdown",
   "id": "9e345488",
   "metadata": {},
   "source": []
  },
  {
   "cell_type": "code",
   "execution_count": 20,
   "id": "e23a0f3d",
   "metadata": {},
   "outputs": [],
   "source": [
    "rp = ROSATPointed()"
   ]
  },
  {
   "cell_type": "markdown",
   "id": "cc0f1fe0",
   "metadata": {},
   "source": [
    "#### Suzaku"
   ]
  },
  {
   "cell_type": "markdown",
   "id": "0c03ceb0",
   "metadata": {},
   "source": []
  },
  {
   "cell_type": "code",
   "execution_count": 21,
   "id": "87a87a4d",
   "metadata": {},
   "outputs": [
    {
     "name": "stderr",
     "output_type": "stream",
     "text": [
      "/Users/dt237/code/DAXA/daxa/mission/suzaku.py:92: UserWarning: 14 of the 3055 observations located for Suzaku have been removed due to all instrument exposures being zero.\n",
      "  self._fetch_obs_info()\n"
     ]
    }
   ],
   "source": [
    "su = Suzaku()"
   ]
  },
  {
   "cell_type": "markdown",
   "id": "88f932d9",
   "metadata": {},
   "source": [
    "#### ASCA"
   ]
  },
  {
   "cell_type": "markdown",
   "id": "6377684b",
   "metadata": {},
   "source": []
  },
  {
   "cell_type": "code",
   "execution_count": 22,
   "id": "25aa24bc",
   "metadata": {},
   "outputs": [
    {
     "name": "stderr",
     "output_type": "stream",
     "text": [
      "/Users/dt237/code/DAXA/daxa/mission/asca.py:87: UserWarning: 5 of the 3079 observations located for ASCA have been removed due to all instrument exposures being zero.\n",
      "  self._fetch_obs_info()\n"
     ]
    }
   ],
   "source": [
    "asca = ASCA()"
   ]
  },
  {
   "cell_type": "markdown",
   "id": "932701fb",
   "metadata": {},
   "source": [
    "#### INTEGRAL-Pointed"
   ]
  },
  {
   "cell_type": "markdown",
   "id": "e8b252e2",
   "metadata": {},
   "source": []
  },
  {
   "cell_type": "code",
   "execution_count": null,
   "id": "f9dd7473",
   "metadata": {},
   "outputs": [],
   "source": [
    "inte = INTEGRALPointed()"
   ]
  },
  {
   "cell_type": "markdown",
   "id": "450c2717",
   "metadata": {},
   "source": [
    "## Mission properties"
   ]
  },
  {
   "cell_type": "markdown",
   "id": "db7743d0",
   "metadata": {},
   "source": [
    "Here we run through the basic properties that each of the DAXA mission classes share. We also show examples, particularly in cases where differences between telescopes result in us assigning different values for particular properties."
   ]
  },
  {
   "cell_type": "markdown",
   "id": "5f0b38b3",
   "metadata": {},
   "source": [
    "### Name"
   ]
  },
  {
   "cell_type": "markdown",
   "id": "404017ac",
   "metadata": {},
   "source": [
    "The name assigned to each mission class, so that they can be differentiated both by the user and by DAXA functions. Each mission class has two names, the 'internal DAXA name' (used by DAXA to identify missions) and the 'pretty name', which is typically in a more aethsetically pleasing format.\n",
    "\n",
    "For instance, we show the 'name' and 'pretty name' of the XMMPointed and eROSITA All-Sky Survey 1 classes:"
   ]
  },
  {
   "cell_type": "code",
   "execution_count": 23,
   "id": "25139508",
   "metadata": {},
   "outputs": [
    {
     "name": "stdout",
     "output_type": "stream",
     "text": [
      "xmm_pointed\n",
      "XMM-Newton Pointed \n",
      "\n",
      "erosita_all_sky_de_dr1\n",
      "eRASS DE:1\n"
     ]
    }
   ],
   "source": [
    "print(xm.name)\n",
    "print(xm.pretty_name, '\\n')\n",
    "\n",
    "print(er.name)\n",
    "print(er.pretty_name)"
   ]
  },
  {
   "cell_type": "markdown",
   "id": "60fc118a",
   "metadata": {},
   "source": [
    "### All Instruments & Chosen Instruments"
   ]
  },
  {
   "cell_type": "markdown",
   "id": "29484e9d",
   "metadata": {},
   "source": [
    "Most telescopes have multiple instruments"
   ]
  },
  {
   "cell_type": "code",
   "execution_count": 27,
   "id": "cc37cd61",
   "metadata": {},
   "outputs": [
    {
     "name": "stdout",
     "output_type": "stream",
     "text": [
      "['PSPCB', 'PSPCC', 'HRI']\n",
      "['ACIS-I', 'ACIS-S', 'HRC-I', 'HRC-S', 'HETG', 'LETG']\n"
     ]
    }
   ],
   "source": [
    "print(rp.all_mission_instruments)\n",
    "print(ch.all_mission_instruments)"
   ]
  },
  {
   "cell_type": "markdown",
   "id": "40ec6cd2",
   "metadata": {},
   "source": [
    "### ObsID Regular Expression"
   ]
  },
  {
   "cell_type": "markdown",
   "id": "d3db1bb9",
   "metadata": {},
   "source": [
    "Each of the mission's observations are uniquely identified by an 'ObsID', and each telescope/mission has a different format of ObsID (generally just made up of numeric characters) - there are points where the mission class may have to check the format of a supplied ObsID, and it does that by comparing to the ObsID regular expression:"
   ]
  },
  {
   "cell_type": "code",
   "execution_count": 32,
   "id": "0a99f2a3",
   "metadata": {},
   "outputs": [
    {
     "name": "stdout",
     "output_type": "stream",
     "text": [
      "^[0-9]{10}$\n",
      "^(RH|rh|RP|rp|RF|rf|WH|wh|WP|wp|WF|wf)\\d{6}([A-Z]\\d{2}|)$\n"
     ]
    }
   ],
   "source": [
    "print(xm.id_regex)\n",
    "print(rp.id_regex)"
   ]
  },
  {
   "cell_type": "markdown",
   "id": "2c15e146",
   "metadata": {},
   "source": [
    "### Field of View"
   ]
  },
  {
   "cell_type": "markdown",
   "id": "5ffdab38",
   "metadata": {},
   "source": []
  },
  {
   "cell_type": "code",
   "execution_count": 34,
   "id": "08cbd167",
   "metadata": {},
   "outputs": [
    {
     "name": "stdout",
     "output_type": "stream",
     "text": [
      "15.0 arcmin\n",
      "{'PSPCB': <Quantity 60. arcmin>, 'PSPCC': <Quantity 60. arcmin>, 'HRI': <Quantity 19. arcmin>}\n"
     ]
    }
   ],
   "source": [
    "print(xm.fov)\n",
    "print(rp.fov)"
   ]
  },
  {
   "cell_type": "markdown",
   "id": "f8c31155",
   "metadata": {},
   "source": [
    "### Coordinate Frame"
   ]
  },
  {
   "cell_type": "markdown",
   "id": "8827bc9c",
   "metadata": {},
   "source": []
  },
  {
   "cell_type": "code",
   "execution_count": 36,
   "id": "c4e3cd29",
   "metadata": {},
   "outputs": [
    {
     "name": "stdout",
     "output_type": "stream",
     "text": [
      "<class 'astropy.coordinates.builtin_frames.icrs.ICRS'>\n",
      "<class 'astropy.coordinates.builtin_frames.fk5.FK5'>\n"
     ]
    }
   ],
   "source": [
    "print(ch.coord_frame)\n",
    "print(asca.coord_frame)"
   ]
  },
  {
   "cell_type": "markdown",
   "id": "da2710ae",
   "metadata": {},
   "source": [
    "### Filter Array"
   ]
  },
  {
   "cell_type": "markdown",
   "id": "84eba930",
   "metadata": {},
   "source": []
  },
  {
   "cell_type": "code",
   "execution_count": null,
   "id": "2273e7d4",
   "metadata": {},
   "outputs": [],
   "source": []
  },
  {
   "cell_type": "markdown",
   "id": "865a0584",
   "metadata": {},
   "source": [
    "### Observation Information"
   ]
  },
  {
   "cell_type": "markdown",
   "id": "b001f3a8",
   "metadata": {},
   "source": []
  },
  {
   "cell_type": "code",
   "execution_count": null,
   "id": "e4abadba",
   "metadata": {},
   "outputs": [],
   "source": []
  }
 ],
 "metadata": {
  "kernelspec": {
   "display_name": "Python 3 (ipykernel)",
   "language": "python",
   "name": "python3"
  },
  "language_info": {
   "codemirror_mode": {
    "name": "ipython",
    "version": 3
   },
   "file_extension": ".py",
   "mimetype": "text/x-python",
   "name": "python",
   "nbconvert_exporter": "python",
   "pygments_lexer": "ipython3",
   "version": "3.9.0"
  }
 },
 "nbformat": 4,
 "nbformat_minor": 5
}
