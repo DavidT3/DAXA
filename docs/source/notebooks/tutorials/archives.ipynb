{
 "cells": [
  {
   "cell_type": "markdown",
   "id": "b2fc5e39",
   "metadata": {},
   "source": [
    "# Creating and interacting with a DAXA Archive"
   ]
  },
  {
   "cell_type": "markdown",
   "id": "10ec471d",
   "metadata": {},
   "source": [
    "This tutorial will explain the basic concepts behind the second type of important class in DAXA, the Archive class (with mission classes being the first type, see [the missions tutorial](missions.html)). \n",
    "\n",
    "DAXA Archives take a set of filtered missions, make sure that their data are downloaded, and enable easy access and organisation of all data files and processing functions. This includes storing the logs and errors of all processing steps (if run), and allowing for their easy retrieval. Much of DAXA's convenience and utility is in this functionality, as it will not only manage the myriad files produces during the processing, but keep track of which processes failed for which data, ensuring that any further processing is only run on data that has successfully passed through the dependancy processes.\n",
    "\n",
    "Archives can also be loaded back into DAXA at a later date, so that the processing logs of data that has since been found to be problematic can be easily inspected, or indeed so that processing steps can be re-run with different settings; this also allows for archives to be updated, if more data become available."
   ]
  },
  {
   "cell_type": "markdown",
   "id": "7cadd97e",
   "metadata": {},
   "source": [
    "## Import Statements"
   ]
  },
  {
   "cell_type": "markdown",
   "id": "9b679c9b",
   "metadata": {},
   "source": []
  },
  {
   "cell_type": "markdown",
   "id": "13eeee76",
   "metadata": {},
   "source": [
    "## What is a DAXA archive?"
   ]
  },
  {
   "cell_type": "markdown",
   "id": "31cc2c89",
   "metadata": {},
   "source": []
  },
  {
   "cell_type": "markdown",
   "id": "d03822d2",
   "metadata": {},
   "source": [
    "## Creating an archive from missions"
   ]
  },
  {
   "cell_type": "markdown",
   "id": "6bc71354",
   "metadata": {},
   "source": []
  },
  {
   "cell_type": "code",
   "execution_count": null,
   "id": "3c420fcd",
   "metadata": {},
   "outputs": [],
   "source": []
  },
  {
   "cell_type": "markdown",
   "id": "f5b1269a",
   "metadata": {},
   "source": [
    "## Loading an existing archive"
   ]
  },
  {
   "cell_type": "markdown",
   "id": "44310223",
   "metadata": {},
   "source": []
  },
  {
   "cell_type": "markdown",
   "id": "95c60fde",
   "metadata": {},
   "source": [
    "## Archive properties"
   ]
  },
  {
   "cell_type": "markdown",
   "id": "6101cd2e",
   "metadata": {},
   "source": []
  },
  {
   "cell_type": "markdown",
   "id": "b605eaf1",
   "metadata": {},
   "source": [
    "### ..."
   ]
  },
  {
   "cell_type": "markdown",
   "id": "c1cbd34e",
   "metadata": {},
   "source": [
    "## "
   ]
  }
 ],
 "metadata": {
  "kernelspec": {
   "display_name": "Python 3 (ipykernel)",
   "language": "python",
   "name": "python3"
  },
  "language_info": {
   "codemirror_mode": {
    "name": "ipython",
    "version": 3
   },
   "file_extension": ".py",
   "mimetype": "text/x-python",
   "name": "python",
   "nbconvert_exporter": "python",
   "pygments_lexer": "ipython3",
   "version": "3.9.0"
  }
 },
 "nbformat": 4,
 "nbformat_minor": 5
}
