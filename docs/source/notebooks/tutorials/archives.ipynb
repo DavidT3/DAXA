{
 "cells": [
  {
   "cell_type": "markdown",
   "id": "b2fc5e39",
   "metadata": {},
   "source": [
    "# Creating and interacting with a DAXA Archive"
   ]
  },
  {
   "cell_type": "markdown",
   "id": "10ec471d",
   "metadata": {},
   "source": [
    "This tutorial will explain the basic concepts behind the second type of important class in DAXA, the Archive class (with mission classes being the first type, see [the missions tutorial](missions.html)). DAXA Archives are what manage the datasets that we download from various missions, enabling easy access and greatly simplifying processing/reduction - they allow you to stop thinking about all the files and settings that any large dataset entails.\n",
    "\n",
    "We will cover the following:\n",
    "\n",
    "* Setting up an Archive from scratch, using filtered DAXA missions.\n",
    "* Loading an existing Archive from disk.\n",
    "* The properties of an Archive.\n",
    "* Accessing processing logs and success information (though we do not cover processing in this part of the documentation)."
   ]
  },
  {
   "cell_type": "markdown",
   "id": "7cadd97e",
   "metadata": {},
   "source": [
    "## Import Statements"
   ]
  },
  {
   "cell_type": "code",
   "execution_count": 1,
   "id": "c3742498",
   "metadata": {},
   "outputs": [],
   "source": [
    "from daxa.mission import XMMPointed, Chandra, eRASS1DE, ROSATPointed\n",
    "from daxa.archive import Archive\n",
    "\n",
    "import os"
   ]
  },
  {
   "cell_type": "markdown",
   "id": "13eeee76",
   "metadata": {},
   "source": [
    "## What is a DAXA archive?"
   ]
  },
  {
   "cell_type": "markdown",
   "id": "31cc2c89",
   "metadata": {},
   "source": [
    "DAXA Archives take a set of filtered missions, make sure that their data are downloaded, and enable easy access and organisation of all data files and processing functions. Key functionality includes:\n",
    "\n",
    "* Storing the logs and errors of all processing steps (if run).\n",
    "* Allowing for their easy retrieval. \n",
    "* Managing the myriad files produced during the processing.\n",
    "* Keeping track of which processes failed for which data, ensuring that any further processing only runs on data that have successfully passed through the earlier processes.\n",
    "\n",
    "Archives can also be loaded back into DAXA at a later date, so that the processing logs of data that has since been found to be problematic can be easily inspected, or indeed so that processing steps can be re-run with different settings; this also allows for archives to be updated, if more data become available."
   ]
  },
  {
   "cell_type": "markdown",
   "id": "d03822d2",
   "metadata": {},
   "source": [
    "## Creating a new archive"
   ]
  },
  {
   "cell_type": "markdown",
   "id": "6bc71354",
   "metadata": {},
   "source": [
    "Here we will demonstrate how to set up a new DAXA Archive from scratch - this information can be combined with the [the missions tutorial](missions.html) and the <font color='red'>case studies</font> to create an archive from any dataset you might be using."
   ]
  },
  {
   "cell_type": "markdown",
   "id": "a2587cb4",
   "metadata": {},
   "source": [
    "### Step 1 - Set up and filter missions "
   ]
  },
  {
   "cell_type": "markdown",
   "id": "ade371be",
   "metadata": {},
   "source": [
    "The first thing we have to do is to select the observations that we wish to include in the archive (and indeed the missions that we wish to include). The missions all have different characteristics, so your choice of which to include will be heavily dependent on your science case.\n",
    "\n",
    "Here we will create an archive of XMM, Chandra, eROSITA All-Sky DR1, and ROSAT pointed observations of a famous galaxy cluster (though the archive would behave the same if it held data for a large sample of objects).\n",
    "\n",
    "First of all, we define instances of the mission classes that we wish to include:"
   ]
  },
  {
   "cell_type": "code",
   "execution_count": 2,
   "id": "3c420fcd",
   "metadata": {},
   "outputs": [
    {
     "name": "stderr",
     "output_type": "stream",
     "text": [
      "/Users/dt237/code/DAXA/daxa/mission/xmm.py:83: UserWarning: 140 of the 17678 observations located for this mission have been removed due to NaN RA or Dec values\n",
      "  self._fetch_obs_info()\n"
     ]
    }
   ],
   "source": [
    "xm = XMMPointed()\n",
    "ch = Chandra()\n",
    "er = eRASS1DE()\n",
    "rp = ROSATPointed()"
   ]
  },
  {
   "cell_type": "markdown",
   "id": "60065cc6",
   "metadata": {},
   "source": [
    "Then we filter them to only include observations of our cluster:"
   ]
  },
  {
   "cell_type": "code",
   "execution_count": 3,
   "id": "04ddc813",
   "metadata": {},
   "outputs": [
    {
     "name": "stderr",
     "output_type": "stream",
     "text": [
      "/Users/dt237/code/DAXA/daxa/mission/base.py:1075: UserWarning: Chandra FoV are difficult to define, as they can be strongly dependant on observation mode; as such take these as very approximate.\n",
      "  fov = self.fov\n"
     ]
    }
   ],
   "source": [
    "xm.filter_on_name(\"A3667\")\n",
    "ch.filter_on_name(\"A3667\")\n",
    "er.filter_on_name(\"A3667\")\n",
    "rp.filter_on_name(\"A3667\")"
   ]
  },
  {
   "cell_type": "markdown",
   "id": "0bf1dc67",
   "metadata": {},
   "source": [
    "We then download the available data (though the declaration of an Archive would also trigger this, we do it this way because we wish to download pre-generated products for Chandra and ROSAT pointed observations):"
   ]
  },
  {
   "cell_type": "code",
   "execution_count": 4,
   "id": "31d6ba22",
   "metadata": {},
   "outputs": [
    {
     "name": "stderr",
     "output_type": "stream",
     "text": [
      "Downloading XMM-Newton Pointed data: 100%|██████████████████████████████████████| 8/8 [01:32<00:00, 11.62s/it]\n",
      "Downloading Chandra data: 100%|███████████████████████████████████████████████| 12/12 [02:52<00:00, 14.36s/it]\n",
      "Downloading eRASS DE:1 data: 100%|██████████████████████████████████████████████| 1/1 [00:04<00:00,  4.22s/it]\n",
      "Downloading ROSAT Pointed data: 100%|███████████████████████████████████████████| 3/3 [00:16<00:00,  5.66s/it]\n"
     ]
    }
   ],
   "source": [
    "xm.download()\n",
    "ch.download(download_products=True)\n",
    "er.download()\n",
    "rp.download(download_products=True)"
   ]
  },
  {
   "cell_type": "markdown",
   "id": "c8c8d61c",
   "metadata": {},
   "source": [
    "### Step 2 - Setting up an Archive object"
   ]
  },
  {
   "cell_type": "markdown",
   "id": "0cbeb6b0",
   "metadata": {},
   "source": [
    "Now we create the actual DAXA Archive instance - all this requires is for us to choose an archive name (which is what will be used to load it back in at a later date, if necessary) and to pass in the filtered missions that we have already created:"
   ]
  },
  {
   "cell_type": "code",
   "execution_count": 5,
   "id": "85477362",
   "metadata": {},
   "outputs": [
    {
     "name": "stderr",
     "output_type": "stream",
     "text": [
      "/var/folders/td/gw9qkx6d3szb1nkt_cfvcbzm000vzl/T/ipykernel_23063/1119153751.py:1: UserWarning: An archive called A3667 already existed, but as 'clobber=True' it has been deleted and overwritten.\n",
      "  arch = Archive(\"A3667\", [xm, ch, er, rp], clobber=True)\n"
     ]
    }
   ],
   "source": [
    "arch = Archive(\"A3667\", [xm, ch, er, rp], clobber=True)"
   ]
  },
  {
   "cell_type": "markdown",
   "id": "d3c9ea52",
   "metadata": {},
   "source": [
    "Now we've declared it, we can use the `info()` method to get a summary of its current status, including the amount of data available:"
   ]
  },
  {
   "cell_type": "code",
   "execution_count": 6,
   "id": "8be6d301",
   "metadata": {},
   "outputs": [
    {
     "name": "stdout",
     "output_type": "stream",
     "text": [
      "\n",
      "-----------------------------------------------------\n",
      "Number of missions - 4\n",
      "Total number of observations - 24\n",
      "Beginning of earliest observation - 1992-04-14 18:55:38.000003\n",
      "End of latest observation - 2020-04-20 12:23:50\n",
      "\n",
      "-- XMM-Newton Pointed --\n",
      "   Internal DAXA name - xmm_pointed\n",
      "   Chosen instruments - M1, M2, PN\n",
      "   Number of observations - 8\n",
      "   Fully Processed - False\n",
      "\n",
      "-- Chandra --\n",
      "   Internal DAXA name - chandra\n",
      "   Chosen instruments - ACIS-I, ACIS-S, HRC-I, HRC-S\n",
      "   Number of observations - 12\n",
      "   Fully Processed - False\n",
      "\n",
      "-- eRASS DE:1 --\n",
      "   Internal DAXA name - erosita_all_sky_de_dr1\n",
      "   Chosen instruments - TM1, TM2, TM3, TM4, TM5, TM6, TM7\n",
      "   Number of observations - 1\n",
      "   Fully Processed - False\n",
      "\n",
      "-- ROSAT Pointed --\n",
      "   Internal DAXA name - rosat_pointed\n",
      "   Chosen instruments - PSPCB, PSPCC, HRI\n",
      "   Number of observations - 3\n",
      "   Fully Processed - False\n",
      "-----------------------------------------------------\n",
      "\n"
     ]
    }
   ],
   "source": [
    "arch.info()"
   ]
  },
  {
   "cell_type": "markdown",
   "id": "b1703f4d",
   "metadata": {},
   "source": [
    "### Step 3 - Processing the Archive"
   ]
  },
  {
   "cell_type": "markdown",
   "id": "7666408f",
   "metadata": {},
   "source": [
    "We're not actually going to cover _how_ to process things here, as each telescope tends to have its own backend software with a unique way of doing things; they each have their own processing tutorials, which will demonstrate both a one-line processing method, and how to control the reduction in more detail. Any processing method will take the archive object as an argument, and act on the data stored within it.\n",
    "\n",
    "So instead we include this step here to highlight that the next logical step after the creation of a new archive is to run processing and reduction routines, if raw data have been downloaded. The successful completion of this step will leave you with an archive of data that you can easily manage, access, and use for your scientific analyses.\n",
    "\n",
    "If you elected to download existing products (most missions support this), then only one processing step is necessary - this reorganises the downloaded data so that it is compatible with DAXA storage and file naming conventions. **It will have run automatically on declaration**"
   ]
  },
  {
   "cell_type": "markdown",
   "id": "755de07e",
   "metadata": {},
   "source": [
    "### Step 4 - Using the data"
   ]
  },
  {
   "cell_type": "markdown",
   "id": "1252eb87",
   "metadata": {},
   "source": []
  },
  {
   "cell_type": "markdown",
   "id": "28746332",
   "metadata": {},
   "source": [
    "### Note on saving Archives"
   ]
  },
  {
   "cell_type": "markdown",
   "id": "40a48c86",
   "metadata": {},
   "source": [
    "Archive instances can be saved and loaded back in (as you'll see in the next section). This can be triggered manually by running the `save()` method, but __this shouldn't be generally necessary__ - this is because the archive is automatically saved upon first setup, and after every processing step."
   ]
  },
  {
   "cell_type": "markdown",
   "id": "f5b1269a",
   "metadata": {},
   "source": [
    "## Loading an existing archive"
   ]
  },
  {
   "cell_type": "markdown",
   "id": "44310223",
   "metadata": {},
   "source": [
    "As we have intimated, previously created archives can be loaded back in to memory in exactly the same state as when they were saved. We will demonstrate this here with an archive we prepared earlier - it has had XMM processing applied, which will allow us to demonstrate the logging and management functionality. \n",
    "\n",
    "Reloading an archive has a number of possible applications:\n",
    "\n",
    "* Access to archive data management functions - e.g. locating specific data files, identifying what observations are available.\n",
    "* Checking processing logs - e.g. finding errors or warnings in the processing of data that has since been identified as problematic.\n",
    "* Updating the archive - either adding another mission, or using the archive to check for new data matching your original mission filtering operations (these are stored in the mission saves, so can be re-run automatically).\n",
    "\n",
    "All you need to do is set up an Archive instance and pass the name of an existing archive - this assumes your code is running in the same directory as it was originally, as Archives are stored in 'daxa_output' (if the DAXA configuration file hasn't been altered). The configuration can also be altered so that all DAXA outputs are stored in an absolute path, in which case defining an Archive object with the name of an existing dataset would work from any directory).\n",
    "\n",
    "Loading in an archive (note that you don't need to pass any missions, loading the archive back in will also reinstate the missions as they were when the Archive was last saved):"
   ]
  },
  {
   "cell_type": "code",
   "execution_count": 7,
   "id": "d8308abf",
   "metadata": {},
   "outputs": [
    {
     "name": "stderr",
     "output_type": "stream",
     "text": [
      "/Users/dt237/code/DAXA/daxa/mission/xmm.py:83: UserWarning: 140 of the 17678 observations located for this mission have been removed due to NaN RA or Dec values\n",
      "  self._fetch_obs_info()\n"
     ]
    }
   ],
   "source": [
    "prev_arch = Archive(\"PHL1811_made_earlier\")"
   ]
  },
  {
   "cell_type": "markdown",
   "id": "1d5a421e",
   "metadata": {},
   "source": [
    "Once again, we will run the `info()` method, but note that for this archive the XMM-Newton Pointed mission is marked as 'fully processed':"
   ]
  },
  {
   "cell_type": "code",
   "execution_count": 8,
   "id": "d4645c58",
   "metadata": {},
   "outputs": [
    {
     "name": "stdout",
     "output_type": "stream",
     "text": [
      "\n",
      "-----------------------------------------------------\n",
      "Number of missions - 4\n",
      "Total number of observations - 10\n",
      "Beginning of earliest observation - 1990-10-31 00:00:00\n",
      "End of latest observation - 2015-11-30 04:11:08.184002\n",
      "\n",
      "-- XMM-Newton Pointed --\n",
      "   Internal DAXA name - xmm_pointed\n",
      "   Chosen instruments - M1, M2, PN\n",
      "   Number of observations - 5\n",
      "   Fully Processed - False\n",
      "\n",
      "-- Chandra --\n",
      "   Internal DAXA name - chandra\n",
      "   Chosen instruments - ACIS-I, ACIS-S, HRC-I, HRC-S\n",
      "   Number of observations - 3\n",
      "   Fully Processed - False\n",
      "\n",
      "-- NuSTAR Pointed --\n",
      "   Internal DAXA name - nustar_pointed\n",
      "   Chosen instruments - FPMA, FPMB\n",
      "   Number of observations - 1\n",
      "   Fully Processed - False\n",
      "\n",
      "-- RASS --\n",
      "   Internal DAXA name - rosat_all_sky\n",
      "   Chosen instruments - PSPC\n",
      "   Number of observations - 1\n",
      "   Fully Processed - False\n",
      "-----------------------------------------------------\n",
      "\n"
     ]
    }
   ],
   "source": [
    "prev_arch.info()"
   ]
  },
  {
   "cell_type": "markdown",
   "id": "21da27ce",
   "metadata": {},
   "source": [
    "We note that it _is_ possible to declare an Archive with a previously used name and overwrite it - you just have to pass `clobber=True` when you declare the Archive instance. We print the docstring of the Archive class here for reference:"
   ]
  },
  {
   "cell_type": "code",
   "execution_count": 9,
   "id": "c1d65a63",
   "metadata": {
    "scrolled": false
   },
   "outputs": [
    {
     "name": "stdout",
     "output_type": "stream",
     "text": [
      "\n",
      "    The Archive class, which is to be used to consolidate and provide some interface with a set\n",
      "    of mission's data. Archives can be passed to processing and cleaning functions in DAXA, and also\n",
      "    contain convenience functions for accessing summaries of the available data.\n",
      "\n",
      "    :param str archive_name: The name to be given to this archive - it will be used for storage\n",
      "        and identification. If an existing archive with this name exists it will be read in, unless clobber=True.\n",
      "    :param List[BaseMission]/BaseMission missions: The mission, or missions, which are to be included\n",
      "        in this archive - any setup processes (i.e. the filtering of data to be acquired) should be\n",
      "        performed prior to creating an archive. The default value is None, but this should be set for any new\n",
      "        archives, it can only be left as None if an existing archive is being read back in.\n",
      "    :param bool clobber: If an archive named 'archive_name' already exists, then setting clobber to True\n",
      "        will cause it to be deleted and overwritten.\n",
      "    \n"
     ]
    }
   ],
   "source": [
    "print(Archive.__doc__)"
   ]
  },
  {
   "cell_type": "markdown",
   "id": "d69f2746",
   "metadata": {},
   "source": [
    "## Accessing component missions"
   ]
  },
  {
   "cell_type": "markdown",
   "id": "274ef587",
   "metadata": {},
   "source": [
    "The missions that were used to create an archive can be retrieved, giving access to their information tables - note that you cannot just use the filtering methods of a mission to change the data in the archive; altering the observations in an archive requires using <font color='red'>the archive `update()` method.</font>\n",
    "\n",
    "To retrieve a mission you can either address the archive with the DAXA internal name of the mission, or get the whole list using the `missions` property:"
   ]
  },
  {
   "cell_type": "code",
   "execution_count": 10,
   "id": "572e9230",
   "metadata": {},
   "outputs": [
    {
     "data": {
      "text/plain": [
       "<daxa.mission.xmm.XMMPointed at 0x7fd3083df190>"
      ]
     },
     "execution_count": 10,
     "metadata": {},
     "output_type": "execute_result"
    }
   ],
   "source": [
    "prev_arch['xmm_pointed']"
   ]
  },
  {
   "cell_type": "code",
   "execution_count": 11,
   "id": "2f9670a8",
   "metadata": {},
   "outputs": [
    {
     "data": {
      "text/plain": [
       "[<daxa.mission.xmm.XMMPointed at 0x7fd3083df190>,\n",
       " <daxa.mission.chandra.Chandra at 0x7fd3387b4160>,\n",
       " <daxa.mission.nustar.NuSTARPointed at 0x7fd369ef6340>,\n",
       " <daxa.mission.rosat.ROSATAllSky at 0x7fd34838cd90>]"
      ]
     },
     "execution_count": 11,
     "metadata": {},
     "output_type": "execute_result"
    }
   ],
   "source": [
    "prev_arch.missions"
   ]
  },
  {
   "cell_type": "code",
   "execution_count": 12,
   "id": "0f08d7f0",
   "metadata": {},
   "outputs": [
    {
     "data": {
      "text/html": [
       "<div>\n",
       "<style scoped>\n",
       "    .dataframe tbody tr th:only-of-type {\n",
       "        vertical-align: middle;\n",
       "    }\n",
       "\n",
       "    .dataframe tbody tr th {\n",
       "        vertical-align: top;\n",
       "    }\n",
       "\n",
       "    .dataframe thead th {\n",
       "        text-align: right;\n",
       "    }\n",
       "</style>\n",
       "<table border=\"1\" class=\"dataframe\">\n",
       "  <thead>\n",
       "    <tr style=\"text-align: right;\">\n",
       "      <th></th>\n",
       "      <th>ra</th>\n",
       "      <th>dec</th>\n",
       "      <th>ObsID</th>\n",
       "      <th>start</th>\n",
       "      <th>science_usable</th>\n",
       "      <th>duration</th>\n",
       "      <th>proprietary_end_date</th>\n",
       "      <th>revolution</th>\n",
       "      <th>proprietary_usable</th>\n",
       "      <th>end</th>\n",
       "    </tr>\n",
       "  </thead>\n",
       "  <tbody>\n",
       "    <tr>\n",
       "      <th>922</th>\n",
       "      <td>157.746300</td>\n",
       "      <td>31.048890</td>\n",
       "      <td>0102041001</td>\n",
       "      <td>2000-12-07 04:57:14</td>\n",
       "      <td>True</td>\n",
       "      <td>0 days 01:30:06</td>\n",
       "      <td>2002-04-06 00:00:00</td>\n",
       "      <td>182</td>\n",
       "      <td>True</td>\n",
       "      <td>2000-12-07 06:27:20</td>\n",
       "    </tr>\n",
       "    <tr>\n",
       "      <th>1044</th>\n",
       "      <td>67.555425</td>\n",
       "      <td>-61.350560</td>\n",
       "      <td>0105261001</td>\n",
       "      <td>2000-09-27 06:56:36</td>\n",
       "      <td>True</td>\n",
       "      <td>0 days 04:16:54</td>\n",
       "      <td>2002-08-25 00:00:00</td>\n",
       "      <td>147</td>\n",
       "      <td>True</td>\n",
       "      <td>2000-09-27 11:13:30</td>\n",
       "    </tr>\n",
       "    <tr>\n",
       "      <th>3802</th>\n",
       "      <td>328.756200</td>\n",
       "      <td>-9.373528</td>\n",
       "      <td>0204310101</td>\n",
       "      <td>2004-11-01 09:06:42</td>\n",
       "      <td>True</td>\n",
       "      <td>0 days 09:08:39</td>\n",
       "      <td>2005-12-01 00:00:00</td>\n",
       "      <td>897</td>\n",
       "      <td>True</td>\n",
       "      <td>2004-11-01 18:15:21</td>\n",
       "    </tr>\n",
       "    <tr>\n",
       "      <th>6014</th>\n",
       "      <td>234.896250</td>\n",
       "      <td>-83.593060</td>\n",
       "      <td>0502671101</td>\n",
       "      <td>2008-04-01 17:24:48</td>\n",
       "      <td>True</td>\n",
       "      <td>0 days 05:25:20</td>\n",
       "      <td>2009-05-29 00:00:00</td>\n",
       "      <td>1522</td>\n",
       "      <td>True</td>\n",
       "      <td>2008-04-01 22:50:08</td>\n",
       "    </tr>\n",
       "    <tr>\n",
       "      <th>12006</th>\n",
       "      <td>328.756250</td>\n",
       "      <td>-9.373333</td>\n",
       "      <td>0761910201</td>\n",
       "      <td>2015-11-29 09:38:07</td>\n",
       "      <td>True</td>\n",
       "      <td>0 days 16:30:00</td>\n",
       "      <td>2016-12-11 23:00:00</td>\n",
       "      <td>2925</td>\n",
       "      <td>True</td>\n",
       "      <td>2015-11-30 02:08:07</td>\n",
       "    </tr>\n",
       "  </tbody>\n",
       "</table>\n",
       "</div>"
      ],
      "text/plain": [
       "               ra        dec       ObsID               start  science_usable  \\\n",
       "922    157.746300  31.048890  0102041001 2000-12-07 04:57:14            True   \n",
       "1044    67.555425 -61.350560  0105261001 2000-09-27 06:56:36            True   \n",
       "3802   328.756200  -9.373528  0204310101 2004-11-01 09:06:42            True   \n",
       "6014   234.896250 -83.593060  0502671101 2008-04-01 17:24:48            True   \n",
       "12006  328.756250  -9.373333  0761910201 2015-11-29 09:38:07            True   \n",
       "\n",
       "             duration proprietary_end_date  revolution  proprietary_usable  \\\n",
       "922   0 days 01:30:06  2002-04-06 00:00:00         182                True   \n",
       "1044  0 days 04:16:54  2002-08-25 00:00:00         147                True   \n",
       "3802  0 days 09:08:39  2005-12-01 00:00:00         897                True   \n",
       "6014  0 days 05:25:20  2009-05-29 00:00:00        1522                True   \n",
       "12006 0 days 16:30:00  2016-12-11 23:00:00        2925                True   \n",
       "\n",
       "                      end  \n",
       "922   2000-12-07 06:27:20  \n",
       "1044  2000-09-27 11:13:30  \n",
       "3802  2004-11-01 18:15:21  \n",
       "6014  2008-04-01 22:50:08  \n",
       "12006 2015-11-30 02:08:07  "
      ]
     },
     "execution_count": 12,
     "metadata": {},
     "output_type": "execute_result"
    }
   ],
   "source": [
    "prev_arch['xmm_pointed'].filtered_obs_info"
   ]
  },
  {
   "cell_type": "markdown",
   "id": "95c60fde",
   "metadata": {},
   "source": [
    "## Archive general properties"
   ]
  },
  {
   "cell_type": "markdown",
   "id": "6101cd2e",
   "metadata": {},
   "source": [
    "Here we run through the general properties of the archive class, summarising their meaning and content."
   ]
  },
  {
   "cell_type": "markdown",
   "id": "b605eaf1",
   "metadata": {},
   "source": [
    "### Name"
   ]
  },
  {
   "cell_type": "markdown",
   "id": "8334d258",
   "metadata": {},
   "source": [
    "The `archive_name` class returns the name that was given to the archive on creation - this cannot be changed."
   ]
  },
  {
   "cell_type": "code",
   "execution_count": 13,
   "id": "58a03264",
   "metadata": {},
   "outputs": [
    {
     "data": {
      "text/plain": [
       "'PHL1811_made_earlier'"
      ]
     },
     "execution_count": 13,
     "metadata": {},
     "output_type": "execute_result"
    }
   ],
   "source": [
    "prev_arch.archive_name"
   ]
  },
  {
   "cell_type": "markdown",
   "id": "95dddccd",
   "metadata": {},
   "source": [
    "### Archive Path"
   ]
  },
  {
   "cell_type": "markdown",
   "id": "f738f30d",
   "metadata": {},
   "source": [
    "This property (`archive_path`) returns the absolute path to the top level of this archive's storage directory:"
   ]
  },
  {
   "cell_type": "code",
   "execution_count": 14,
   "id": "4902e739",
   "metadata": {},
   "outputs": [
    {
     "data": {
      "text/plain": [
       "'/Users/dt237/code/DAXA/docs/source/notebooks/tutorials/daxa_output/archives/PHL1811_made_earlier/'"
      ]
     },
     "execution_count": 14,
     "metadata": {},
     "output_type": "execute_result"
    }
   ],
   "source": [
    "prev_arch.archive_path"
   ]
  },
  {
   "cell_type": "markdown",
   "id": "dbbcbe0e",
   "metadata": {},
   "source": [
    "### Mission Names"
   ]
  },
  {
   "cell_type": "markdown",
   "id": "d2a126d0",
   "metadata": {},
   "source": [
    "In addition to the `missions` property discussed earlier, we include a `mission_names` property which lists the internal names of the mission classes associated with the archive:"
   ]
  },
  {
   "cell_type": "code",
   "execution_count": 15,
   "id": "ecf14f79",
   "metadata": {},
   "outputs": [
    {
     "data": {
      "text/plain": [
       "['xmm_pointed', 'chandra', 'nustar_pointed', 'rosat_all_sky']"
      ]
     },
     "execution_count": 15,
     "metadata": {},
     "output_type": "execute_result"
    }
   ],
   "source": [
    "prev_arch.mission_names"
   ]
  },
  {
   "cell_type": "markdown",
   "id": "f4a1019d",
   "metadata": {},
   "source": [
    "## Processing-related Archive properties"
   ]
  },
  {
   "cell_type": "markdown",
   "id": "e51f86da",
   "metadata": {},
   "source": [
    "This section deals with Archive properties that are related to processing of the available data into something scientifically useful - this is why we loaded an existing archive with processing applied, to demonstrate the contents of these properties:"
   ]
  },
  {
   "cell_type": "markdown",
   "id": "0a98a1cd",
   "metadata": {},
   "source": [
    "### Process Success"
   ]
  },
  {
   "cell_type": "markdown",
   "id": "598f2fc6",
   "metadata": {},
   "source": [
    "The `process_success` property is very important - it is a nested dictionary which records which processing steps were 'successful' (usually defined as no errors being detected, and expected files being found) for which data. Those that were successful have a boolean value of True, those that weren't have a boolean value of False.\n",
    "\n",
    "Top level keys will always be mission name, the next level down will be the process name, and the layer below that will be the unique IDs of the data the process acted on. This is often an ObsID, but can also be ObsID + instrument name, or ObsID + instrument name + sub-exposure ID.\n",
    "\n",
    "This allows you (but more importantly the archive itself) to know which stages have failed for which data - that in turn means any processing that is dependent on a previous stage can know which data to skip. All this ensures no interruptions when reducing large sets of data.\n",
    "\n",
    "In this case we've run all processing steps on the XMM data in the archive, note the following entry:\n",
    "\n",
    "* `espfilt` - 0502671101PNS003 \n",
    "\n",
    "It failed safely, and was not considered for the next processing stages. **Also note that the ObsID 0102041001 does not appear** after the `odf_ingest` step, as all of its data was taken in CalClosed mode and can't be used for the study of the target objects:"
   ]
  },
  {
   "cell_type": "code",
   "execution_count": 16,
   "id": "ee5b9554",
   "metadata": {},
   "outputs": [
    {
     "data": {
      "text/plain": [
       "{'xmm_pointed': {'cif_build': {'0502671101': True,\n",
       "   '0761910201': True,\n",
       "   '0105261001': True,\n",
       "   '0102041001': True,\n",
       "   '0204310101': True},\n",
       "  'odf_ingest': {'0102041001': True,\n",
       "   '0105261001': True,\n",
       "   '0502671101': True,\n",
       "   '0204310101': True,\n",
       "   '0761910201': True},\n",
       "  'epchain': {'0105261001PNS003': True,\n",
       "   '0105261001PNU002': True,\n",
       "   '0502671101PNS003': True,\n",
       "   '0204310101PNS003': True,\n",
       "   '0761910201PNS003': True},\n",
       "  'emchain': {'0105261001M1U002': True,\n",
       "   '0105261001M2U002': True,\n",
       "   '0105261001M1S001': True,\n",
       "   '0105261001M2S002': True,\n",
       "   '0502671101M1S001': True,\n",
       "   '0502671101M2S002': True,\n",
       "   '0204310101M1S001': True,\n",
       "   '0204310101M2S002': True,\n",
       "   '0761910201M1S001': True,\n",
       "   '0761910201M2S002': True},\n",
       "  'espfilt': {'0105261001M1S001': True,\n",
       "   '0105261001M2S002': True,\n",
       "   '0105261001M1U002': True,\n",
       "   '0105261001M2U002': True,\n",
       "   '0204310101M2S002': True,\n",
       "   '0204310101M1S001': True,\n",
       "   '0502671101M1S001': True,\n",
       "   '0761910201M1S001': True,\n",
       "   '0502671101M2S002': True,\n",
       "   '0761910201M2S002': True,\n",
       "   '0502671101PNS003': False,\n",
       "   '0105261001PNS003': True,\n",
       "   '0105261001PNU002': True,\n",
       "   '0204310101PNS003': True,\n",
       "   '0761910201PNS003': True},\n",
       "  'cleaned_evt_lists': {'0105261001M1S001': True,\n",
       "   '0105261001M2S002': True,\n",
       "   '0105261001M2U002': True,\n",
       "   '0105261001M1U002': True,\n",
       "   '0761910201M1S001': True,\n",
       "   '0204310101M2S002': True,\n",
       "   '0204310101M1S001': True,\n",
       "   '0502671101M1S001': True,\n",
       "   '0502671101M2S002': True,\n",
       "   '0761910201M2S002': True,\n",
       "   '0105261001PNS003': True,\n",
       "   '0105261001PNU002': True,\n",
       "   '0204310101PNS003': True,\n",
       "   '0761910201PNS003': True},\n",
       "  'merge_subexposures': {'0502671101M1': True,\n",
       "   '0502671101M2': True,\n",
       "   '0204310101M2': True,\n",
       "   '0204310101M1': True,\n",
       "   '0204310101PN': True,\n",
       "   '0761910201M1': True,\n",
       "   '0761910201M2': True,\n",
       "   '0761910201PN': True,\n",
       "   '0105261001M2': True,\n",
       "   '0105261001M1': True,\n",
       "   '0105261001PN': True}},\n",
       " 'chandra': {},\n",
       " 'nustar_pointed': {},\n",
       " 'rosat_all_sky': {}}"
      ]
     },
     "execution_count": 16,
     "metadata": {},
     "output_type": "execute_result"
    }
   ],
   "source": [
    "prev_arch.process_success"
   ]
  },
  {
   "cell_type": "markdown",
   "id": "e1703b61",
   "metadata": {},
   "source": [
    "## Process Names"
   ]
  },
  {
   "cell_type": "markdown",
   "id": "41a8621d",
   "metadata": {},
   "source": [
    "This property (`process_names`) stores a list of the processes that have been run on each mission:"
   ]
  },
  {
   "cell_type": "code",
   "execution_count": 17,
   "id": "573dce86",
   "metadata": {},
   "outputs": [
    {
     "data": {
      "text/plain": [
       "{'xmm_pointed': ['cif_build',\n",
       "  'odf_ingest',\n",
       "  'epchain',\n",
       "  'emchain',\n",
       "  'espfilt',\n",
       "  'cleaned_evt_lists',\n",
       "  'merge_subexposures'],\n",
       " 'chandra': [],\n",
       " 'nustar_pointed': [],\n",
       " 'rosat_all_sky': []}"
      ]
     },
     "execution_count": 17,
     "metadata": {},
     "output_type": "execute_result"
    }
   ],
   "source": [
    "prev_arch.process_names"
   ]
  },
  {
   "cell_type": "markdown",
   "id": "c1cbd34e",
   "metadata": {},
   "source": [
    "### Process Logs (stdout)"
   ]
  },
  {
   "cell_type": "markdown",
   "id": "b1e9a586",
   "metadata": {},
   "source": [
    "All of the logs for all processes run by DAXA are stored, and can be accessed through the `process_logs` property - this is structured in the exact same way as `process_success`, as a nested dictionary. The only difference here is that the final values are strings rather than booleans.\n",
    "\n",
    "We show the log for a single process applied to a single piece of data, otherwise this tutorial document would be very long indeed - this particular process worked perfectly:"
   ]
  },
  {
   "cell_type": "code",
   "execution_count": 18,
   "id": "57c07af8",
   "metadata": {
    "scrolled": false
   },
   "outputs": [
    {
     "name": "stdout",
     "output_type": "stream",
     "text": [
      "espfilt:- Executing (routine): espfilt eventfile=/Users/dt237/code/DAXA/docs/source/notebooks/tutorials/daxa_output/archives/PHL1811_made_earlier/processed_data/xmm_pointed/0204310101/P0204310101M1S001MIEVLI0000.FIT withoot=no ootfile=dataset method=histogram withsmoothing=yes smooth=51 withbinning=yes binsize=60 ratio=1.2 withlongnames=yes elow=2500 ehigh=8500 rangescale=6 allowsigma=3 limits='0.1 6.5' keepinterfiles=no  -w 1 -V 4\n",
      "espfilt:- espfilt (espfilt-4.3)  [xmmsas_20211130_0941-20.0.0] started:  2024-04-11T16:29:59.000\n",
      "espfilt:-  ESPFILT: Processing eventlist: /Users/dt237/code/DAXA/docs/source/notebooks/tutorials/daxa_output/archives/PHL1811_made_earlier/processed_data/xmm_pointed/0204310101/P0204310101M1S001MIEVLI0000.FIT\n",
      "espfilt:-  *FOV IMAGE* = mos1S001-fovim-2500-8500.fits\n",
      "evselect:- Executing (routine): evselect table=/Users/dt237/code/DAXA/docs/source/notebooks/tutorials/daxa_output/archives/PHL1811_made_earlier/processed_data/xmm_pointed/0204310101/P0204310101M1S001MIEVLI0000.FIT filteredset=filtered.fits withfilteredset=no keepfilteroutput=no flagcolumn=EVFLAG flagbit=-1 destruct=yes dssblock='' expression=true filtertype=expression cleandss=no updateexposure=yes filterexposure=yes writedss=yes blockstocopy='' attributestocopy='' energycolumn=PHA zcolumn=WEIGHT zerrorcolumn=EWEIGHT withzerrorcolumn=no withzcolumn=no ignorelegallimits=no imageset=mos1S001-fovim-2500-8500.fits xcolumn=DETX ycolumn=DETY ximagebinsize=1 yimagebinsize=1 squarepixels=no ximagesize=600 yimagesize=600 imagebinning=imageSize ximagemin=1 ximagemax=640 withxranges=no yimagemin=1 yimagemax=640 withyranges=no imagedatatype=Real64 withimagedatatype=no raimagecenter=0 decimagecenter=0 withcelestialcenter=no withimageset=yes spectrumset=spectrum.fits spectralbinsize=5 specchannelmin=0 specchannelmax=11999 withspecranges=no nonStandardSpec=no withspectrumset=no rateset=rate.fits timecolumn=TIME timebinsize=1 timemin=0 timemax=1000 withtimeranges=no maketimecolumn=no makeratecolumn=no withrateset=no histogramset=histo.fits histogramcolumn=TIME histogrambinsize=1 histogrammin=0 histogrammax=1000 withhistoranges=no withhistogramset=no  -w 1 -V 4\n",
      "evselect:- evselect (evselect-3.71.1)  [xmmsas_20211130_0941-20.0.0] started:  2024-04-11T16:30:00.000\n",
      "evselect:- evselect (evselect-3.71.1)  [xmmsas_20211130_0941-20.0.0] ended:    2024-04-11T16:30:00.000\n",
      "espfilt:-  Running evselect to create *FOV LIGHTCURVE*\n",
      "espfilt:-  *FOV LIGHTCURVE * = mos1S001-fovlc-2500-8500.fits\n",
      "evselect:- Executing (routine): evselect table=/Users/dt237/code/DAXA/docs/source/notebooks/tutorials/daxa_output/archives/PHL1811_made_earlier/processed_data/xmm_pointed/0204310101/P0204310101M1S001MIEVLI0000.FIT:EVENTS filteredset=filtered.fits withfilteredset=yes keepfilteroutput=no flagcolumn=EVFLAG flagbit=-1 destruct=yes dssblock='' expression='(PATTERN<=12)&&(PI in [2500:8500])&&(#XMMEA_EM)' filtertype=expression cleandss=no updateexposure=yes filterexposure=yes writedss=yes blockstocopy='' attributestocopy='' energycolumn=PHA zcolumn=WEIGHT zerrorcolumn=EWEIGHT withzerrorcolumn=no withzcolumn=no ignorelegallimits=no imageset=image.fits xcolumn=RAWX ycolumn=RAWY ximagebinsize=1 yimagebinsize=1 squarepixels=no ximagesize=600 yimagesize=600 imagebinning=imageSize ximagemin=1 ximagemax=640 withxranges=no yimagemin=1 yimagemax=640 withyranges=no imagedatatype=Real64 withimagedatatype=no raimagecenter=0 decimagecenter=0 withcelestialcenter=no withimageset=no spectrumset=spectrum.fits spectralbinsize=5 specchannelmin=0 specchannelmax=11999 withspecranges=no nonStandardSpec=no withspectrumset=no rateset=mos1S001-fovlc-2500-8500.fits timecolumn=TIME timebinsize=1 timemin=0 timemax=1000 withtimeranges=no maketimecolumn=yes makeratecolumn=yes withrateset=yes histogramset=histo.fits histogramcolumn=TIME histogrambinsize=1 histogrammin=0 histogrammax=1000 withhistoranges=no withhistogramset=no  -w 1 -V 4\n",
      "evselect:- evselect (evselect-3.71.1)  [xmmsas_20211130_0941-20.0.0] started:  2024-04-11T16:30:00.000\n",
      "evselect:- selected 31988 rows from the input table.\n",
      "evselect:- evselect (evselect-3.71.1)  [xmmsas_20211130_0941-20.0.0] ended:    2024-04-11T16:30:00.000\n",
      "espfilt:-  Running evselect to create *CORNER EVENTLIST*\n",
      "espfilt:-  *CORNER EVENTLIST * = mos1S001-corev-2500-8500.fits\n",
      "evselect:- Executing (routine): evselect table=/Users/dt237/code/DAXA/docs/source/notebooks/tutorials/daxa_output/archives/PHL1811_made_earlier/processed_data/xmm_pointed/0204310101/P0204310101M1S001MIEVLI0000.FIT:EVENTS filteredset=mos1S001-corev-2500-8500.fits withfilteredset=yes keepfilteroutput=yes flagcolumn=EVFLAG flagbit=-1 destruct=yes dssblock='' expression='(PATTERN<=12)&&((FLAG & 0x766aa000)==0)&&!(CIRCLE(100,-200,17700,DETX,DETY)||CIRCLE(834,135,17100,DETX,DETY)||CIRCLE(770,-803,17100,DETX,DETY)||BOX(-20,-17000,6500,500,0,DETX,DETY)||BOX(5880,-20500,7500,1500,10,DETX,DETY)||BOX(-5920,-20500,7500,1500,350,DETX,DETY)||BOX(-20,-20000,5500,500,0,DETX,DETY)||BOX(-12900,16000,250,4000,0,DETX,DETY)||BOX(80,18600,150,1300,0,DETX,DETY)||BOX(-10,-18800,125,1500,0,DETX,DETY))' filtertype=expression cleandss=no updateexposure=yes filterexposure=yes writedss=yes blockstocopy='' attributestocopy='' energycolumn=PHA zcolumn=WEIGHT zerrorcolumn=EWEIGHT withzerrorcolumn=no withzcolumn=no ignorelegallimits=no imageset=image.fits xcolumn=RAWX ycolumn=RAWY ximagebinsize=1 yimagebinsize=1 squarepixels=no ximagesize=600 yimagesize=600 imagebinning=imageSize ximagemin=1 ximagemax=640 withxranges=no yimagemin=1 yimagemax=640 withyranges=no imagedatatype=Real64 withimagedatatype=no raimagecenter=0 decimagecenter=0 withcelestialcenter=no withimageset=no spectrumset=spectrum.fits spectralbinsize=5 specchannelmin=0 specchannelmax=11999 withspecranges=no nonStandardSpec=no withspectrumset=no rateset=rate.fits timecolumn=TIME timebinsize=1 timemin=0 timemax=1000 withtimeranges=no maketimecolumn=no makeratecolumn=no withrateset=no histogramset=histo.fits histogramcolumn=TIME histogrambinsize=1 histogrammin=0 histogrammax=1000 withhistoranges=no withhistogramset=no  -w 1 -V 4\n",
      "evselect:- evselect (evselect-3.71.1)  [xmmsas_20211130_0941-20.0.0] started:  2024-04-11T16:30:01.000\n",
      "evselect:- selected 14639 rows from the input table.\n",
      "evselect:- evselect (evselect-3.71.1)  [xmmsas_20211130_0941-20.0.0] ended:    2024-04-11T16:30:01.000\n",
      "espfilt:-  Running evselect to create *CORNER IMAGE*\n",
      "espfilt:-  *CORNER IMAGE * = mos1S001-corim-2500-8500.fits\n",
      "evselect:- Executing (routine): evselect table=mos1S001-corev-2500-8500.fits filteredset=filtered.fits withfilteredset=no keepfilteroutput=no flagcolumn=EVFLAG flagbit=-1 destruct=yes dssblock='' expression=true filtertype=expression cleandss=no updateexposure=yes filterexposure=yes writedss=yes blockstocopy='' attributestocopy='' energycolumn=PHA zcolumn=WEIGHT zerrorcolumn=EWEIGHT withzerrorcolumn=no withzcolumn=no ignorelegallimits=no imageset=mos1S001-corim-2500-8500.fits xcolumn=DETX ycolumn=DETY ximagebinsize=1 yimagebinsize=1 squarepixels=no ximagesize=600 yimagesize=600 imagebinning=imageSize ximagemin=1 ximagemax=640 withxranges=no yimagemin=1 yimagemax=640 withyranges=no imagedatatype=Real64 withimagedatatype=no raimagecenter=0 decimagecenter=0 withcelestialcenter=no withimageset=yes spectrumset=spectrum.fits spectralbinsize=5 specchannelmin=0 specchannelmax=11999 withspecranges=no nonStandardSpec=no withspectrumset=no rateset=rate.fits timecolumn=TIME timebinsize=1 timemin=0 timemax=1000 withtimeranges=no maketimecolumn=no makeratecolumn=no withrateset=no histogramset=histo.fits histogramcolumn=TIME histogrambinsize=1 histogrammin=0 histogrammax=1000 withhistoranges=no withhistogramset=no  -w 1 -V 4\n",
      "evselect:- evselect (evselect-3.71.1)  [xmmsas_20211130_0941-20.0.0] started:  2024-04-11T16:30:02.000\n",
      "evselect:- evselect (evselect-3.71.1)  [xmmsas_20211130_0941-20.0.0] ended:    2024-04-11T16:30:02.000\n",
      "espfilt:-  Running evselect to create *CORNER LIGHTCURVE*\n",
      "espfilt:-  *CORNER LIGHTCURVE * = mos1S001-corlc-2500-8500.fits\n",
      "evselect:- Executing (routine): evselect table=/Users/dt237/code/DAXA/docs/source/notebooks/tutorials/daxa_output/archives/PHL1811_made_earlier/processed_data/xmm_pointed/0204310101/P0204310101M1S001MIEVLI0000.FIT:EVENTS filteredset=filtered.fits withfilteredset=yes keepfilteroutput=no flagcolumn=EVFLAG flagbit=-1 destruct=yes dssblock='' expression='(PATTERN<=12)&&(PI in [2500:8500])&&((FLAG & 0x766aa000)==0)&&!(CIRCLE(100,-200,17700,DETX,DETY)||CIRCLE(834,135,17100,DETX,DETY)||CIRCLE(770,-803,17100,DETX,DETY)||BOX(-20,-17000,6500,500,0,DETX,DETY)||BOX(5880,-20500,7500,1500,10,DETX,DETY)||BOX(-5920,-20500,7500,1500,350,DETX,DETY)||BOX(-20,-20000,5500,500,0,DETX,DETY)||BOX(-12900,16000,250,4000,0,DETX,DETY)||BOX(80,18600,150,1300,0,DETX,DETY)||BOX(-10,-18800,125,1500,0,DETX,DETY))' filtertype=expression cleandss=no updateexposure=yes filterexposure=yes writedss=yes blockstocopy='' attributestocopy='' energycolumn=PHA zcolumn=WEIGHT zerrorcolumn=EWEIGHT withzerrorcolumn=no withzcolumn=no ignorelegallimits=no imageset=image.fits xcolumn=RAWX ycolumn=RAWY ximagebinsize=1 yimagebinsize=1 squarepixels=no ximagesize=600 yimagesize=600 imagebinning=imageSize ximagemin=1 ximagemax=640 withxranges=no yimagemin=1 yimagemax=640 withyranges=no imagedatatype=Real64 withimagedatatype=no raimagecenter=0 decimagecenter=0 withcelestialcenter=no withimageset=no spectrumset=spectrum.fits spectralbinsize=5 specchannelmin=0 specchannelmax=11999 withspecranges=no nonStandardSpec=no withspectrumset=no rateset=mos1S001-corlc-2500-8500.fits timecolumn=TIME timebinsize=1 timemin=0 timemax=1000 withtimeranges=no maketimecolumn=yes makeratecolumn=yes withrateset=yes histogramset=histo.fits histogramcolumn=TIME histogrambinsize=1 histogrammin=0 histogrammax=1000 withhistoranges=no withhistogramset=no  -w 1 -V 4\n",
      "evselect:- evselect (evselect-3.71.1)  [xmmsas_20211130_0941-20.0.0] started:  2024-04-11T16:30:02.000\n",
      "evselect:- selected 4965 rows from the input table.\n",
      "evselect:- evselect (evselect-3.71.1)  [xmmsas_20211130_0941-20.0.0] ended:    2024-04-11T16:30:02.000\n",
      "espfilt:-  ESPFILT: Processing using the HISTOGRAM method.\n",
      "espfilt:-  CLEAN_LC: There are        32670  rows in the FOV LC\n",
      "espfilt:-  Starting Multidimensional minimzation of fit_gauss (amoeba)\n",
      "espfilt:- plim(1:2) =   0.1000   6.5000\n",
      "espfilt:- **** sortarray max bins    =   663 histo binwidth =    0.0196\n",
      "espfilt:- **** sortarray actual bins (nverls) =   658\n",
      "espfilt:- min LC value=    0.000 max LC value =    3.392 limits(2) =    6.500\n",
      "espfilt:- ***** pre-amoeba: low =   30 peak =    35 high =    42 delta =    13\n",
      "espfilt:- ***** pre-amoeba: cnts(low) = 1091 cnts(peak) =  1314 cnts(high) =   869\n",
      "espfilt:-  pre-amoeba parms =  1314.000    0.767    0.100\n",
      "espfilt:- \n",
      "espfilt:- 1st rl =  1267.824    0.758    0.158 / rh =  1267.824    0.758    0.158\n",
      "espfilt:- 1st cl =  1901.592 / ch =  1901.592\n",
      "espfilt:- ***** 2nd amoeba: low =   30 peak =    35 high =    42\n",
      "espfilt:- ***** 2nd amoeba: cnts(low) = 1091 cnts(peak)=  1314 cnts(high) =   869\n",
      "espfilt:-  2nd parms =  1314.000    0.767    0.100\n",
      "espfilt:- 2nd rl =  1267.824    0.758    0.158 / rh =  1267.824    0.758    0.158\n",
      "espfilt:- 2nd cl =  1901.592 / ch =  1901.592\n",
      "espfilt:- ***** 3rd amoeba: low =   30 peak =    35 high =    42\n",
      "espfilt:- ***** 3rd amoeba: cnts(low) = 1091 cnts(peak)=  1314 cnts(high) =   869\n",
      "espfilt:-  3rd parms =  1314.000    0.767    0.100\n",
      "espfilt:- 3rd rl =  1267.824    0.758    0.158 / rh =  1267.824    0.758    0.158\n",
      "espfilt:- 3rd cl =  1901.592 / ch =  1901.592\n",
      "espfilt:- H_IMME =  0.582     H_TOTL = 0.2702     L_IMME = 0.7583     L_TOTL = -.4692E-01\n",
      "espfilt:- WRITE_QDP_GTI: Norm =  1267.824 Width =     0.158 Center =     0.758\n",
      "gtibuild:- Executing (routine): gtibuild file=mos1S001-gti-2500-8500.txt table=mos1S001-gti-2500-8500.fits  -w 1 -V 4\n",
      "gtibuild:- gtibuild (gtibuild-1.5)  [xmmsas_20211130_0941-20.0.0] started:  2024-04-11T16:30:03.000\n",
      "gtibuild:- gtibuild (gtibuild-1.5)  [xmmsas_20211130_0941-20.0.0] ended:    2024-04-11T16:30:03.000\n",
      "espfilt:-  HISTOGRAM_METHOD: *CLEANED (flare-free) FOV EVENTLIST FILE* = mos1S001-allevc-2500-8500.fits\n",
      "espfilt:-  *Flare free eventlist evselect command =\n",
      "evselect:- Executing (routine): evselect table=/Users/dt237/code/DAXA/docs/source/notebooks/tutorials/daxa_output/archives/PHL1811_made_earlier/processed_data/xmm_pointed/0204310101/P0204310101M1S001MIEVLI0000.FIT filteredset=mos1S001-allevc-2500-8500.fits withfilteredset=yes keepfilteroutput=yes flagcolumn=EVFLAG flagbit=-1 destruct=yes dssblock='' expression='(PATTERN<=12)&&GTI(mos1S001-gti-2500-8500.fits,TIME)&&((FLAG & 0x766aa000)==0)' filtertype=expression cleandss=no updateexposure=yes filterexposure=yes writedss=yes blockstocopy='' attributestocopy='' energycolumn=PHA zcolumn=WEIGHT zerrorcolumn=EWEIGHT withzerrorcolumn=no withzcolumn=no ignorelegallimits=no imageset=image.fits xcolumn=RAWX ycolumn=RAWY ximagebinsize=1 yimagebinsize=1 squarepixels=no ximagesize=600 yimagesize=600 imagebinning=imageSize ximagemin=1 ximagemax=640 withxranges=no yimagemin=1 yimagemax=640 withyranges=no imagedatatype=Real64 withimagedatatype=no raimagecenter=0 decimagecenter=0 withcelestialcenter=no withimageset=no spectrumset=spectrum.fits spectralbinsize=5 specchannelmin=0 specchannelmax=11999 withspecranges=no nonStandardSpec=no withspectrumset=no rateset=rate.fits timecolumn=TIME timebinsize=1 timemin=0 timemax=1000 withtimeranges=no maketimecolumn=no makeratecolumn=no withrateset=no histogramset=histo.fits histogramcolumn=TIME histogrambinsize=1 histogrammin=0 histogrammax=1000 withhistoranges=no withhistogramset=no  -w 1 -V 4\n",
      "evselect:- evselect (evselect-3.71.1)  [xmmsas_20211130_0941-20.0.0] started:  2024-04-11T16:30:04.000\n",
      "evselect:- selected 88764 rows from the input table.\n",
      "evselect:- evselect (evselect-3.71.1)  [xmmsas_20211130_0941-20.0.0] ended:    2024-04-11T16:30:04.000\n",
      "espfilt:-  HISTOGRAM_METHOD: *CLEANED (flare-free) FOV IMAGE FILE* = mos1S001-allimc-2500-8500.fits\n",
      "espfilt:-  *Flare free FOV image evselect command =\n",
      "evselect:- Executing (routine): evselect table=mos1S001-allevc-2500-8500.fits filteredset=filtered.fits withfilteredset=no keepfilteroutput=no flagcolumn=EVFLAG flagbit=-1 destruct=yes dssblock='' expression=true filtertype=expression cleandss=no updateexposure=yes filterexposure=yes writedss=yes blockstocopy='' attributestocopy='' energycolumn=PHA zcolumn=WEIGHT zerrorcolumn=EWEIGHT withzerrorcolumn=no withzcolumn=no ignorelegallimits=no imageset=mos1S001-allimc-2500-8500.fits xcolumn=DETX ycolumn=DETY ximagebinsize=1 yimagebinsize=1 squarepixels=no ximagesize=600 yimagesize=600 imagebinning=imageSize ximagemin=1 ximagemax=640 withxranges=no yimagemin=1 yimagemax=640 withyranges=no imagedatatype=Real64 withimagedatatype=no raimagecenter=0 decimagecenter=0 withcelestialcenter=no withimageset=yes spectrumset=spectrum.fits spectralbinsize=5 specchannelmin=0 specchannelmax=11999 withspecranges=no nonStandardSpec=no withspectrumset=no rateset=rate.fits timecolumn=TIME timebinsize=1 timemin=0 timemax=1000 withtimeranges=no maketimecolumn=no makeratecolumn=no withrateset=no histogramset=histo.fits histogramcolumn=TIME histogrambinsize=1 histogrammin=0 histogrammax=1000 withhistoranges=no withhistogramset=no  -w 1 -V 4\n",
      "evselect:- evselect (evselect-3.71.1)  [xmmsas_20211130_0941-20.0.0] started:  2024-04-11T16:30:05.000\n",
      "evselect:- evselect (evselect-3.71.1)  [xmmsas_20211130_0941-20.0.0] ended:    2024-04-11T16:30:05.000\n",
      "espfilt:-  HISTOGRAM_METHOD: *CLEANED (flare-free) CORNER EVENTLIST FILE* = mos1S001-corevc-2500-8500.fits\n",
      "espfilt:-  *Flare free corner eventlist evselect command =\n",
      "evselect:- Executing (routine): evselect table=/Users/dt237/code/DAXA/docs/source/notebooks/tutorials/daxa_output/archives/PHL1811_made_earlier/processed_data/xmm_pointed/0204310101/P0204310101M1S001MIEVLI0000.FIT:EVENTS filteredset=mos1S001-corevc-2500-8500.fits withfilteredset=yes keepfilteroutput=yes flagcolumn=EVFLAG flagbit=-1 destruct=yes dssblock='' expression='(PATTERN<=12)&&GTI(mos1S001-gti-2500-8500.fits,TIME)&&((FLAG & 0x766aa000)==0)&&!(CIRCLE(100,-200,17700,DETX,DETY)||CIRCLE(834,135,17100,DETX,DETY)||CIRCLE(770,-803,17100,DETX,DETY)||BOX(-20,-17000,6500,500,0,DETX,DETY)||BOX(5880,-20500,7500,1500,10,DETX,DETY)||BOX(-5920,-20500,7500,1500,350,DETX,DETY)||BOX(-20,-20000,5500,500,0,DETX,DETY)||BOX(-12900,16000,250,4000,0,DETX,DETY)||BOX(80,18600,150,1300,0,DETX,DETY)||BOX(-10,-18800,125,1500,0,DETX,DETY))' filtertype=expression cleandss=no updateexposure=yes filterexposure=yes writedss=yes blockstocopy='' attributestocopy='' energycolumn=PHA zcolumn=WEIGHT zerrorcolumn=EWEIGHT withzerrorcolumn=no withzcolumn=no ignorelegallimits=no imageset=image.fits xcolumn=RAWX ycolumn=RAWY ximagebinsize=1 yimagebinsize=1 squarepixels=no ximagesize=600 yimagesize=600 imagebinning=imageSize ximagemin=1 ximagemax=640 withxranges=no yimagemin=1 yimagemax=640 withyranges=no imagedatatype=Real64 withimagedatatype=no raimagecenter=0 decimagecenter=0 withcelestialcenter=no withimageset=no spectrumset=spectrum.fits spectralbinsize=5 specchannelmin=0 specchannelmax=11999 withspecranges=no nonStandardSpec=no withspectrumset=no rateset=rate.fits timecolumn=TIME timebinsize=1 timemin=0 timemax=1000 withtimeranges=no maketimecolumn=no makeratecolumn=no withrateset=no histogramset=histo.fits histogramcolumn=TIME histogrambinsize=1 histogrammin=0 histogrammax=1000 withhistoranges=no withhistogramset=no  -w 1 -V 4\n",
      "evselect:- evselect (evselect-3.71.1)  [xmmsas_20211130_0941-20.0.0] started:  2024-04-11T16:30:05.000\n",
      "evselect:- selected 11539 rows from the input table.\n",
      "evselect:- evselect (evselect-3.71.1)  [xmmsas_20211130_0941-20.0.0] ended:    2024-04-11T16:30:05.000\n",
      "espfilt:-  HISTOGRAM_METHOD: *CLEANED (flare-free) CORNER IMAGE FILE* = mos1S001-corimc-2500-8500.fits\n",
      "espfilt:-  *Flare free corner image evselect command =\n",
      "evselect:- Executing (routine): evselect table=mos1S001-corevc-2500-8500.fits filteredset=filtered.fits withfilteredset=no keepfilteroutput=no flagcolumn=EVFLAG flagbit=-1 destruct=yes dssblock='' expression=true filtertype=expression cleandss=no updateexposure=yes filterexposure=yes writedss=yes blockstocopy='' attributestocopy='' energycolumn=PHA zcolumn=WEIGHT zerrorcolumn=EWEIGHT withzerrorcolumn=no withzcolumn=no ignorelegallimits=no imageset=mos1S001-corimc-2500-8500.fits xcolumn=DETX ycolumn=DETY ximagebinsize=1 yimagebinsize=1 squarepixels=no ximagesize=600 yimagesize=600 imagebinning=imageSize ximagemin=1 ximagemax=640 withxranges=no yimagemin=1 yimagemax=640 withyranges=no imagedatatype=Real64 withimagedatatype=no raimagecenter=0 decimagecenter=0 withcelestialcenter=no withimageset=yes spectrumset=spectrum.fits spectralbinsize=5 specchannelmin=0 specchannelmax=11999 withspecranges=no nonStandardSpec=no withspectrumset=no rateset=rate.fits timecolumn=TIME timebinsize=1 timemin=0 timemax=1000 withtimeranges=no maketimecolumn=no makeratecolumn=no withrateset=no histogramset=histo.fits histogramcolumn=TIME histogrambinsize=1 histogrammin=0 histogrammax=1000 withhistoranges=no withhistogramset=no  -w 1 -V 4\n",
      "evselect:- evselect (evselect-3.71.1)  [xmmsas_20211130_0941-20.0.0] started:  2024-04-11T16:30:06.000\n",
      "evselect:- evselect (evselect-3.71.1)  [xmmsas_20211130_0941-20.0.0] ended:    2024-04-11T16:30:06.000\n",
      "espfilt:-  HISTOGRAM_METHOD: Adding residuals to cleaned event lists\n",
      "espfilt:- Normalization =  1267.824\n",
      "espfilt:- Width         =     0.158\n",
      "espfilt:- Center        =     0.758\n",
      "espfilt:-  HISTOGRAM_METHOD: Return with no errors\n",
      "espfilt:-  ESPFILT: **** keepinterfiles NOT set\n",
      "espfilt:-  ESPFILT: **** Deleting these intermediary files:\n",
      "espfilt:-  Unfiltered FOV image: mos1S001-fovim-2500-8500.fits\n",
      "espfilt:-  Corner-only image: mos1S001-corim-2500-8500.fits\n",
      "espfilt:-  GTI text file for gtibuild: mos1S001-gti-2500-8500.txt\n",
      "espfilt:- espfilt (espfilt-4.3)  [xmmsas_20211130_0941-20.0.0] ended:    2024-04-11T16:30:06.000\n",
      "\n"
     ]
    }
   ],
   "source": [
    "print(prev_arch.process_logs['xmm_pointed']['espfilt']['0204310101M1S001'])"
   ]
  },
  {
   "cell_type": "markdown",
   "id": "6c5c59d9",
   "metadata": {},
   "source": [
    "### Process Raw Errors (stderr)"
   ]
  },
  {
   "cell_type": "markdown",
   "id": "3003fb8e",
   "metadata": {},
   "source": [
    "Related to the previous section is the `raw_process_errors` property, which stores the stderr output of any process that generated one - note that if no stderr was produced, then we do not create an entry. DAXA makes a distinction between 'raw process errors' and the 'process errors' you'll see in the next section - this is because we attempt to parse any stderr and extract particular errors, versus this property which is just the raw text:"
   ]
  },
  {
   "cell_type": "code",
   "execution_count": 19,
   "id": "e0cd0978",
   "metadata": {},
   "outputs": [
    {
     "data": {
      "text/plain": [
       "{'xmm_pointed': {'cif_build': {},\n",
       "  'odf_ingest': {},\n",
       "  'epchain': {},\n",
       "  'emchain': {},\n",
       "  'espfilt': {'0502671101PNS003': '** evselect: warning (NoWCS), No WCS information available for image column DETX.\\n** evselect: warning (SummaryOfWarnings), \\n   warning NoWCS silently occurred 1 times\\n** evselect: warning (NoWCS), No WCS information available for image column DETX.\\n** evselect: warning (SummaryOfWarnings), \\n   warning NoWCS silently occurred 1 times\\n** espfilt: error (noCounts), All histo counts are zero! Check your FOV Lightcurve!\\nmv: rename pnS003-gti-2500-8500.fits to ../PNS003-gti-2500-8500.fits: No such file or directory\\nmv: rename pnS003-allevc-2500-8500.fits to ../PNS003-allevc-2500-8500.fits: No such file or directory\\nmv: rename pnS003-hist-2500-8500.qdp to ../PNS003-hist-2500-8500.qdp: No such file or directory\\n'},\n",
       "  'cleaned_evt_lists': {},\n",
       "  'merge_subexposures': {}},\n",
       " 'chandra': {},\n",
       " 'nustar_pointed': {},\n",
       " 'rosat_all_sky': {}}"
      ]
     },
     "execution_count": 19,
     "metadata": {},
     "output_type": "execute_result"
    }
   ],
   "source": [
    "prev_arch.raw_process_errors"
   ]
  },
  {
   "cell_type": "markdown",
   "id": "f55db330",
   "metadata": {},
   "source": [
    "### Process Parsed Errors (parsed from stderr)"
   ]
  },
  {
   "cell_type": "markdown",
   "id": "35c0e8cf",
   "metadata": {},
   "source": [
    "We attempt to extract the pertinent information from the raw error outputs, and this is what gets stored in `process_errors` - again with the same storage structure. Here we just show a single entry, for one of the pieces of data that we noted had failed a processing step in the `process_success` section of this tutorial:"
   ]
  },
  {
   "cell_type": "code",
   "execution_count": 20,
   "id": "b9e001af",
   "metadata": {},
   "outputs": [
    {
     "data": {
      "text/plain": [
       "['noCounts raised by espfilt - All histo counts are zero! Check your FOV Lightcurve!']"
      ]
     },
     "execution_count": 20,
     "metadata": {},
     "output_type": "execute_result"
    }
   ],
   "source": [
    "prev_arch.process_errors['xmm_pointed']['espfilt']['0502671101PNS003']"
   ]
  },
  {
   "cell_type": "markdown",
   "id": "a8216a10",
   "metadata": {},
   "source": [
    "### Process Parsed Warnings (parsed from stderr)"
   ]
  },
  {
   "cell_type": "markdown",
   "id": "a72337d2",
   "metadata": {},
   "source": [
    "We make a distinction between errors and warnings, as do many pieces of backend software. The `process_warnings` property acts exactly as the `process_errors` property, but it is warnings that have been extracted rather than errors:"
   ]
  },
  {
   "cell_type": "code",
   "execution_count": 21,
   "id": "3a002966",
   "metadata": {
    "scrolled": false
   },
   "outputs": [
    {
     "data": {
      "text/plain": [
       "{'originator': 'epframes',\n",
       " 'name': 'notHKconstant',\n",
       " 'message': 'HK parameter F1725 is not constant, range = [           0 ,         256 ]. Use default:          256'}"
      ]
     },
     "execution_count": 21,
     "metadata": {},
     "output_type": "execute_result"
    }
   ],
   "source": [
    "prev_arch.process_warnings['xmm_pointed']['epchain'][\"0502671101PNS003\"][109]"
   ]
  },
  {
   "cell_type": "markdown",
   "id": "cb21cec2",
   "metadata": {},
   "source": [
    "### Process Extra Information"
   ]
  },
  {
   "cell_type": "markdown",
   "id": "c3f87cdb",
   "metadata": {},
   "source": [
    "The `process_extra_info` property is something of a catch-all for any information passed into, or produced by, a processing step that the archive might need access to later on. This can include things like the paths to the key output files of a process. This isn't really meant to be useful to the user, but can still be accessed.\n",
    "\n",
    "We only show the contents for one processing step (`cleaned_evt_lists`) so as not to make the tutorial too long:"
   ]
  },
  {
   "cell_type": "code",
   "execution_count": 22,
   "id": "dee54699",
   "metadata": {},
   "outputs": [
    {
     "data": {
      "text/plain": [
       "{'0105261001M1S001': {'evt_clean_path': '/Users/dt237/code/DAXA/docs/source/notebooks/tutorials/daxa_output/archives/PHL1811_made_earlier/processed_data/xmm_pointed/0105261001/M1S001_clean.fits',\n",
       "  'en_key': ''},\n",
       " '0105261001M2S002': {'evt_clean_path': '/Users/dt237/code/DAXA/docs/source/notebooks/tutorials/daxa_output/archives/PHL1811_made_earlier/processed_data/xmm_pointed/0105261001/M2S002_clean.fits',\n",
       "  'en_key': ''},\n",
       " '0105261001M2U002': {'evt_clean_path': '/Users/dt237/code/DAXA/docs/source/notebooks/tutorials/daxa_output/archives/PHL1811_made_earlier/processed_data/xmm_pointed/0105261001/M2U002_clean.fits',\n",
       "  'en_key': ''},\n",
       " '0105261001M1U002': {'evt_clean_path': '/Users/dt237/code/DAXA/docs/source/notebooks/tutorials/daxa_output/archives/PHL1811_made_earlier/processed_data/xmm_pointed/0105261001/M1U002_clean.fits',\n",
       "  'en_key': ''},\n",
       " '0761910201M1S001': {'evt_clean_path': '/Users/dt237/code/DAXA/docs/source/notebooks/tutorials/daxa_output/archives/PHL1811_made_earlier/processed_data/xmm_pointed/0761910201/M1S001_clean.fits',\n",
       "  'en_key': ''},\n",
       " '0204310101M2S002': {'evt_clean_path': '/Users/dt237/code/DAXA/docs/source/notebooks/tutorials/daxa_output/archives/PHL1811_made_earlier/processed_data/xmm_pointed/0204310101/M2S002_clean.fits',\n",
       "  'en_key': ''},\n",
       " '0204310101M1S001': {'evt_clean_path': '/Users/dt237/code/DAXA/docs/source/notebooks/tutorials/daxa_output/archives/PHL1811_made_earlier/processed_data/xmm_pointed/0204310101/M1S001_clean.fits',\n",
       "  'en_key': ''},\n",
       " '0502671101M1S001': {'evt_clean_path': '/Users/dt237/code/DAXA/docs/source/notebooks/tutorials/daxa_output/archives/PHL1811_made_earlier/processed_data/xmm_pointed/0502671101/M1S001_clean.fits',\n",
       "  'en_key': ''},\n",
       " '0502671101M2S002': {'evt_clean_path': '/Users/dt237/code/DAXA/docs/source/notebooks/tutorials/daxa_output/archives/PHL1811_made_earlier/processed_data/xmm_pointed/0502671101/M2S002_clean.fits',\n",
       "  'en_key': ''},\n",
       " '0761910201M2S002': {'evt_clean_path': '/Users/dt237/code/DAXA/docs/source/notebooks/tutorials/daxa_output/archives/PHL1811_made_earlier/processed_data/xmm_pointed/0761910201/M2S002_clean.fits',\n",
       "  'en_key': ''},\n",
       " '0105261001PNS003': {'evt_clean_path': '/Users/dt237/code/DAXA/docs/source/notebooks/tutorials/daxa_output/archives/PHL1811_made_earlier/processed_data/xmm_pointed/0105261001/PNS003_clean.fits',\n",
       "  'en_key': '',\n",
       "  'oot_evt_clean_path': '/Users/dt237/code/DAXA/docs/source/notebooks/tutorials/daxa_output/archives/PHL1811_made_earlier/processed_data/xmm_pointed/0105261001/PNS003_oot_clean.fits'},\n",
       " '0105261001PNU002': {'evt_clean_path': '/Users/dt237/code/DAXA/docs/source/notebooks/tutorials/daxa_output/archives/PHL1811_made_earlier/processed_data/xmm_pointed/0105261001/PNU002_clean.fits',\n",
       "  'en_key': '',\n",
       "  'oot_evt_clean_path': '/Users/dt237/code/DAXA/docs/source/notebooks/tutorials/daxa_output/archives/PHL1811_made_earlier/processed_data/xmm_pointed/0105261001/PNU002_oot_clean.fits'},\n",
       " '0204310101PNS003': {'evt_clean_path': '/Users/dt237/code/DAXA/docs/source/notebooks/tutorials/daxa_output/archives/PHL1811_made_earlier/processed_data/xmm_pointed/0204310101/PNS003_clean.fits',\n",
       "  'en_key': '',\n",
       "  'oot_evt_clean_path': '/Users/dt237/code/DAXA/docs/source/notebooks/tutorials/daxa_output/archives/PHL1811_made_earlier/processed_data/xmm_pointed/0204310101/PNS003_oot_clean.fits'},\n",
       " '0761910201PNS003': {'evt_clean_path': '/Users/dt237/code/DAXA/docs/source/notebooks/tutorials/daxa_output/archives/PHL1811_made_earlier/processed_data/xmm_pointed/0761910201/PNS003_clean.fits',\n",
       "  'en_key': '',\n",
       "  'oot_evt_clean_path': '/Users/dt237/code/DAXA/docs/source/notebooks/tutorials/daxa_output/archives/PHL1811_made_earlier/processed_data/xmm_pointed/0761910201/PNS003_oot_clean.fits'}}"
      ]
     },
     "execution_count": 22,
     "metadata": {},
     "output_type": "execute_result"
    }
   ],
   "source": [
    "prev_arch.process_extra_info['xmm_pointed']['cleaned_evt_lists']"
   ]
  },
  {
   "cell_type": "markdown",
   "id": "b6500150",
   "metadata": {},
   "source": [
    "### Final process success"
   ]
  },
  {
   "cell_type": "markdown",
   "id": "d5694931",
   "metadata": {},
   "source": [
    "This property (`final_process_success`) is the final arbiter of whether a particular ObsID of a mission can be used by the end user - this is only decided when whatever DAXA defines as the 'final processing step' for a particular mission is run (for XMM this is the assembly of cleaned event lists). \n",
    "\n",
    "If it is False, then none of the data for that ObsID reached the final processing step - note here that 0102041001 is False, this is because all the instruments were in calibration mode with the filter closed. As such, this ObsID is moved from the 'processed_data' directory in the archive storage structure, to the 'failed_data' directory."
   ]
  },
  {
   "cell_type": "code",
   "execution_count": 23,
   "id": "60b67d53",
   "metadata": {},
   "outputs": [
    {
     "data": {
      "text/plain": [
       "{'xmm_pointed': {'0102041001': False,\n",
       "  '0105261001': True,\n",
       "  '0204310101': True,\n",
       "  '0502671101': True,\n",
       "  '0761910201': True},\n",
       " 'chandra': {},\n",
       " 'nustar_pointed': {},\n",
       " 'rosat_all_sky': {}}"
      ]
     },
     "execution_count": 23,
     "metadata": {},
     "output_type": "execute_result"
    }
   ],
   "source": [
    "prev_arch.final_process_success"
   ]
  },
  {
   "cell_type": "markdown",
   "id": "7718d0bb",
   "metadata": {},
   "source": [
    "### Observation Summaries"
   ]
  },
  {
   "cell_type": "markdown",
   "id": "3a2bb513",
   "metadata": {},
   "source": [
    "This property (`observation_summaries`) contains a summary of the exact data available for particular observations of a mission, and is meant to allow DAXA processes to access whether they can run on a particular ObsID (not really relevant to end users). The property is populated in different ways for each mission - the XMMPointed mission, for instance, parses the output summary file from `odf_ingest` and turns it into an extremely detailed summary of the state of each instrument on XMM for an observation. \n",
    "\n",
    "For clarity we only show the output for one ObsID:"
   ]
  },
  {
   "cell_type": "code",
   "execution_count": 24,
   "id": "18fb0787",
   "metadata": {
    "scrolled": false
   },
   "outputs": [
    {
     "data": {
      "text/plain": [
       "{'M1': {'active': True,\n",
       "  'num_exp': 1,\n",
       "  'exposures': {'S001': {'scheduled': True,\n",
       "    'type': 'SCIENCE',\n",
       "    'mode': 'PrimeFullWindow',\n",
       "    'filter': 'Thin1',\n",
       "    'ccd_modes': {'1': 'Imaging',\n",
       "     '2': 'Imaging',\n",
       "     '3': 'Imaging',\n",
       "     '4': 'Imaging',\n",
       "     '5': 'Imaging',\n",
       "     '6': 'Imaging',\n",
       "     '7': 'Imaging'}}}},\n",
       " 'M2': {'active': True,\n",
       "  'num_exp': 1,\n",
       "  'exposures': {'S002': {'scheduled': True,\n",
       "    'type': 'SCIENCE',\n",
       "    'mode': 'PrimeFullWindow',\n",
       "    'filter': 'Thin1',\n",
       "    'ccd_modes': {'1': 'Imaging',\n",
       "     '2': 'Imaging',\n",
       "     '3': 'Imaging',\n",
       "     '4': 'Imaging',\n",
       "     '5': 'Imaging',\n",
       "     '6': 'Imaging',\n",
       "     '7': 'Imaging'}}}},\n",
       " 'PN': {'active': True,\n",
       "  'num_exp': 14,\n",
       "  'exposures': {'S003': {'scheduled': True,\n",
       "    'type': 'SCIENCE',\n",
       "    'mode': 'PrimeFullWindow',\n",
       "    'filter': 'Thin1',\n",
       "    'ccd_modes': {'1': 'Imaging',\n",
       "     '2': 'Imaging',\n",
       "     '3': 'Imaging',\n",
       "     '4': 'Imaging',\n",
       "     '5': 'Imaging',\n",
       "     '6': 'Imaging',\n",
       "     '7': 'Imaging',\n",
       "     '8': 'Imaging',\n",
       "     '9': 'Imaging',\n",
       "     '10': 'Imaging',\n",
       "     '11': 'Imaging',\n",
       "     '12': 'Imaging'}},\n",
       "   'U002': {'scheduled': False,\n",
       "    'type': 'SCIENCE',\n",
       "    'mode': 'Diagnostic',\n",
       "    'filter': None,\n",
       "    'ccd_modes': {'1': 'DiscardedLinesData'}},\n",
       "   'U003': {'scheduled': False,\n",
       "    'type': 'SCIENCE',\n",
       "    'mode': 'Diagnostic',\n",
       "    'filter': None,\n",
       "    'ccd_modes': {'2': 'DiscardedLinesData'}},\n",
       "   'U004': {'scheduled': False,\n",
       "    'type': 'SCIENCE',\n",
       "    'mode': 'Diagnostic',\n",
       "    'filter': None,\n",
       "    'ccd_modes': {'3': 'DiscardedLinesData'}},\n",
       "   'U005': {'scheduled': False,\n",
       "    'type': 'SCIENCE',\n",
       "    'mode': 'Diagnostic',\n",
       "    'filter': None,\n",
       "    'ccd_modes': {'4': 'DiscardedLinesData'}},\n",
       "   'U006': {'scheduled': False,\n",
       "    'type': 'SCIENCE',\n",
       "    'mode': 'Diagnostic',\n",
       "    'filter': None,\n",
       "    'ccd_modes': {'5': 'DiscardedLinesData'}},\n",
       "   'U007': {'scheduled': False,\n",
       "    'type': 'SCIENCE',\n",
       "    'mode': 'Diagnostic',\n",
       "    'filter': None,\n",
       "    'ccd_modes': {'6': 'DiscardedLinesData'}},\n",
       "   'U008': {'scheduled': False,\n",
       "    'type': 'SCIENCE',\n",
       "    'mode': 'Diagnostic',\n",
       "    'filter': None,\n",
       "    'ccd_modes': {'7': 'DiscardedLinesData'}},\n",
       "   'U009': {'scheduled': False,\n",
       "    'type': 'SCIENCE',\n",
       "    'mode': 'Diagnostic',\n",
       "    'filter': None,\n",
       "    'ccd_modes': {'8': 'DiscardedLinesData'}},\n",
       "   'U010': {'scheduled': False,\n",
       "    'type': 'SCIENCE',\n",
       "    'mode': 'Diagnostic',\n",
       "    'filter': None,\n",
       "    'ccd_modes': {'9': 'DiscardedLinesData'}},\n",
       "   'U011': {'scheduled': False,\n",
       "    'type': 'SCIENCE',\n",
       "    'mode': 'Diagnostic',\n",
       "    'filter': None,\n",
       "    'ccd_modes': {'10': 'DiscardedLinesData'}},\n",
       "   'U012': {'scheduled': False,\n",
       "    'type': 'SCIENCE',\n",
       "    'mode': 'Diagnostic',\n",
       "    'filter': None,\n",
       "    'ccd_modes': {'11': 'DiscardedLinesData'}},\n",
       "   'U013': {'scheduled': False,\n",
       "    'type': 'SCIENCE',\n",
       "    'mode': 'Diagnostic',\n",
       "    'filter': None,\n",
       "    'ccd_modes': {'12': 'DiscardedLinesData'}},\n",
       "   'U101': {'scheduled': False,\n",
       "    'type': 'SCIENCE',\n",
       "    'mode': 'Offset',\n",
       "    'filter': 'Thin1',\n",
       "    'ccd_modes': {'1': 'OffsetData',\n",
       "     '2': 'OffsetData',\n",
       "     '3': 'OffsetData',\n",
       "     '4': 'OffsetData',\n",
       "     '5': 'OffsetData',\n",
       "     '6': 'OffsetData',\n",
       "     '7': 'OffsetData',\n",
       "     '8': 'OffsetData',\n",
       "     '9': 'OffsetData',\n",
       "     '10': 'OffsetData',\n",
       "     '11': 'OffsetData',\n",
       "     '12': 'OffsetData'}}}}}"
      ]
     },
     "execution_count": 24,
     "metadata": {},
     "output_type": "execute_result"
    }
   ],
   "source": [
    "prev_arch.observation_summaries['xmm_pointed']['0204310101']"
   ]
  },
  {
   "cell_type": "markdown",
   "id": "a5cb12b6",
   "metadata": {},
   "source": [
    "## Data management Archive functions"
   ]
  },
  {
   "cell_type": "markdown",
   "id": "37ebca8f",
   "metadata": {},
   "source": [
    "This section introduces the built-in methods that allow you to manage the archive and its data:"
   ]
  },
  {
   "cell_type": "markdown",
   "id": "57dad937",
   "metadata": {},
   "source": [
    "### Get path to data"
   ]
  },
  {
   "cell_type": "markdown",
   "id": "40397b87",
   "metadata": {},
   "source": [
    "One of the most useful methods of the archive class is `get_current_data_path()`, which allows you to programmatically retrieve the current path to a particular ObsID's data in the archive storage structure (this takes into account the `final_process_success` flag - remember that entirely failed data are moved to a 'failed_data' directory.\n",
    "\n",
    "All we need to do is pass the mission name and the ObsID, and the top-level data path will be returned. Here we show two examples, one for an ObsID with a True final success flag, and one with a False final success flag:"
   ]
  },
  {
   "cell_type": "code",
   "execution_count": 25,
   "id": "4fc83029",
   "metadata": {},
   "outputs": [
    {
     "data": {
      "text/plain": [
       "'/Users/dt237/code/DAXA/docs/source/notebooks/tutorials/daxa_output/archives/PHL1811_made_earlier/processed_data/xmm_pointed/0204310101/'"
      ]
     },
     "execution_count": 25,
     "metadata": {},
     "output_type": "execute_result"
    }
   ],
   "source": [
    "prev_arch.get_current_data_path('xmm_pointed', '0204310101')"
   ]
  },
  {
   "cell_type": "code",
   "execution_count": 26,
   "id": "dd206c63",
   "metadata": {},
   "outputs": [
    {
     "data": {
      "text/plain": [
       "'/Users/dt237/code/DAXA/docs/source/notebooks/tutorials/daxa_output/archives/PHL1811_made_earlier/failed_data/xmm_pointed/0102041001/'"
      ]
     },
     "execution_count": 26,
     "metadata": {},
     "output_type": "execute_result"
    }
   ],
   "source": [
    "prev_arch.get_current_data_path('xmm_pointed', '0102041001')"
   ]
  },
  {
   "cell_type": "markdown",
   "id": "ac85761b",
   "metadata": {},
   "source": [
    "### Get failed processes"
   ]
  },
  {
   "cell_type": "markdown",
   "id": "7fd63eaf",
   "metadata": {},
   "source": [
    "Often we will wish to know exactly which data failed a particular processing step - this could be inferred from the `process_success` property, but we also provide a convenient get method (`get_failed_processes()`) that will retrieve the unique identifer of each piece of data that failed a specified processing step:"
   ]
  },
  {
   "cell_type": "code",
   "execution_count": 27,
   "id": "430f828b",
   "metadata": {},
   "outputs": [
    {
     "data": {
      "text/plain": [
       "{'xmm_pointed': ['0502671101PNS003']}"
      ]
     },
     "execution_count": 27,
     "metadata": {},
     "output_type": "execute_result"
    }
   ],
   "source": [
    "prev_arch.get_failed_processes('espfilt')"
   ]
  },
  {
   "cell_type": "markdown",
   "id": "8cb8fa8f",
   "metadata": {},
   "source": [
    "### Get logs"
   ]
  },
  {
   "cell_type": "markdown",
   "id": "f325302d",
   "metadata": {},
   "source": [
    "The `get_process_logs()` method provides a more convenient way of accessing specific logs stored in the `process_logs` property. It allows for the retrieval of logs based on several criteria, with the only requirement being the passing of a process name. \n",
    "\n",
    "Beyond that you can specify the mission name, ObsID, and instrument to retrieve logs for - as for some processes there are sub-exposures of a given instrument, giving this information can still result in multiple logs being returned. You can also pass __lists__ of mission name, ObsID, and instrument and retrieve sets of logs that way.\n",
    "\n",
    "It is also possible to specify an exact unique identifier (0502671101M2S002 for instance).\n",
    "\n",
    "We demonstrate fetching the `espfilt` logs for a single PN instrument of 0502671101:"
   ]
  },
  {
   "cell_type": "code",
   "execution_count": 32,
   "id": "3e5195e7",
   "metadata": {
    "scrolled": false
   },
   "outputs": [
    {
     "data": {
      "text/plain": [
       "{'xmm_pointed': {'0502671101PNS003': \"espfilt:- Executing (routine): espfilt eventfile=/Users/dt237/code/DAXA/docs/source/notebooks/tutorials/daxa_output/archives/PHL1811_made_earlier/processed_data/xmm_pointed/0502671101/P0502671101PNS003PIEVLI0000.FIT withoot=yes ootfile=/Users/dt237/code/DAXA/docs/source/notebooks/tutorials/daxa_output/archives/PHL1811_made_earlier/processed_data/xmm_pointed/0502671101/P0502671101PNS003OOEVLI0000.FIT method=histogram withsmoothing=yes smooth=51 withbinning=yes binsize=60 ratio=1.2 withlongnames=yes elow=2500 ehigh=8500 rangescale=15 allowsigma=3 limits='0.1 6.5' keepinterfiles=no  -w 1 -V 4\\nespfilt:- espfilt (espfilt-4.3)  [xmmsas_20211130_0941-20.0.0] started:  2024-04-11T16:30:06.000\\nespfilt:-  ESPFILT: Processing eventlist: /Users/dt237/code/DAXA/docs/source/notebooks/tutorials/daxa_output/archives/PHL1811_made_earlier/processed_data/xmm_pointed/0502671101/P0502671101PNS003PIEVLI0000.FIT\\nespfilt:-  *FOV IMAGE* = pnS003-fovim-2500-8500.fits\\nevselect:- Executing (routine): evselect table=/Users/dt237/code/DAXA/docs/source/notebooks/tutorials/daxa_output/archives/PHL1811_made_earlier/processed_data/xmm_pointed/0502671101/P0502671101PNS003PIEVLI0000.FIT filteredset=filtered.fits withfilteredset=no keepfilteroutput=no flagcolumn=EVFLAG flagbit=-1 destruct=yes dssblock='' expression=true filtertype=expression cleandss=no updateexposure=yes filterexposure=yes writedss=yes blockstocopy='' attributestocopy='' energycolumn=PHA zcolumn=WEIGHT zerrorcolumn=EWEIGHT withzerrorcolumn=no withzcolumn=no ignorelegallimits=no imageset=pnS003-fovim-2500-8500.fits xcolumn=DETX ycolumn=DETY ximagebinsize=1 yimagebinsize=1 squarepixels=no ximagesize=600 yimagesize=600 imagebinning=imageSize ximagemin=1 ximagemax=640 withxranges=no yimagemin=1 yimagemax=640 withyranges=no imagedatatype=Real64 withimagedatatype=no raimagecenter=0 decimagecenter=0 withcelestialcenter=no withimageset=yes spectrumset=spectrum.fits spectralbinsize=5 specchannelmin=0 specchannelmax=11999 withspecranges=no nonStandardSpec=no withspectrumset=no rateset=rate.fits timecolumn=TIME timebinsize=1 timemin=0 timemax=1000 withtimeranges=no maketimecolumn=no makeratecolumn=no withrateset=no histogramset=histo.fits histogramcolumn=TIME histogrambinsize=1 histogrammin=0 histogrammax=1000 withhistoranges=no withhistogramset=no  -w 1 -V 4\\nevselect:- evselect (evselect-3.71.1)  [xmmsas_20211130_0941-20.0.0] started:  2024-04-11T16:30:07.000\\nevselect:- evselect (evselect-3.71.1)  [xmmsas_20211130_0941-20.0.0] ended:    2024-04-11T16:30:08.000\\nespfilt:-  Running evselect to create *FOV LIGHTCURVE*\\nespfilt:-  *FOV LIGHTCURVE * = pnS003-fovlc-2500-8500.fits\\nevselect:- Executing (routine): evselect table=/Users/dt237/code/DAXA/docs/source/notebooks/tutorials/daxa_output/archives/PHL1811_made_earlier/processed_data/xmm_pointed/0502671101/P0502671101PNS003PIEVLI0000.FIT:EVENTS filteredset=filtered.fits withfilteredset=yes keepfilteroutput=no flagcolumn=EVFLAG flagbit=-1 destruct=yes dssblock='' expression='(PATTERN<=4)&&(PI in [2500:8500])&&((FLAG & 0xfb0000)==0)' filtertype=expression cleandss=no updateexposure=yes filterexposure=yes writedss=yes blockstocopy='' attributestocopy='' energycolumn=PHA zcolumn=WEIGHT zerrorcolumn=EWEIGHT withzerrorcolumn=no withzcolumn=no ignorelegallimits=no imageset=image.fits xcolumn=RAWX ycolumn=RAWY ximagebinsize=1 yimagebinsize=1 squarepixels=no ximagesize=600 yimagesize=600 imagebinning=imageSize ximagemin=1 ximagemax=640 withxranges=no yimagemin=1 yimagemax=640 withyranges=no imagedatatype=Real64 withimagedatatype=no raimagecenter=0 decimagecenter=0 withcelestialcenter=no withimageset=no spectrumset=spectrum.fits spectralbinsize=5 specchannelmin=0 specchannelmax=11999 withspecranges=no nonStandardSpec=no withspectrumset=no rateset=pnS003-fovlc-2500-8500.fits timecolumn=TIME timebinsize=1 timemin=0 timemax=1000 withtimeranges=no maketimecolumn=yes makeratecolumn=yes withrateset=yes histogramset=histo.fits histogramcolumn=TIME histogrambinsize=1 histogrammin=0 histogrammax=1000 withhistoranges=no withhistogramset=no  -w 1 -V 4\\nevselect:- evselect (evselect-3.71.1)  [xmmsas_20211130_0941-20.0.0] started:  2024-04-11T16:30:08.000\\nevselect:- selected 883494 rows from the input table.\\nevselect:- evselect (evselect-3.71.1)  [xmmsas_20211130_0941-20.0.0] ended:    2024-04-11T16:30:11.000\\nespfilt:-  Running evselect to create *CORNER EVENTLIST*\\nespfilt:-  *CORNER EVENTLIST * = pnS003-corev-2500-8500.fits\\nevselect:- Executing (routine): evselect table=/Users/dt237/code/DAXA/docs/source/notebooks/tutorials/daxa_output/archives/PHL1811_made_earlier/processed_data/xmm_pointed/0502671101/P0502671101PNS003PIEVLI0000.FIT:EVENTS filteredset=pnS003-corev-2500-8500.fits withfilteredset=yes keepfilteroutput=yes flagcolumn=EVFLAG flagbit=-1 destruct=yes dssblock='' expression='(PATTERN<=4)&&(#XMMEA_EP)&&!((DETX,DETY) in circle(-2200,-1100,18080))' filtertype=expression cleandss=no updateexposure=yes filterexposure=yes writedss=yes blockstocopy='' attributestocopy='' energycolumn=PHA zcolumn=WEIGHT zerrorcolumn=EWEIGHT withzerrorcolumn=no withzcolumn=no ignorelegallimits=no imageset=image.fits xcolumn=RAWX ycolumn=RAWY ximagebinsize=1 yimagebinsize=1 squarepixels=no ximagesize=600 yimagesize=600 imagebinning=imageSize ximagemin=1 ximagemax=640 withxranges=no yimagemin=1 yimagemax=640 withyranges=no imagedatatype=Real64 withimagedatatype=no raimagecenter=0 decimagecenter=0 withcelestialcenter=no withimageset=no spectrumset=spectrum.fits spectralbinsize=5 specchannelmin=0 specchannelmax=11999 withspecranges=no nonStandardSpec=no withspectrumset=no rateset=rate.fits timecolumn=TIME timebinsize=1 timemin=0 timemax=1000 withtimeranges=no maketimecolumn=no makeratecolumn=no withrateset=no histogramset=histo.fits histogramcolumn=TIME histogrambinsize=1 histogrammin=0 histogrammax=1000 withhistoranges=no withhistogramset=no  -w 1 -V 4\\nevselect:- evselect (evselect-3.71.1)  [xmmsas_20211130_0941-20.0.0] started:  2024-04-11T16:30:12.000\\nevselect:- selected 115086 rows from the input table.\\nevselect:- evselect (evselect-3.71.1)  [xmmsas_20211130_0941-20.0.0] ended:    2024-04-11T16:30:14.000\\nespfilt:-  Running evselect to create *CORNER IMAGE*\\nespfilt:-  *CORNER IMAGE * = pnS003-corim-2500-8500.fits\\nevselect:- Executing (routine): evselect table=pnS003-corev-2500-8500.fits filteredset=filtered.fits withfilteredset=no keepfilteroutput=no flagcolumn=EVFLAG flagbit=-1 destruct=yes dssblock='' expression=true filtertype=expression cleandss=no updateexposure=yes filterexposure=yes writedss=yes blockstocopy='' attributestocopy='' energycolumn=PHA zcolumn=WEIGHT zerrorcolumn=EWEIGHT withzerrorcolumn=no withzcolumn=no ignorelegallimits=no imageset=pnS003-corim-2500-8500.fits xcolumn=DETX ycolumn=DETY ximagebinsize=1 yimagebinsize=1 squarepixels=no ximagesize=600 yimagesize=600 imagebinning=imageSize ximagemin=1 ximagemax=640 withxranges=no yimagemin=1 yimagemax=640 withyranges=no imagedatatype=Real64 withimagedatatype=no raimagecenter=0 decimagecenter=0 withcelestialcenter=no withimageset=yes spectrumset=spectrum.fits spectralbinsize=5 specchannelmin=0 specchannelmax=11999 withspecranges=no nonStandardSpec=no withspectrumset=no rateset=rate.fits timecolumn=TIME timebinsize=1 timemin=0 timemax=1000 withtimeranges=no maketimecolumn=no makeratecolumn=no withrateset=no histogramset=histo.fits histogramcolumn=TIME histogrambinsize=1 histogrammin=0 histogrammax=1000 withhistoranges=no withhistogramset=no  -w 1 -V 4\\nevselect:- evselect (evselect-3.71.1)  [xmmsas_20211130_0941-20.0.0] started:  2024-04-11T16:30:14.000\\nevselect:- evselect (evselect-3.71.1)  [xmmsas_20211130_0941-20.0.0] ended:    2024-04-11T16:30:15.000\\nespfilt:-  Running evselect to create *CORNER LIGHTCURVE*\\nespfilt:-  *CORNER LIGHTCURVE * = pnS003-corlc-2500-8500.fits\\nevselect:- Executing (routine): evselect table=/Users/dt237/code/DAXA/docs/source/notebooks/tutorials/daxa_output/archives/PHL1811_made_earlier/processed_data/xmm_pointed/0502671101/P0502671101PNS003PIEVLI0000.FIT:EVENTS filteredset=filtered.fits withfilteredset=yes keepfilteroutput=no flagcolumn=EVFLAG flagbit=-1 destruct=yes dssblock='' expression='(PATTERN<=4)&&(PI in [2500:8500])&&(#XMMEA_EP)&&!((DETX,DETY) in circle(-2200,-1100,18080))' filtertype=expression cleandss=no updateexposure=yes filterexposure=yes writedss=yes blockstocopy='' attributestocopy='' energycolumn=PHA zcolumn=WEIGHT zerrorcolumn=EWEIGHT withzerrorcolumn=no withzcolumn=no ignorelegallimits=no imageset=image.fits xcolumn=RAWX ycolumn=RAWY ximagebinsize=1 yimagebinsize=1 squarepixels=no ximagesize=600 yimagesize=600 imagebinning=imageSize ximagemin=1 ximagemax=640 withxranges=no yimagemin=1 yimagemax=640 withyranges=no imagedatatype=Real64 withimagedatatype=no raimagecenter=0 decimagecenter=0 withcelestialcenter=no withimageset=no spectrumset=spectrum.fits spectralbinsize=5 specchannelmin=0 specchannelmax=11999 withspecranges=no nonStandardSpec=no withspectrumset=no rateset=pnS003-corlc-2500-8500.fits timecolumn=TIME timebinsize=1 timemin=0 timemax=1000 withtimeranges=no maketimecolumn=yes makeratecolumn=yes withrateset=yes histogramset=histo.fits histogramcolumn=TIME histogrambinsize=1 histogrammin=0 histogrammax=1000 withhistoranges=no withhistogramset=no  -w 1 -V 4\\nevselect:- evselect (evselect-3.71.1)  [xmmsas_20211130_0941-20.0.0] started:  2024-04-11T16:30:15.000\\nevselect:- selected 43059 rows from the input table.\\nevselect:- evselect (evselect-3.71.1)  [xmmsas_20211130_0941-20.0.0] ended:    2024-04-11T16:30:17.000\\nespfilt:-  ESPFILT: Processing using the HISTOGRAM method.\\nespfilt:-  CLEAN_LC: There are        17659  rows in the FOV LC\\nespfilt:-  Starting Multidimensional minimzation of fit_gauss (amoeba)\\nespfilt:- plim(1:2) =   0.1000   6.5000\\nespfilt:- **** sortarray max bins    =   663 histo binwidth =    0.0196\\nespfilt:- **** sortarray actual bins (nverls) =   658\\nespfilt:- min LC value=    0.000 max LC value =  144.373 limits(2) =    6.500\\n\"}}"
      ]
     },
     "execution_count": 32,
     "metadata": {},
     "output_type": "execute_result"
    }
   ],
   "source": [
    "prev_arch.get_process_logs('espfilt', obs_id='0502671101', inst='PN')"
   ]
  },
  {
   "cell_type": "markdown",
   "id": "a8e1e4c6",
   "metadata": {},
   "source": [
    "### Get raw errors"
   ]
  },
  {
   "cell_type": "markdown",
   "id": "3cda0496",
   "metadata": {},
   "source": [
    "There is also an equivalent method, `get_process_raw_error_logs()` that can fetch raw error logs. It behaves exactly the same as `get_process_logs()`, see the last section for information on the possible arguments:"
   ]
  },
  {
   "cell_type": "code",
   "execution_count": 33,
   "id": "3d0434e2",
   "metadata": {},
   "outputs": [
    {
     "data": {
      "text/plain": [
       "{'xmm_pointed': {'0502671101PNS003': '** evselect: warning (NoWCS), No WCS information available for image column DETX.\\n** evselect: warning (SummaryOfWarnings), \\n   warning NoWCS silently occurred 1 times\\n** evselect: warning (NoWCS), No WCS information available for image column DETX.\\n** evselect: warning (SummaryOfWarnings), \\n   warning NoWCS silently occurred 1 times\\n** espfilt: error (noCounts), All histo counts are zero! Check your FOV Lightcurve!\\nmv: rename pnS003-gti-2500-8500.fits to ../PNS003-gti-2500-8500.fits: No such file or directory\\nmv: rename pnS003-allevc-2500-8500.fits to ../PNS003-allevc-2500-8500.fits: No such file or directory\\nmv: rename pnS003-hist-2500-8500.qdp to ../PNS003-hist-2500-8500.qdp: No such file or directory\\n'}}"
      ]
     },
     "execution_count": 33,
     "metadata": {},
     "output_type": "execute_result"
    }
   ],
   "source": [
    "prev_arch.get_process_raw_error_logs('espfilt', obs_id='0502671101', inst='PN')"
   ]
  },
  {
   "cell_type": "markdown",
   "id": "77530ba3",
   "metadata": {},
   "source": [
    "### Get failed logs"
   ]
  },
  {
   "cell_type": "markdown",
   "id": "e8750ea0",
   "metadata": {},
   "source": [
    "There is one final method that allows for log retrieval - `get_failed_logs()`. This only takes a process name as an argument, and will retrieve the logs and raw error logs for every piece of data that failed the specified processing step. It returns them as a tuple, with the first entry being the dictionary of logs and the second being the dictionary of raw errors:"
   ]
  },
  {
   "cell_type": "code",
   "execution_count": 30,
   "id": "f76d5d2b",
   "metadata": {
    "scrolled": false
   },
   "outputs": [],
   "source": [
    "logs, errors = prev_arch.get_failed_logs('espfilt')"
   ]
  },
  {
   "cell_type": "markdown",
   "id": "24bda78b",
   "metadata": {},
   "source": [
    "We only show 0502671101M2S002:"
   ]
  },
  {
   "cell_type": "code",
   "execution_count": 34,
   "id": "0b5fb4f0",
   "metadata": {},
   "outputs": [
    {
     "data": {
      "text/plain": [
       "\"espfilt:- Executing (routine): espfilt eventfile=/Users/dt237/code/DAXA/docs/source/notebooks/tutorials/daxa_output/archives/PHL1811_made_earlier/processed_data/xmm_pointed/0502671101/P0502671101PNS003PIEVLI0000.FIT withoot=yes ootfile=/Users/dt237/code/DAXA/docs/source/notebooks/tutorials/daxa_output/archives/PHL1811_made_earlier/processed_data/xmm_pointed/0502671101/P0502671101PNS003OOEVLI0000.FIT method=histogram withsmoothing=yes smooth=51 withbinning=yes binsize=60 ratio=1.2 withlongnames=yes elow=2500 ehigh=8500 rangescale=15 allowsigma=3 limits='0.1 6.5' keepinterfiles=no  -w 1 -V 4\\nespfilt:- espfilt (espfilt-4.3)  [xmmsas_20211130_0941-20.0.0] started:  2024-04-11T16:30:06.000\\nespfilt:-  ESPFILT: Processing eventlist: /Users/dt237/code/DAXA/docs/source/notebooks/tutorials/daxa_output/archives/PHL1811_made_earlier/processed_data/xmm_pointed/0502671101/P0502671101PNS003PIEVLI0000.FIT\\nespfilt:-  *FOV IMAGE* = pnS003-fovim-2500-8500.fits\\nevselect:- Executing (routine): evselect table=/Users/dt237/code/DAXA/docs/source/notebooks/tutorials/daxa_output/archives/PHL1811_made_earlier/processed_data/xmm_pointed/0502671101/P0502671101PNS003PIEVLI0000.FIT filteredset=filtered.fits withfilteredset=no keepfilteroutput=no flagcolumn=EVFLAG flagbit=-1 destruct=yes dssblock='' expression=true filtertype=expression cleandss=no updateexposure=yes filterexposure=yes writedss=yes blockstocopy='' attributestocopy='' energycolumn=PHA zcolumn=WEIGHT zerrorcolumn=EWEIGHT withzerrorcolumn=no withzcolumn=no ignorelegallimits=no imageset=pnS003-fovim-2500-8500.fits xcolumn=DETX ycolumn=DETY ximagebinsize=1 yimagebinsize=1 squarepixels=no ximagesize=600 yimagesize=600 imagebinning=imageSize ximagemin=1 ximagemax=640 withxranges=no yimagemin=1 yimagemax=640 withyranges=no imagedatatype=Real64 withimagedatatype=no raimagecenter=0 decimagecenter=0 withcelestialcenter=no withimageset=yes spectrumset=spectrum.fits spectralbinsize=5 specchannelmin=0 specchannelmax=11999 withspecranges=no nonStandardSpec=no withspectrumset=no rateset=rate.fits timecolumn=TIME timebinsize=1 timemin=0 timemax=1000 withtimeranges=no maketimecolumn=no makeratecolumn=no withrateset=no histogramset=histo.fits histogramcolumn=TIME histogrambinsize=1 histogrammin=0 histogrammax=1000 withhistoranges=no withhistogramset=no  -w 1 -V 4\\nevselect:- evselect (evselect-3.71.1)  [xmmsas_20211130_0941-20.0.0] started:  2024-04-11T16:30:07.000\\nevselect:- evselect (evselect-3.71.1)  [xmmsas_20211130_0941-20.0.0] ended:    2024-04-11T16:30:08.000\\nespfilt:-  Running evselect to create *FOV LIGHTCURVE*\\nespfilt:-  *FOV LIGHTCURVE * = pnS003-fovlc-2500-8500.fits\\nevselect:- Executing (routine): evselect table=/Users/dt237/code/DAXA/docs/source/notebooks/tutorials/daxa_output/archives/PHL1811_made_earlier/processed_data/xmm_pointed/0502671101/P0502671101PNS003PIEVLI0000.FIT:EVENTS filteredset=filtered.fits withfilteredset=yes keepfilteroutput=no flagcolumn=EVFLAG flagbit=-1 destruct=yes dssblock='' expression='(PATTERN<=4)&&(PI in [2500:8500])&&((FLAG & 0xfb0000)==0)' filtertype=expression cleandss=no updateexposure=yes filterexposure=yes writedss=yes blockstocopy='' attributestocopy='' energycolumn=PHA zcolumn=WEIGHT zerrorcolumn=EWEIGHT withzerrorcolumn=no withzcolumn=no ignorelegallimits=no imageset=image.fits xcolumn=RAWX ycolumn=RAWY ximagebinsize=1 yimagebinsize=1 squarepixels=no ximagesize=600 yimagesize=600 imagebinning=imageSize ximagemin=1 ximagemax=640 withxranges=no yimagemin=1 yimagemax=640 withyranges=no imagedatatype=Real64 withimagedatatype=no raimagecenter=0 decimagecenter=0 withcelestialcenter=no withimageset=no spectrumset=spectrum.fits spectralbinsize=5 specchannelmin=0 specchannelmax=11999 withspecranges=no nonStandardSpec=no withspectrumset=no rateset=pnS003-fovlc-2500-8500.fits timecolumn=TIME timebinsize=1 timemin=0 timemax=1000 withtimeranges=no maketimecolumn=yes makeratecolumn=yes withrateset=yes histogramset=histo.fits histogramcolumn=TIME histogrambinsize=1 histogrammin=0 histogrammax=1000 withhistoranges=no withhistogramset=no  -w 1 -V 4\\nevselect:- evselect (evselect-3.71.1)  [xmmsas_20211130_0941-20.0.0] started:  2024-04-11T16:30:08.000\\nevselect:- selected 883494 rows from the input table.\\nevselect:- evselect (evselect-3.71.1)  [xmmsas_20211130_0941-20.0.0] ended:    2024-04-11T16:30:11.000\\nespfilt:-  Running evselect to create *CORNER EVENTLIST*\\nespfilt:-  *CORNER EVENTLIST * = pnS003-corev-2500-8500.fits\\nevselect:- Executing (routine): evselect table=/Users/dt237/code/DAXA/docs/source/notebooks/tutorials/daxa_output/archives/PHL1811_made_earlier/processed_data/xmm_pointed/0502671101/P0502671101PNS003PIEVLI0000.FIT:EVENTS filteredset=pnS003-corev-2500-8500.fits withfilteredset=yes keepfilteroutput=yes flagcolumn=EVFLAG flagbit=-1 destruct=yes dssblock='' expression='(PATTERN<=4)&&(#XMMEA_EP)&&!((DETX,DETY) in circle(-2200,-1100,18080))' filtertype=expression cleandss=no updateexposure=yes filterexposure=yes writedss=yes blockstocopy='' attributestocopy='' energycolumn=PHA zcolumn=WEIGHT zerrorcolumn=EWEIGHT withzerrorcolumn=no withzcolumn=no ignorelegallimits=no imageset=image.fits xcolumn=RAWX ycolumn=RAWY ximagebinsize=1 yimagebinsize=1 squarepixels=no ximagesize=600 yimagesize=600 imagebinning=imageSize ximagemin=1 ximagemax=640 withxranges=no yimagemin=1 yimagemax=640 withyranges=no imagedatatype=Real64 withimagedatatype=no raimagecenter=0 decimagecenter=0 withcelestialcenter=no withimageset=no spectrumset=spectrum.fits spectralbinsize=5 specchannelmin=0 specchannelmax=11999 withspecranges=no nonStandardSpec=no withspectrumset=no rateset=rate.fits timecolumn=TIME timebinsize=1 timemin=0 timemax=1000 withtimeranges=no maketimecolumn=no makeratecolumn=no withrateset=no histogramset=histo.fits histogramcolumn=TIME histogrambinsize=1 histogrammin=0 histogrammax=1000 withhistoranges=no withhistogramset=no  -w 1 -V 4\\nevselect:- evselect (evselect-3.71.1)  [xmmsas_20211130_0941-20.0.0] started:  2024-04-11T16:30:12.000\\nevselect:- selected 115086 rows from the input table.\\nevselect:- evselect (evselect-3.71.1)  [xmmsas_20211130_0941-20.0.0] ended:    2024-04-11T16:30:14.000\\nespfilt:-  Running evselect to create *CORNER IMAGE*\\nespfilt:-  *CORNER IMAGE * = pnS003-corim-2500-8500.fits\\nevselect:- Executing (routine): evselect table=pnS003-corev-2500-8500.fits filteredset=filtered.fits withfilteredset=no keepfilteroutput=no flagcolumn=EVFLAG flagbit=-1 destruct=yes dssblock='' expression=true filtertype=expression cleandss=no updateexposure=yes filterexposure=yes writedss=yes blockstocopy='' attributestocopy='' energycolumn=PHA zcolumn=WEIGHT zerrorcolumn=EWEIGHT withzerrorcolumn=no withzcolumn=no ignorelegallimits=no imageset=pnS003-corim-2500-8500.fits xcolumn=DETX ycolumn=DETY ximagebinsize=1 yimagebinsize=1 squarepixels=no ximagesize=600 yimagesize=600 imagebinning=imageSize ximagemin=1 ximagemax=640 withxranges=no yimagemin=1 yimagemax=640 withyranges=no imagedatatype=Real64 withimagedatatype=no raimagecenter=0 decimagecenter=0 withcelestialcenter=no withimageset=yes spectrumset=spectrum.fits spectralbinsize=5 specchannelmin=0 specchannelmax=11999 withspecranges=no nonStandardSpec=no withspectrumset=no rateset=rate.fits timecolumn=TIME timebinsize=1 timemin=0 timemax=1000 withtimeranges=no maketimecolumn=no makeratecolumn=no withrateset=no histogramset=histo.fits histogramcolumn=TIME histogrambinsize=1 histogrammin=0 histogrammax=1000 withhistoranges=no withhistogramset=no  -w 1 -V 4\\nevselect:- evselect (evselect-3.71.1)  [xmmsas_20211130_0941-20.0.0] started:  2024-04-11T16:30:14.000\\nevselect:- evselect (evselect-3.71.1)  [xmmsas_20211130_0941-20.0.0] ended:    2024-04-11T16:30:15.000\\nespfilt:-  Running evselect to create *CORNER LIGHTCURVE*\\nespfilt:-  *CORNER LIGHTCURVE * = pnS003-corlc-2500-8500.fits\\nevselect:- Executing (routine): evselect table=/Users/dt237/code/DAXA/docs/source/notebooks/tutorials/daxa_output/archives/PHL1811_made_earlier/processed_data/xmm_pointed/0502671101/P0502671101PNS003PIEVLI0000.FIT:EVENTS filteredset=filtered.fits withfilteredset=yes keepfilteroutput=no flagcolumn=EVFLAG flagbit=-1 destruct=yes dssblock='' expression='(PATTERN<=4)&&(PI in [2500:8500])&&(#XMMEA_EP)&&!((DETX,DETY) in circle(-2200,-1100,18080))' filtertype=expression cleandss=no updateexposure=yes filterexposure=yes writedss=yes blockstocopy='' attributestocopy='' energycolumn=PHA zcolumn=WEIGHT zerrorcolumn=EWEIGHT withzerrorcolumn=no withzcolumn=no ignorelegallimits=no imageset=image.fits xcolumn=RAWX ycolumn=RAWY ximagebinsize=1 yimagebinsize=1 squarepixels=no ximagesize=600 yimagesize=600 imagebinning=imageSize ximagemin=1 ximagemax=640 withxranges=no yimagemin=1 yimagemax=640 withyranges=no imagedatatype=Real64 withimagedatatype=no raimagecenter=0 decimagecenter=0 withcelestialcenter=no withimageset=no spectrumset=spectrum.fits spectralbinsize=5 specchannelmin=0 specchannelmax=11999 withspecranges=no nonStandardSpec=no withspectrumset=no rateset=pnS003-corlc-2500-8500.fits timecolumn=TIME timebinsize=1 timemin=0 timemax=1000 withtimeranges=no maketimecolumn=yes makeratecolumn=yes withrateset=yes histogramset=histo.fits histogramcolumn=TIME histogrambinsize=1 histogrammin=0 histogrammax=1000 withhistoranges=no withhistogramset=no  -w 1 -V 4\\nevselect:- evselect (evselect-3.71.1)  [xmmsas_20211130_0941-20.0.0] started:  2024-04-11T16:30:15.000\\nevselect:- selected 43059 rows from the input table.\\nevselect:- evselect (evselect-3.71.1)  [xmmsas_20211130_0941-20.0.0] ended:    2024-04-11T16:30:17.000\\nespfilt:-  ESPFILT: Processing using the HISTOGRAM method.\\nespfilt:-  CLEAN_LC: There are        17659  rows in the FOV LC\\nespfilt:-  Starting Multidimensional minimzation of fit_gauss (amoeba)\\nespfilt:- plim(1:2) =   0.1000   6.5000\\nespfilt:- **** sortarray max bins    =   663 histo binwidth =    0.0196\\nespfilt:- **** sortarray actual bins (nverls) =   658\\nespfilt:- min LC value=    0.000 max LC value =  144.373 limits(2) =    6.500\\n\""
      ]
     },
     "execution_count": 34,
     "metadata": {},
     "output_type": "execute_result"
    }
   ],
   "source": [
    "logs['xmm_pointed']['0502671101PNS003']"
   ]
  },
  {
   "cell_type": "code",
   "execution_count": 35,
   "id": "828b4b42",
   "metadata": {},
   "outputs": [
    {
     "data": {
      "text/plain": [
       "{'xmm_pointed': {'0502671101PNS003': '** evselect: warning (NoWCS), No WCS information available for image column DETX.\\n** evselect: warning (SummaryOfWarnings), \\n   warning NoWCS silently occurred 1 times\\n** evselect: warning (NoWCS), No WCS information available for image column DETX.\\n** evselect: warning (SummaryOfWarnings), \\n   warning NoWCS silently occurred 1 times\\n** espfilt: error (noCounts), All histo counts are zero! Check your FOV Lightcurve!\\nmv: rename pnS003-gti-2500-8500.fits to ../PNS003-gti-2500-8500.fits: No such file or directory\\nmv: rename pnS003-allevc-2500-8500.fits to ../PNS003-allevc-2500-8500.fits: No such file or directory\\nmv: rename pnS003-hist-2500-8500.qdp to ../PNS003-hist-2500-8500.qdp: No such file or directory\\n'}}"
      ]
     },
     "execution_count": 35,
     "metadata": {},
     "output_type": "execute_result"
    }
   ],
   "source": [
    "errors"
   ]
  },
  {
   "cell_type": "markdown",
   "id": "02eee7f2",
   "metadata": {},
   "source": [
    "## Adding region files to the Archive (optional)"
   ]
  },
  {
   "cell_type": "markdown",
   "id": "bc74ab12",
   "metadata": {},
   "source": [
    "Region files are created by running source detection algorithms on images generated from X-ray observations, and DAXA **does not yet have the ability to generate them itself**. However, they are a crucial part of many analyses, and as such a crucial part of data archives.\n",
    "\n",
    "If you have created region files (**in the DS9 format**), you can add them to the archive so that they are included in the storage structure. This process verifies that the passed region files are in RA-Dec coordinates (rather than defined in the pixel coordinates of the image they were detected in), by requiring that images or WCS information be passed in those circumstances.\n",
    "\n",
    "* {'mission_name': {'ObsID': 'path to regions'}}\n",
    "* {'mission_name': {'ObsID': [list of region objects]}}\n",
    "* {'mission_name': {'ObsID': {'region': 'path to regions'}}}\n",
    "* {'mission_name': {'ObsID': {'region': [list of region objects]}}}\n",
    "* {'mission_name': {'ObsID': {'region': ..., 'wcs_src': 'path to image'}}}\n",
    "* {'mission_name': {'ObsID': {'region': ..., 'wcs_src': XGA Image}}}\n",
    "* {'mission_name': {'ObsID': {'region': ..., 'wcs_src': Astropy WCS object}}}\n",
    "\n",
    "For instance, we have used a tool to generate source regions for the observations we have processed, and want to add those regions to the archive. As the region files are in pixel coordinates we pass the paths to the images we used (unnecessary if regions are already in RA-Dec coordinates):"
   ]
  },
  {
   "cell_type": "code",
   "execution_count": 36,
   "id": "e77621ce",
   "metadata": {},
   "outputs": [],
   "source": [
    "# Listing the region files in the test directory\n",
    "reg_files = os.listdir('region_files')\n",
    "\n",
    "# Setting up the structure of the dictionary we will pass to the archive at the end of this\n",
    "reg_paths = {'xmm_pointed': {}}\n",
    "# Iterating through the ObsIDs in the XMMPointed mission\n",
    "for oi in prev_arch['xmm_pointed'].filtered_obs_ids:\n",
    "    # Checking to see which have a corresponding region file\n",
    "    if any([oi in rf for rf in reg_files]):\n",
    "        # Generating the path to the image we need for pixel to RA-Dec conversion\n",
    "        im_pth = prev_arch.get_current_data_path('xmm_pointed', oi) + \\\n",
    "        'images/{}_mos1_0.5-2.0keVimg.fits'.format(oi)\n",
    "        # Setting up the entry in the final dictionary, with the path to the regions and the image\n",
    "        reg_paths['xmm_pointed'][oi] = {'regions': 'region_files/{}.reg'.format(oi), 'wcs_src': im_pth}\n",
    "\n",
    "# Adding the regions to the archive\n",
    "prev_arch.source_regions = reg_paths"
   ]
  },
  {
   "cell_type": "markdown",
   "id": "5432baef",
   "metadata": {},
   "source": [
    "Once added to the archive, you can also retrieve the regions through a property (we did not discuss it earlier in this tutorial) - `source_regions`. It returns them as Python 'regions' module objects:"
   ]
  },
  {
   "cell_type": "code",
   "execution_count": 37,
   "id": "eea747d0",
   "metadata": {},
   "outputs": [
    {
     "data": {
      "text/plain": [
       "{'xmm_pointed': {'0105261001': [<EllipseSkyRegion(<SkyCoord (ICRS): (ra, dec) in deg\n",
       "       (67.59133516, -61.53306334)>, width=0.007545166292795352 deg, height=0.007545166292795352 deg, angle=186.39335083127384 deg)>,\n",
       "   <EllipseSkyRegion(<SkyCoord (ICRS): (ra, dec) in deg\n",
       "       (67.178534, -61.37451667)>, width=0.008274114359963867 deg, height=0.008274114359963867 deg, angle=466.9975179351541 deg)>,\n",
       "   <EllipseSkyRegion(<SkyCoord (ICRS): (ra, dec) in deg\n",
       "       (67.46879016, -61.36577221)>, width=0.00850673285572214 deg, height=0.00850673285572214 deg, angle=140.94986422162475 deg)>,\n",
       "   <EllipseSkyRegion(<SkyCoord (ICRS): (ra, dec) in deg\n",
       "       (68.01317832, -61.35516589)>, width=0.007519977428013009 deg, height=0.007519977428013009 deg, angle=261.2582496754984 deg)>,\n",
       "   <EllipseSkyRegion(<SkyCoord (ICRS): (ra, dec) in deg\n",
       "       (68.00486199, -61.33624502)>, width=0.013147992908181612 deg, height=0.013147992908181612 deg, angle=265.95154602021546 deg)>,\n",
       "   <EllipseSkyRegion(<SkyCoord (ICRS): (ra, dec) in deg\n",
       "       (67.41445681, -61.28706975)>, width=0.0075120802732052015 deg, height=0.0075120802732052015 deg, angle=419.76253296921374 deg)>,\n",
       "   <EllipseSkyRegion(<SkyCoord (ICRS): (ra, dec) in deg\n",
       "       (67.52454168, -61.26549895)>, width=0.007888040300578339 deg, height=0.007888040300578339 deg, angle=368.13995128822404 deg)>,\n",
       "   <EllipseSkyRegion(<SkyCoord (ICRS): (ra, dec) in deg\n",
       "       (67.38459977, -61.24728435)>, width=0.007642156673586847 deg, height=0.007642156673586847 deg, angle=405.1377277122432 deg)>,\n",
       "   <EllipseSkyRegion(<SkyCoord (ICRS): (ra, dec) in deg\n",
       "       (67.66282973, -61.13583214)>, width=0.007484864530890935 deg, height=0.007484864530890935 deg, angle=342.51362589811765 deg)>,\n",
       "   <EllipseSkyRegion(<SkyCoord (ICRS): (ra, dec) in deg\n",
       "       (67.67081204, -61.41366132)>, width=0.007664217192863797 deg, height=0.007664217192863797 deg, angle=214.13162270745238 deg)>,\n",
       "   <EllipseSkyRegion(<SkyCoord (ICRS): (ra, dec) in deg\n",
       "       (67.44099122, -61.2872128)>, width=0.008544191122124041 deg, height=0.008544191122124041 deg, angle=413.6812532986161 deg)>,\n",
       "   <EllipseSkyRegion(<SkyCoord (ICRS): (ra, dec) in deg\n",
       "       (67.47859205, -61.17991392)>, width=0.008220698389583923 deg, height=0.008220698389583923 deg, angle=372.0472646434019 deg)>,\n",
       "   <EllipseSkyRegion(<SkyCoord (ICRS): (ra, dec) in deg\n",
       "       (67.62366961, -61.57349813)>, width=0.007591811484076978 deg, height=0.007591811484076978 deg, angle=188.7899825817821 deg)>,\n",
       "   <EllipseSkyRegion(<SkyCoord (ICRS): (ra, dec) in deg\n",
       "       (67.46197943, -61.31728401)>, width=0.009600351102606488 deg, height=0.009600351102606488 deg, angle=441.75783953763363 deg)>,\n",
       "   <EllipseSkyRegion(<SkyCoord (ICRS): (ra, dec) in deg\n",
       "       (67.109084, -61.3151228)>, width=0.007726056638463273 deg, height=0.007726056638463273 deg, angle=448.4264497362917 deg)>,\n",
       "   <EllipseSkyRegion(<SkyCoord (ICRS): (ra, dec) in deg\n",
       "       (67.19833167, -61.30776102)>, width=0.00700383303154554 deg, height=0.00700383303154554 deg, angle=445.20514853614804 deg)>,\n",
       "   <EllipseSkyRegion(<SkyCoord (ICRS): (ra, dec) in deg\n",
       "       (67.30056555, -61.23205705)>, width=0.007642141740875588 deg, height=0.007642141740875588 deg, angle=412.2134543327273 deg)>,\n",
       "   <EllipseSkyRegion(<SkyCoord (ICRS): (ra, dec) in deg\n",
       "       (67.63170002, -61.15814151)>, width=0.009628376655476337 deg, height=0.009628376655476337 deg, angle=345.1369371937843 deg)>,\n",
       "   <EllipseSkyRegion(<SkyCoord (ICRS): (ra, dec) in deg\n",
       "       (67.63227828, -61.15627305)>, width=0.009228444139956988 deg, height=0.009228444139956988 deg, angle=345.2044298700188 deg)>,\n",
       "   <EllipseSkyRegion(<SkyCoord (ICRS): (ra, dec) in deg\n",
       "       (67.67485433, -61.37499077)>, width=0.0027905209722769216 deg, height=0.0016111095912574162 deg, angle=44.883076244857286 deg)>,\n",
       "   <EllipseSkyRegion(<SkyCoord (ICRS): (ra, dec) in deg\n",
       "       (67.69462508, -61.33509251)>, width=0.03179339749398203 deg, height=0.02240286728485413 deg, angle=44.63583059287267 deg)>,\n",
       "   <EllipseSkyRegion(<SkyCoord (ICRS): (ra, dec) in deg\n",
       "       (67.92311013, -61.3253819)>, width=0.009572126121424652 deg, height=0.0028367896810407556 deg, angle=-257.05172906999195 deg)>,\n",
       "   <EllipseSkyRegion(<SkyCoord (ICRS): (ra, dec) in deg\n",
       "       (67.57937638, -61.39856243)>, width=0.06787196199238821 deg, height=0.02245098652897439 deg, angle=-19.414157271481155 deg)>,\n",
       "   <EllipseSkyRegion(<SkyCoord (ICRS): (ra, dec) in deg\n",
       "       (67.85008628, -61.42796549)>, width=0.1397191347246724 deg, height=0.04780714778773332 deg, angle=-237.4726619426717 deg)>,\n",
       "   <EllipseSkyRegion(<SkyCoord (ICRS): (ra, dec) in deg\n",
       "       (67.42445028, -61.17772595)>, width=0.030515763924281118 deg, height=0.01992090470829036 deg, angle=4.480105303940038 deg)>],\n",
       "  '0204310101': [<EllipseSkyRegion(<SkyCoord (ICRS): (ra, dec) in deg\n",
       "       (328.68906505, -9.57605556)>, width=0.007494624973566207 deg, height=0.007494624973566207 deg, angle=514.3266958726614 deg)>,\n",
       "   <EllipseSkyRegion(<SkyCoord (ICRS): (ra, dec) in deg\n",
       "       (328.68959451, -9.56149785)>, width=0.006759131697903771 deg, height=0.006759131697903771 deg, angle=512.5796094746042 deg)>,\n",
       "   <EllipseSkyRegion(<SkyCoord (ICRS): (ra, dec) in deg\n",
       "       (328.88756277, -9.52098468)>, width=0.007452465671294455 deg, height=0.007452465671294455 deg, angle=579.5203052526585 deg)>,\n",
       "   <EllipseSkyRegion(<SkyCoord (ICRS): (ra, dec) in deg\n",
       "       (328.80541496, -9.51795062)>, width=0.008375859232780183 deg, height=0.008375859232780183 deg, angle=551.5787100398195 deg)>,\n",
       "   <EllipseSkyRegion(<SkyCoord (ICRS): (ra, dec) in deg\n",
       "       (328.72559081, -9.51892627)>, width=0.007444719230222005 deg, height=0.007444719230222005 deg, angle=517.5127356369848 deg)>,\n",
       "   <EllipseSkyRegion(<SkyCoord (ICRS): (ra, dec) in deg\n",
       "       (328.55371487, -9.49046251)>, width=0.0076420963731746 deg, height=0.0076420963731746 deg, angle=474.0587823060275 deg)>,\n",
       "   <EllipseSkyRegion(<SkyCoord (ICRS): (ra, dec) in deg\n",
       "       (328.56596717, -9.4880535)>, width=0.007737029310810679 deg, height=0.007737029310810679 deg, angle=474.7287829609348 deg)>,\n",
       "   <EllipseSkyRegion(<SkyCoord (ICRS): (ra, dec) in deg\n",
       "       (328.82139591, -9.47361547)>, width=0.007737085424898903 deg, height=0.007737085424898903 deg, angle=566.8961022892662 deg)>,\n",
       "   <EllipseSkyRegion(<SkyCoord (ICRS): (ra, dec) in deg\n",
       "       (328.67183058, -9.44703777)>, width=0.0071365428053444206 deg, height=0.0071365428053444206 deg, angle=477.7355081764938 deg)>,\n",
       "   <EllipseSkyRegion(<SkyCoord (ICRS): (ra, dec) in deg\n",
       "       (328.74299637, -9.44486753)>, width=0.007846231696543896 deg, height=0.007846231696543896 deg, angle=506.2988954235226 deg)>,\n",
       "   <EllipseSkyRegion(<SkyCoord (ICRS): (ra, dec) in deg\n",
       "       (328.76086754, -9.41124584)>, width=0.008050640320955097 deg, height=0.008050640320955097 deg, angle=497.7129792302257 deg)>,\n",
       "   <EllipseSkyRegion(<SkyCoord (ICRS): (ra, dec) in deg\n",
       "       (328.8464958, -9.40473667)>, width=0.007737097719562047 deg, height=0.007737097719562047 deg, angle=258.67400652493257 deg)>,\n",
       "   <EllipseSkyRegion(<SkyCoord (ICRS): (ra, dec) in deg\n",
       "       (328.80730171, -9.39688777)>, width=0.007737102356468667 deg, height=0.007737102356468667 deg, angle=258.914402158858 deg)>,\n",
       "   <EllipseSkyRegion(<SkyCoord (ICRS): (ra, dec) in deg\n",
       "       (328.70381145, -9.38479759)>, width=0.00724999380145057 deg, height=0.00724999380145057 deg, angle=444.90628957212795 deg)>,\n",
       "   <EllipseSkyRegion(<SkyCoord (ICRS): (ra, dec) in deg\n",
       "       (328.83026421, -9.38399593)>, width=0.007865255978998582 deg, height=0.007865255978998582 deg, angle=278.38565516990224 deg)>,\n",
       "   <EllipseSkyRegion(<SkyCoord (ICRS): (ra, dec) in deg\n",
       "       (328.8120376, -9.38092408)>, width=0.007338448567576843 deg, height=0.007338448567576843 deg, angle=287.9436293684878 deg)>,\n",
       "   <EllipseSkyRegion(<SkyCoord (ICRS): (ra, dec) in deg\n",
       "       (328.67039651, -9.37572647)>, width=0.007646681844692583 deg, height=0.007646681844692583 deg, angle=441.6907421859443 deg)>,\n",
       "   <EllipseSkyRegion(<SkyCoord (ICRS): (ra, dec) in deg\n",
       "       (328.75681337, -9.37342961)>, width=0.007919729453573972 deg, height=0.007919729453573972 deg, angle=410.70964078256986 deg)>,\n",
       "   <EllipseSkyRegion(<SkyCoord (ICRS): (ra, dec) in deg\n",
       "       (328.70810058, -9.37211098)>, width=0.00966665832004527 deg, height=0.00966665832004527 deg, angle=434.593589673473 deg)>,\n",
       "   <EllipseSkyRegion(<SkyCoord (ICRS): (ra, dec) in deg\n",
       "       (328.72034748, -9.37150905)>, width=0.009437367340938366 deg, height=0.009437367340938366 deg, angle=431.04359123537307 deg)>,\n",
       "   <EllipseSkyRegion(<SkyCoord (ICRS): (ra, dec) in deg\n",
       "       (328.89561695, -9.37075174)>, width=0.00773387258312214 deg, height=0.00773387258312214 deg, angle=280.1779909796026 deg)>,\n",
       "   <EllipseSkyRegion(<SkyCoord (ICRS): (ra, dec) in deg\n",
       "       (328.67993575, -9.36243761)>, width=0.00854418282413368 deg, height=0.00854418282413368 deg, angle=433.5141855894659 deg)>,\n",
       "   <EllipseSkyRegion(<SkyCoord (ICRS): (ra, dec) in deg\n",
       "       (328.89314428, -9.3557064)>, width=0.00828300911798855 deg, height=0.00828300911798855 deg, angle=287.59639446126425 deg)>,\n",
       "   <EllipseSkyRegion(<SkyCoord (ICRS): (ra, dec) in deg\n",
       "       (328.57318109, -9.35301779)>, width=0.007552153247472566 deg, height=0.007552153247472566 deg, angle=439.34160578877743 deg)>,\n",
       "   <EllipseSkyRegion(<SkyCoord (ICRS): (ra, dec) in deg\n",
       "       (328.78984701, -9.34039916)>, width=0.00908259926340609 deg, height=0.00908259926340609 deg, angle=348.28825039618556 deg)>,\n",
       "   <EllipseSkyRegion(<SkyCoord (ICRS): (ra, dec) in deg\n",
       "       (328.80239825, -9.33163815)>, width=0.007737094243088075 deg, height=0.007737094243088075 deg, angle=338.9892023029214 deg)>,\n",
       "   <EllipseSkyRegion(<SkyCoord (ICRS): (ra, dec) in deg\n",
       "       (328.57572829, -9.31540772)>, width=0.0076731460209169145 deg, height=0.0076731460209169145 deg, angle=429.2991901378363 deg)>,\n",
       "   <EllipseSkyRegion(<SkyCoord (ICRS): (ra, dec) in deg\n",
       "       (328.83465169, -9.31090206)>, width=0.007815190929166629 deg, height=0.007815190929166629 deg, angle=325.7609392262642 deg)>,\n",
       "   <EllipseSkyRegion(<SkyCoord (ICRS): (ra, dec) in deg\n",
       "       (328.62179047, -9.30706564)>, width=0.00744031732502786 deg, height=0.00744031732502786 deg, angle=421.5136736975769 deg)>,\n",
       "   <EllipseSkyRegion(<SkyCoord (ICRS): (ra, dec) in deg\n",
       "       (328.93982357, -9.30419317)>, width=0.006817785524070047 deg, height=0.006817785524070047 deg, angle=298.78277735769643 deg)>,\n",
       "   <EllipseSkyRegion(<SkyCoord (ICRS): (ra, dec) in deg\n",
       "       (328.5824604, -9.2981542)>, width=0.007498418709017829 deg, height=0.007498418709017829 deg, angle=424.3720915847924 deg)>,\n",
       "   <EllipseSkyRegion(<SkyCoord (ICRS): (ra, dec) in deg\n",
       "       (328.61992022, -9.27890238)>, width=0.007409588481195356 deg, height=0.007409588481195356 deg, angle=414.4219788807195 deg)>,\n",
       "   <EllipseSkyRegion(<SkyCoord (ICRS): (ra, dec) in deg\n",
       "       (328.73873297, -9.24004532)>, width=0.006809609883438864 deg, height=0.006809609883438864 deg, angle=374.75959111728724 deg)>,\n",
       "   <EllipseSkyRegion(<SkyCoord (ICRS): (ra, dec) in deg\n",
       "       (328.84875786, -9.2334555)>, width=0.007624181442133438 deg, height=0.007624181442133438 deg, angle=336.4766373980855 deg)>,\n",
       "   <EllipseSkyRegion(<SkyCoord (ICRS): (ra, dec) in deg\n",
       "       (328.70002037, -9.22635466)>, width=0.007312596562708717 deg, height=0.007312596562708717 deg, angle=385.32690819492217 deg)>,\n",
       "   <EllipseSkyRegion(<SkyCoord (ICRS): (ra, dec) in deg\n",
       "       (328.73053419, -9.21549118)>, width=0.007092895516765346 deg, height=0.007092895516765346 deg, angle=375.2559289849012 deg)>,\n",
       "   <EllipseSkyRegion(<SkyCoord (ICRS): (ra, dec) in deg\n",
       "       (328.66945038, -9.21538118)>, width=0.007507169766322179 deg, height=0.007507169766322179 deg, angle=391.60689657572266 deg)>,\n",
       "   <EllipseSkyRegion(<SkyCoord (ICRS): (ra, dec) in deg\n",
       "       (328.92113086, -9.51503501)>, width=0.00920233061969241 deg, height=0.00920233061969241 deg, angle=588.5428276309194 deg)>,\n",
       "   <EllipseSkyRegion(<SkyCoord (ICRS): (ra, dec) in deg\n",
       "       (328.76718805, -9.46938864)>, width=0.008479874183753903 deg, height=0.008479874183753903 deg, angle=531.4119478557901 deg)>,\n",
       "   <EllipseSkyRegion(<SkyCoord (ICRS): (ra, dec) in deg\n",
       "       (328.97067115, -9.44025128)>, width=0.007134318556827573 deg, height=0.007134318556827573 deg, angle=255.47074364670326 deg)>,\n",
       "   <EllipseSkyRegion(<SkyCoord (ICRS): (ra, dec) in deg\n",
       "       (328.60991084, -9.35741364)>, width=0.007591343401669003 deg, height=0.007591343401669003 deg, angle=438.52061221514987 deg)>,\n",
       "   <EllipseSkyRegion(<SkyCoord (ICRS): (ra, dec) in deg\n",
       "       (328.58434174, -9.35144598)>, width=0.007715982802198556 deg, height=0.007715982802198556 deg, angle=438.29078458752 deg)>,\n",
       "   <EllipseSkyRegion(<SkyCoord (ICRS): (ra, dec) in deg\n",
       "       (328.75127407, -9.32831492)>, width=0.007877356155183543 deg, height=0.007877356155183543 deg, angle=383.5305446771204 deg)>,\n",
       "   <EllipseSkyRegion(<SkyCoord (ICRS): (ra, dec) in deg\n",
       "       (328.83988442, -9.24448306)>, width=0.0074608492348664825 deg, height=0.0074608492348664825 deg, angle=337.7900853561976 deg)>,\n",
       "   <EllipseSkyRegion(<SkyCoord (ICRS): (ra, dec) in deg\n",
       "       (328.67936205, -9.22831308)>, width=0.007642103323825737 deg, height=0.007642103323825737 deg, angle=391.13527919824 deg)>,\n",
       "   <EllipseSkyRegion(<SkyCoord (ICRS): (ra, dec) in deg\n",
       "       (328.62917513, -9.21923338)>, width=0.007642082016264236 deg, height=0.007642082016264236 deg, angle=400.7084686717307 deg)>,\n",
       "   <EllipseSkyRegion(<SkyCoord (ICRS): (ra, dec) in deg\n",
       "       (328.79871532, -9.16670201)>, width=0.012440372645364971 deg, height=0.012440372645364971 deg, angle=355.0788032786662 deg)>,\n",
       "   <EllipseSkyRegion(<SkyCoord (ICRS): (ra, dec) in deg\n",
       "       (328.84029561, -9.54883107)>, width=0.007667803827869568 deg, height=0.007667803827869568 deg, angle=560.96001825782 deg)>,\n",
       "   <EllipseSkyRegion(<SkyCoord (ICRS): (ra, dec) in deg\n",
       "       (328.8978813, -9.37772185)>, width=0.007862583932634504 deg, height=0.007862583932634504 deg, angle=276.65062148184717 deg)>,\n",
       "   <EllipseSkyRegion(<SkyCoord (ICRS): (ra, dec) in deg\n",
       "       (328.89105993, -9.54884994)>, width=0.011787833479783082 deg, height=0.011787833479783082 deg, angle=575.0197345874648 deg)>,\n",
       "   <EllipseSkyRegion(<SkyCoord (ICRS): (ra, dec) in deg\n",
       "       (328.97061681, -9.43944536)>, width=0.006871217861284668 deg, height=0.006871217861284668 deg, angle=255.69675250947418 deg)>,\n",
       "   <EllipseSkyRegion(<SkyCoord (ICRS): (ra, dec) in deg\n",
       "       (328.74727506, -9.53826212)>, width=0.004185759438683856 deg, height=0.0034176512547450105 deg, angle=0.00519723029853467 deg)>,\n",
       "   <EllipseSkyRegion(<SkyCoord (ICRS): (ra, dec) in deg\n",
       "       (328.65521757, -9.25972201)>, width=0.005085643146284783 deg, height=0.004979068953513777 deg, angle=-89.97978092689743 deg)>,\n",
       "   <EllipseSkyRegion(<SkyCoord (ICRS): (ra, dec) in deg\n",
       "       (328.74532898, -9.1401906)>, width=0.008910391116877896 deg, height=0.005099599293395697 deg, angle=-4.3431752110019035 deg)>,\n",
       "   <EllipseSkyRegion(<SkyCoord (ICRS): (ra, dec) in deg\n",
       "       (328.84740316, -9.12401742)>, width=0.010836210345668586 deg, height=0.004752678895310275 deg, angle=22.76255845772804 deg)>,\n",
       "   <EllipseSkyRegion(<SkyCoord (ICRS): (ra, dec) in deg\n",
       "       (328.66155125, -9.25468904)>, width=0.007461134604631991 deg, height=0.006089759412612027 deg, angle=-243.26581444855768 deg)>,\n",
       "   <EllipseSkyRegion(<SkyCoord (ICRS): (ra, dec) in deg\n",
       "       (328.87250749, -9.17123746)>, width=0.015571927865370996 deg, height=0.012841259287035708 deg, angle=-5.447628043271801 deg)>,\n",
       "   <EllipseSkyRegion(<SkyCoord (ICRS): (ra, dec) in deg\n",
       "       (328.76800879, -9.58453019)>, width=0.04900630168181078 deg, height=0.0418518412810454 deg, angle=14.492613927564252 deg)>,\n",
       "   <EllipseSkyRegion(<SkyCoord (ICRS): (ra, dec) in deg\n",
       "       (328.73703671, -9.42752247)>, width=0.02737187371185334 deg, height=0.025547049908862033 deg, angle=-234.62113208461741 deg)>],\n",
       "  '0502671101': [<EllipseSkyRegion(<SkyCoord (ICRS): (ra, dec) in deg\n",
       "       (235.90154368, -83.80147385)>, width=0.00660837290419497 deg, height=0.00660837290419497 deg, angle=202.4868703807935 deg)>,\n",
       "   <EllipseSkyRegion(<SkyCoord (ICRS): (ra, dec) in deg\n",
       "       (234.49541433, -83.68304058)>, width=0.007100641472299129 deg, height=0.007100641472299129 deg, angle=157.52414219789802 deg)>,\n",
       "   <EllipseSkyRegion(<SkyCoord (ICRS): (ra, dec) in deg\n",
       "       (233.74507431, -83.51250489)>, width=0.00714719294578614 deg, height=0.00714719294578614 deg, angle=430.5717571135679 deg)>,\n",
       "   <EllipseSkyRegion(<SkyCoord (ICRS): (ra, dec) in deg\n",
       "       (233.94244606, -83.35916674)>, width=0.007460790554446995 deg, height=0.007460790554446995 deg, angle=390.6036279032619 deg)>,\n",
       "   <EllipseSkyRegion(<SkyCoord (ICRS): (ra, dec) in deg\n",
       "       (234.20203946, -83.63612767)>, width=0.011149504631671156 deg, height=0.011149504631671156 deg, angle=491.55066920006726 deg)>,\n",
       "   <EllipseSkyRegion(<SkyCoord (ICRS): (ra, dec) in deg\n",
       "       (235.09173966, -83.3819441)>, width=0.007336634582089766 deg, height=0.007336634582089766 deg, angle=354.7415736534235 deg)>,\n",
       "   <EllipseSkyRegion(<SkyCoord (ICRS): (ra, dec) in deg\n",
       "       (235.27920679, -83.62139769)>, width=0.009230085090930708 deg, height=0.009230085090930708 deg, angle=212.69728753428527 deg)>,\n",
       "   <EllipseSkyRegion(<SkyCoord (ICRS): (ra, dec) in deg\n",
       "       (236.23212762, -83.57686191)>, width=0.007570885109952949 deg, height=0.007570885109952949 deg, angle=263.42136755600364 deg)>,\n",
       "   <EllipseSkyRegion(<SkyCoord (ICRS): (ra, dec) in deg\n",
       "       (232.78254537, -83.64354873)>, width=0.007287453342756499 deg, height=0.007287453342756499 deg, angle=471.22423270980056 deg)>,\n",
       "   <EllipseSkyRegion(<SkyCoord (ICRS): (ra, dec) in deg\n",
       "       (236.73121362, -83.53946232)>, width=0.028088980637951882 deg, height=0.015714807252284024 deg, angle=65.80502135791009 deg)>,\n",
       "   <EllipseSkyRegion(<SkyCoord (ICRS): (ra, dec) in deg\n",
       "       (234.90593367, -83.5888805)>, width=0.060431397862485636 deg, height=0.05796591495634242 deg, angle=8.671039046651588 deg)>],\n",
       "  '0761910201': [<EllipseSkyRegion(<SkyCoord (ICRS): (ra, dec) in deg\n",
       "       (328.68937419, -9.56078069)>, width=0.007605173317941238 deg, height=0.007605173317941238 deg, angle=512.5237110475313 deg)>,\n",
       "   <EllipseSkyRegion(<SkyCoord (ICRS): (ra, dec) in deg\n",
       "       (328.77253784, -9.53257425)>, width=0.007225087744081948 deg, height=0.007225087744081948 deg, angle=537.2291426911661 deg)>,\n",
       "   <EllipseSkyRegion(<SkyCoord (ICRS): (ra, dec) in deg\n",
       "       (328.77991627, -9.52102755)>, width=0.007733317091148604 deg, height=0.007733317091148604 deg, angle=540.1609388825366 deg)>,\n",
       "   <EllipseSkyRegion(<SkyCoord (ICRS): (ra, dec) in deg\n",
       "       (328.88736665, -9.52040684)>, width=0.007642123949260695 deg, height=0.007642123949260695 deg, angle=579.1564080819821 deg)>,\n",
       "   <EllipseSkyRegion(<SkyCoord (ICRS): (ra, dec) in deg\n",
       "       (328.80523125, -9.51758771)>, width=0.007509971224357759 deg, height=0.007509971224357759 deg, angle=551.2198086846786 deg)>,\n",
       "   <EllipseSkyRegion(<SkyCoord (ICRS): (ra, dec) in deg\n",
       "       (328.72564001, -9.51836509)>, width=0.007901393639954415 deg, height=0.007901393639954415 deg, angle=517.526794183721 deg)>,\n",
       "   <EllipseSkyRegion(<SkyCoord (ICRS): (ra, dec) in deg\n",
       "       (328.92044482, -9.51495767)>, width=0.009964105840928699 deg, height=0.009964105840928699 deg, angle=587.989011277084 deg)>,\n",
       "   <EllipseSkyRegion(<SkyCoord (ICRS): (ra, dec) in deg\n",
       "       (328.67642934, -9.51242001)>, width=0.0069114309234041505 deg, height=0.0069114309234041505 deg, angle=500.3228230353246 deg)>,\n",
       "   <EllipseSkyRegion(<SkyCoord (ICRS): (ra, dec) in deg\n",
       "       (328.56531187, -9.4881104)>, width=0.007708270005386793 deg, height=0.007708270005386793 deg, angle=474.9739522459599 deg)>,\n",
       "   <EllipseSkyRegion(<SkyCoord (ICRS): (ra, dec) in deg\n",
       "       (328.55365585, -9.48913623)>, width=0.0072669366616291056 deg, height=0.0072669366616291056 deg, angle=474.05785398408636 deg)>,\n",
       "   <EllipseSkyRegion(<SkyCoord (ICRS): (ra, dec) in deg\n",
       "       (328.76595056, -9.47897744)>, width=0.007737084485437304 deg, height=0.007737084485437304 deg, angle=531.4412174213251 deg)>,\n",
       "   <EllipseSkyRegion(<SkyCoord (ICRS): (ra, dec) in deg\n",
       "       (328.82192403, -9.47346034)>, width=0.007405325670107783 deg, height=0.007405325670107783 deg, angle=566.5750852172926 deg)>,\n",
       "   <EllipseSkyRegion(<SkyCoord (ICRS): (ra, dec) in deg\n",
       "       (328.67191667, -9.44653819)>, width=0.008188997983536301 deg, height=0.008188997983536301 deg, angle=478.0965592859854 deg)>,\n",
       "   <EllipseSkyRegion(<SkyCoord (ICRS): (ra, dec) in deg\n",
       "       (328.74315096, -9.44429672)>, width=0.007494703478737374 deg, height=0.007494703478737374 deg, angle=506.57593722899287 deg)>,\n",
       "   <EllipseSkyRegion(<SkyCoord (ICRS): (ra, dec) in deg\n",
       "       (328.98165457, -9.43094931)>, width=0.008713355304176376 deg, height=0.008713355304176376 deg, angle=258.3220246762259 deg)>,\n",
       "   <EllipseSkyRegion(<SkyCoord (ICRS): (ra, dec) in deg\n",
       "       (328.7608298, -9.41117408)>, width=0.008338247600854148 deg, height=0.008338247600854148 deg, angle=499.03105288380016 deg)>,\n",
       "   <EllipseSkyRegion(<SkyCoord (ICRS): (ra, dec) in deg\n",
       "       (328.70626465, -9.40879626)>, width=0.0077696729844267025 deg, height=0.0077696729844267025 deg, angle=464.653955323828 deg)>,\n",
       "   <EllipseSkyRegion(<SkyCoord (ICRS): (ra, dec) in deg\n",
       "       (328.84643592, -9.40421552)>, width=0.007794735186659312 deg, height=0.007794735186659312 deg, angle=257.75908603777935 deg)>,\n",
       "   <EllipseSkyRegion(<SkyCoord (ICRS): (ra, dec) in deg\n",
       "       (328.80710602, -9.39717254)>, width=0.0077371023425100985 deg, height=0.0077371023425100985 deg, angle=255.05350280846199 deg)>,\n",
       "   <EllipseSkyRegion(<SkyCoord (ICRS): (ra, dec) in deg\n",
       "       (329.00979931, -9.38984914)>, width=0.007642116597171322 deg, height=0.007642116597171322 deg, angle=269.96043273636946 deg)>,\n",
       "   <EllipseSkyRegion(<SkyCoord (ICRS): (ra, dec) in deg\n",
       "       (328.70467401, -9.38436828)>, width=0.006738410167270855 deg, height=0.006738410167270855 deg, angle=445.7222148366446 deg)>,\n",
       "   <EllipseSkyRegion(<SkyCoord (ICRS): (ra, dec) in deg\n",
       "       (328.83070165, -9.38367648)>, width=0.007874826013197438 deg, height=0.007874826013197438 deg, angle=277.03565312549773 deg)>,\n",
       "   <EllipseSkyRegion(<SkyCoord (ICRS): (ra, dec) in deg\n",
       "       (328.81200351, -9.38025547)>, width=0.007045742026326322 deg, height=0.007045742026326322 deg, angle=286.77870377092853 deg)>,\n",
       "   <EllipseSkyRegion(<SkyCoord (ICRS): (ra, dec) in deg\n",
       "       (328.67005046, -9.37491259)>, width=0.008233181457226636 deg, height=0.008233181457226636 deg, angle=442.1198637685323 deg)>,\n",
       "   <EllipseSkyRegion(<SkyCoord (ICRS): (ra, dec) in deg\n",
       "       (328.75649891, -9.37322249)>, width=0.007933552857170845 deg, height=0.007933552857170845 deg, angle=413.71675948051967 deg)>,\n",
       "   <EllipseSkyRegion(<SkyCoord (ICRS): (ra, dec) in deg\n",
       "       (328.70796622, -9.37173101)>, width=0.008681480850895254 deg, height=0.008681480850895254 deg, angle=435.5766777103424 deg)>,\n",
       "   <EllipseSkyRegion(<SkyCoord (ICRS): (ra, dec) in deg\n",
       "       (328.8957851, -9.37103292)>, width=0.007538171566229098 deg, height=0.007538171566229098 deg, angle=279.32203458597206 deg)>,\n",
       "   <EllipseSkyRegion(<SkyCoord (ICRS): (ra, dec) in deg\n",
       "       (328.72058903, -9.37144816)>, width=0.009346645864457591 deg, height=0.009346645864457591 deg, angle=432.3986182648724 deg)>,\n",
       "   <EllipseSkyRegion(<SkyCoord (ICRS): (ra, dec) in deg\n",
       "       (328.68086324, -9.36191652)>, width=0.007842746784627016 deg, height=0.007842746784627016 deg, angle=433.9790996303439 deg)>,\n",
       "   <EllipseSkyRegion(<SkyCoord (ICRS): (ra, dec) in deg\n",
       "       (328.89339805, -9.35562868)>, width=0.007894676140839866 deg, height=0.007894676140839866 deg, angle=286.9454240409902 deg)>,\n",
       "   <EllipseSkyRegion(<SkyCoord (ICRS): (ra, dec) in deg\n",
       "       (328.61028928, -9.35544602)>, width=0.0076466605615973645 deg, height=0.0076466605615973645 deg, angle=438.3786140008967 deg)>,\n",
       "   <EllipseSkyRegion(<SkyCoord (ICRS): (ra, dec) in deg\n",
       "       (328.57316187, -9.35288901)>, width=0.0074928486894210375 deg, height=0.0074928486894210375 deg, angle=439.74467148930773 deg)>,\n",
       "   <EllipseSkyRegion(<SkyCoord (ICRS): (ra, dec) in deg\n",
       "       (329.01076915, -9.35201347)>, width=0.009124096971773004 deg, height=0.009124096971773004 deg, angle=279.37627450237886 deg)>,\n",
       "   <EllipseSkyRegion(<SkyCoord (ICRS): (ra, dec) in deg\n",
       "       (328.78943218, -9.33982115)>, width=0.009362956833258915 deg, height=0.009362956833258915 deg, angle=348.97538633888524 deg)>,\n",
       "   <EllipseSkyRegion(<SkyCoord (ICRS): (ra, dec) in deg\n",
       "       (328.85669407, -9.32949866)>, width=0.008796769907473507 deg, height=0.008796769907473507 deg, angle=308.4194123975086 deg)>,\n",
       "   <EllipseSkyRegion(<SkyCoord (ICRS): (ra, dec) in deg\n",
       "       (328.7503647, -9.32688732)>, width=0.007820733673050688 deg, height=0.007820733673050688 deg, angle=384.55676029198094 deg)>,\n",
       "   <EllipseSkyRegion(<SkyCoord (ICRS): (ra, dec) in deg\n",
       "       (328.57621029, -9.31464728)>, width=0.007424424945689914 deg, height=0.007424424945689914 deg, angle=429.485174123743 deg)>,\n",
       "   <EllipseSkyRegion(<SkyCoord (ICRS): (ra, dec) in deg\n",
       "       (328.83474633, -9.31090046)>, width=0.007501871457599387 deg, height=0.007501871457599387 deg, angle=325.4059932279165 deg)>,\n",
       "   <EllipseSkyRegion(<SkyCoord (ICRS): (ra, dec) in deg\n",
       "       (328.79077339, -9.31158361)>, width=0.00797343822778213 deg, height=0.00797343822778213 deg, angle=351.94516751782294 deg)>,\n",
       "   <EllipseSkyRegion(<SkyCoord (ICRS): (ra, dec) in deg\n",
       "       (328.93981651, -9.3040177)>, width=0.007445535674519624 deg, height=0.007445535674519624 deg, angle=298.46985071857654 deg)>,\n",
       "   <EllipseSkyRegion(<SkyCoord (ICRS): (ra, dec) in deg\n",
       "       (328.58249999, -9.29807621)>, width=0.0071450812701841235 deg, height=0.0071450812701841235 deg, angle=424.7641479315843 deg)>,\n",
       "   <EllipseSkyRegion(<SkyCoord (ICRS): (ra, dec) in deg\n",
       "       (328.6189924, -9.27921549)>, width=0.008684419291152426 deg, height=0.008684419291152426 deg, angle=415.0951940564478 deg)>,\n",
       "   <EllipseSkyRegion(<SkyCoord (ICRS): (ra, dec) in deg\n",
       "       (328.64197997, -9.23477804)>, width=0.0074608267523772415 deg, height=0.0074608267523772415 deg, angle=401.22044355499946 deg)>,\n",
       "   <EllipseSkyRegion(<SkyCoord (ICRS): (ra, dec) in deg\n",
       "       (328.84886845, -9.23328715)>, width=0.008116936777280776 deg, height=0.008116936777280776 deg, angle=336.38868916703535 deg)>,\n",
       "   <EllipseSkyRegion(<SkyCoord (ICRS): (ra, dec) in deg\n",
       "       (328.67951663, -9.22868351)>, width=0.007729466376465991 deg, height=0.007729466376465991 deg, angle=391.50031933343274 deg)>,\n",
       "   <EllipseSkyRegion(<SkyCoord (ICRS): (ra, dec) in deg\n",
       "       (328.70024959, -9.22699216)>, width=0.0076718807023934054 deg, height=0.0076718807023934054 deg, angle=385.6729366953833 deg)>,\n",
       "   <EllipseSkyRegion(<SkyCoord (ICRS): (ra, dec) in deg\n",
       "       (328.66815329, -9.21530287)>, width=0.007642091503343634 deg, height=0.007642091503343634 deg, angle=392.2191732974662 deg)>,\n",
       "   <EllipseSkyRegion(<SkyCoord (ICRS): (ra, dec) in deg\n",
       "       (328.6767295, -9.19053487)>, width=0.007045646840351006 deg, height=0.007045646840351006 deg, angle=386.9967740636772 deg)>,\n",
       "   <EllipseSkyRegion(<SkyCoord (ICRS): (ra, dec) in deg\n",
       "       (328.58244675, -9.4627311)>, width=0.0073499475291128385 deg, height=0.0073499475291128385 deg, angle=470.57915661676134 deg)>,\n",
       "   <EllipseSkyRegion(<SkyCoord (ICRS): (ra, dec) in deg\n",
       "       (328.77709921, -9.39113194)>, width=0.007642176657240857 deg, height=0.007642176657240857 deg, angle=476.75139849239014 deg)>,\n",
       "   <EllipseSkyRegion(<SkyCoord (ICRS): (ra, dec) in deg\n",
       "       (328.68704345, -9.52917156)>, width=0.009760532586818882 deg, height=0.009760532586818882 deg, angle=506.7890913118479 deg)>,\n",
       "   <EllipseSkyRegion(<SkyCoord (ICRS): (ra, dec) in deg\n",
       "       (328.70787811, -9.50168701)>, width=0.01039442263290166 deg, height=0.01039442263290166 deg, angle=507.7046920804661 deg)>,\n",
       "   <EllipseSkyRegion(<SkyCoord (ICRS): (ra, dec) in deg\n",
       "       (328.76719065, -9.46949572)>, width=0.008898874358419878 deg, height=0.008898874358419878 deg, angle=531.2970150964355 deg)>,\n",
       "   <EllipseSkyRegion(<SkyCoord (ICRS): (ra, dec) in deg\n",
       "       (328.96751421, -9.44376535)>, width=0.0074926116789422875 deg, height=0.0074926116789422875 deg, angle=253.76133173052233 deg)>,\n",
       "   <EllipseSkyRegion(<SkyCoord (ICRS): (ra, dec) in deg\n",
       "       (328.87544149, -9.42650864)>, width=0.008883965127052801 deg, height=0.008883965127052801 deg, angle=608.831353701835 deg)>,\n",
       "   <EllipseSkyRegion(<SkyCoord (ICRS): (ra, dec) in deg\n",
       "       (328.87027321, -9.41502843)>, width=0.009208357013779252 deg, height=0.009208357013779252 deg, angle=254.30719692583813 deg)>,\n",
       "   <EllipseSkyRegion(<SkyCoord (ICRS): (ra, dec) in deg\n",
       "       (328.63355, -9.2672484)>, width=0.007570125451236267 deg, height=0.007570125451236267 deg, angle=409.62181893037854 deg)>,\n",
       "   <EllipseSkyRegion(<SkyCoord (ICRS): (ra, dec) in deg\n",
       "       (328.8818919, -9.13298913)>, width=0.007606100056132776 deg, height=0.007606100056132776 deg, angle=338.51230130245455 deg)>,\n",
       "   <EllipseSkyRegion(<SkyCoord (ICRS): (ra, dec) in deg\n",
       "       (328.8430574, -9.32774321)>, width=0.00931608840720637 deg, height=0.00931608840720637 deg, angle=314.75663725655045 deg)>,\n",
       "   <EllipseSkyRegion(<SkyCoord (ICRS): (ra, dec) in deg\n",
       "       (328.6213323, -9.3083263)>, width=0.007494668592118892 deg, height=0.007494668592118892 deg, angle=422.44481229159595 deg)>,\n",
       "   <EllipseSkyRegion(<SkyCoord (ICRS): (ra, dec) in deg\n",
       "       (328.58389853, -9.40170782)>, width=0.007762796464037069 deg, height=0.007762796464037069 deg, angle=453.54391975536015 deg)>,\n",
       "   <EllipseSkyRegion(<SkyCoord (ICRS): (ra, dec) in deg\n",
       "       (328.943744, -9.49940368)>, width=0.007266861168549896 deg, height=0.007266861168549896 deg, angle=595.9032099359723 deg)>,\n",
       "   <EllipseSkyRegion(<SkyCoord (ICRS): (ra, dec) in deg\n",
       "       (328.65523524, -9.25937826)>, width=0.0069789185302487015 deg, height=0.006771908415006877 deg, angle=38.18458091605515 deg)>,\n",
       "   <EllipseSkyRegion(<SkyCoord (ICRS): (ra, dec) in deg\n",
       "       (328.74495384, -9.13987952)>, width=0.010799658012802556 deg, height=0.005065284194131101 deg, angle=-3.41899691429815 deg)>,\n",
       "   <EllipseSkyRegion(<SkyCoord (ICRS): (ra, dec) in deg\n",
       "       (328.8472948, -9.12389621)>, width=0.011241188923289154 deg, height=0.005825221156390184 deg, angle=22.931945913121808 deg)>,\n",
       "   <EllipseSkyRegion(<SkyCoord (ICRS): (ra, dec) in deg\n",
       "       (328.66737543, -9.43260352)>, width=0.022303894441709094 deg, height=0.011907153729425595 deg, angle=51.78980020234835 deg)>,\n",
       "   <EllipseSkyRegion(<SkyCoord (ICRS): (ra, dec) in deg\n",
       "       (328.57712017, -9.51571182)>, width=0.014725846448283647 deg, height=0.01185632766887667 deg, angle=69.67002567183334 deg)>,\n",
       "   <EllipseSkyRegion(<SkyCoord (ICRS): (ra, dec) in deg\n",
       "       (328.75689362, -9.57390549)>, width=0.06516474075786996 deg, height=0.03133683329802987 deg, angle=-12.004004917278055 deg)>,\n",
       "   <EllipseSkyRegion(<SkyCoord (ICRS): (ra, dec) in deg\n",
       "       (328.7342496, -9.42368759)>, width=0.03320522012875693 deg, height=0.028047573474162493 deg, angle=54.06498950775162 deg)>,\n",
       "   <EllipseSkyRegion(<SkyCoord (ICRS): (ra, dec) in deg\n",
       "       (328.80555656, -9.33028177)>, width=0.017124914642677427 deg, height=0.014535991053605816 deg, angle=-44.42214439125614 deg)>]},\n",
       " 'chandra': {},\n",
       " 'nustar_pointed': {},\n",
       " 'rosat_all_sky': {}}"
      ]
     },
     "execution_count": 37,
     "metadata": {},
     "output_type": "execute_result"
    }
   ],
   "source": [
    "prev_arch.source_regions"
   ]
  }
 ],
 "metadata": {
  "kernelspec": {
   "display_name": "Python 3 (ipykernel)",
   "language": "python",
   "name": "python3"
  },
  "language_info": {
   "codemirror_mode": {
    "name": "ipython",
    "version": 3
   },
   "file_extension": ".py",
   "mimetype": "text/x-python",
   "name": "python",
   "nbconvert_exporter": "python",
   "pygments_lexer": "ipython3",
   "version": "3.9.0"
  }
 },
 "nbformat": 4,
 "nbformat_minor": 5
}
