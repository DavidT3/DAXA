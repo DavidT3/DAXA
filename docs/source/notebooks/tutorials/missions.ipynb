{
 "cells": [
  {
   "cell_type": "markdown",
   "id": "fa35cceea9f5339f",
   "metadata": {},
   "source": [
    "# Identifying and acquiring relevant X-ray observations"
   ]
  },
  {
   "cell_type": "markdown",
   "id": "f64edf29",
   "metadata": {},
   "source": [
    "This tutorial will explain the basic concepts and components of the X-ray astronomy Python module 'Democratising Archival X-ray Astronomy' (DAXA). We will particularly focus on the various 'mission' classes (implemented for each of the X-ray telescopes that DAXA supports), and the functionality that allows for large numbers of observations to be selected and downloaded.\n",
    "\n",
    "DAXA mission classes allow the user to interact with and search various X-ray telescope archives, all through an identical interface, within a single module, and through Python commands. It should be simple for anyone with a passing familiarity with Python to identify and acquire X-ray data relevant to their research."
   ]
  },
  {
   "cell_type": "markdown",
   "id": "405be864",
   "metadata": {},
   "source": [
    "## Import Statements"
   ]
  },
  {
   "cell_type": "code",
   "execution_count": 9,
   "id": "7bbdf260",
   "metadata": {},
   "outputs": [],
   "source": [
    "from daxa.mission import MISS_INDEX, XMMPointed, Chandra, eRASS1DE, eROSITACalPV, NuSTARPointed, Swift, \\\n",
    "    ROSATAllSky, ROSATPointed, ASCA, INTEGRALPointed, Suzaku\n",
    "\n",
    "from datetime import date\n",
    "import numpy as np\n",
    "from astropy.units import Quantity"
   ]
  },
  {
   "cell_type": "markdown",
   "id": "49a0a5b2",
   "metadata": {},
   "source": [
    "## What missions are available?"
   ]
  },
  {
   "cell_type": "markdown",
   "id": "539b359b",
   "metadata": {},
   "source": [
    "We have implemented support for access and searching the archives of many X-ray telescopes; we would also be willing to provide an interface to the data archives of other X-ray telescopes, if feasible - please feel free to reach out using the support page if you think there is one we should add.\n",
    "\n",
    "Some telescopes (such as the ROSATPointed/ROSATAllSky and eROSITACalPV/eRASS1DE classes) are not uniquely represented by a single DAXA mission - this is generally the case when the telescope in question has been used in distinctly different ways (e.g. ROSAT had a survey phase and a pointed phase), such that the data for one mode may not be relevant to all applications."
   ]
  },
  {
   "cell_type": "code",
   "execution_count": null,
   "id": "cf321585",
   "metadata": {},
   "outputs": [],
   "source": [
    "MISS_INDEX"
   ]
  },
  {
   "cell_type": "markdown",
   "id": "f76aa35c",
   "metadata": {},
   "source": [
    "### XMM-Pointed"
   ]
  },
  {
   "cell_type": "markdown",
   "id": "fdf6ccb4",
   "metadata": {},
   "source": [
    "This class is for acquiring XMM-Newton data, particularly that taken when the telescope is pointing at specific targets; i.e. it cannot be used to filter and download data taken when the telescope is slewing from one target to the next. XMM is still in use, so the number of observations that are available are constantly increasing - this also means that some data are still in a proprietary period, and DAXA will not be able to access them. **Note that only raw, unprocessed, data can currently be downloaded for XMM using DAXA.**\n",
    "\n",
    "The three EPIC instruments are supported (PN, MOS1, and MOS2), as well as the two grating spectrometers (RGS1 and RGS2). We also support the acquisition of XMM optical monitor (OM) data, but support for processing it is more limited.\n",
    "\n",
    "\n",
    "Values that can be passed to the `insts` argument of XMMPointed on declaration (either as single strings or as part of a list):\n",
    "\n",
    "* PN\n",
    "* MOS1\n",
    "* MOS2\n",
    "* RGS1\n",
    "* RGS2\n",
    "* OM"
   ]
  },
  {
   "cell_type": "code",
   "execution_count": 4,
   "id": "b925a55d",
   "metadata": {},
   "outputs": [
    {
     "name": "stderr",
     "output_type": "stream",
     "text": [
      "/Users/dt237/code/DAXA/daxa/mission/xmm.py:83: UserWarning: 140 of the 17701 observations located for this mission have been removed due to NaN RA or Dec values\n",
      "  self._fetch_obs_info()\n"
     ]
    }
   ],
   "source": [
    "xm = XMMPointed()"
   ]
  },
  {
   "cell_type": "markdown",
   "id": "eec13300",
   "metadata": {},
   "source": [
    "### Chandra"
   ]
  },
  {
   "cell_type": "markdown",
   "id": "bee904af",
   "metadata": {},
   "source": [
    "The class for acquiring Chandra data, specifically taken when pointing at a target - Chandra does not have easily accessible 'slew' data, and this class does not consider it at all.\n",
    "\n",
    "Data from all instruments can be downloaded by DAXA - though unlike XMM there are not data being taken simultaneously, so each ObsID is generally only associated with one instrument. Note though that the gratings (HETG and LETG) are used _with_ another instrument, so cannot be passed by themselves.\n",
    "\n",
    "**Note that the standard format of Chandra data can be downloaded using DAXA, allowing for the use of the standard Chandra re-processing scripts. This standard download includes pre-made images.**\n",
    "\n",
    "Values that can be passed to the `insts` argument of Chandra (either as single string or as part of a list):\n",
    "\n",
    "* ACIS-I\n",
    "* ACIS-S\n",
    "* HRC-I\n",
    "* HRC-S\n",
    "* LETG [an instrument that this grating was used with must be specified]\n",
    "* HETG [an instrument that this grating was used with must be specified]"
   ]
  },
  {
   "cell_type": "code",
   "execution_count": 2,
   "id": "a7a9725c",
   "metadata": {},
   "outputs": [],
   "source": [
    "ch = Chandra()"
   ]
  },
  {
   "cell_type": "markdown",
   "id": "c04cba03",
   "metadata": {},
   "source": [
    "### eROSITA All-Sky DR1 (German Half)"
   ]
  },
  {
   "cell_type": "markdown",
   "id": "2a8fc8a6",
   "metadata": {},
   "source": [
    "The class for acquiring data from the first data release by the German part of the eROSITA consortium - this covers half the sky to 1/8th the planned final survey depth of eROSITA. All of this data is taken in survey mode, where the telescope is constantly slewing. **Note that the data downloads can include pre-generated images and exposure maps.**\n",
    "\n",
    "The eROSITA telescope is made up of 7 telescope modules that observe simultaneously, and which can be individually selected on declaration with the `insts` argument - ***it is not recommended to use DAXA to limit the telescope modules being considered, as we crudely modify the event lists to remove events from non-selected telescope modules***.\n",
    "\n",
    "Values that can be passed to the `insts` argument of eRASS1DE (either as a single string or as part of a list):\n",
    "\n",
    "* TM1\n",
    "* TM2\n",
    "* TM3\n",
    "* TM4\n",
    "* TM5\n",
    "* TM6\n",
    "* TM7"
   ]
  },
  {
   "cell_type": "code",
   "execution_count": null,
   "id": "8c7e7083",
   "metadata": {},
   "outputs": [],
   "source": [
    "ea = eRASS1DE()"
   ]
  },
  {
   "cell_type": "markdown",
   "id": "0089cc1c",
   "metadata": {},
   "source": [
    "### eROSITA Calibration and Performance Verification"
   ]
  },
  {
   "cell_type": "markdown",
   "id": "c0f721ae",
   "metadata": {},
   "source": [
    "This class provides DAXA access to the data from the calibration and performance verification stages of the eROSITA mission, including all pointed observations and survey regions (such as the eROSITA Final Equatorial-Depth Survey; eFEDS). **Note that _only_ event list data can be downloaded for this class.**\n",
    "\n",
    "The eROSITA telescope is made up of 7 telescope modules that observe simultaneously, and which can be individually selected on declaration with the `insts` argument - ***it is not recommended to use DAXA to limit the telescope modules being considered, as we crudely modify the event lists to remove events from non-selected telescope modules***.\n",
    "\n",
    "Values that can be passed to the `insts` argument of eROSITACalPV (either as a single string or as part of a list):\n",
    "\n",
    "* TM1\n",
    "* TM2\n",
    "* TM3\n",
    "* TM4\n",
    "* TM5\n",
    "* TM6\n",
    "* TM7"
   ]
  },
  {
   "cell_type": "code",
   "execution_count": null,
   "id": "913152cd",
   "metadata": {},
   "outputs": [],
   "source": [
    "ecpv = eROSITACalPV()"
   ]
  },
  {
   "cell_type": "markdown",
   "id": "5719c62a",
   "metadata": {},
   "source": [
    "### NuSTAR-Pointed"
   ]
  },
  {
   "cell_type": "markdown",
   "id": "15150a32",
   "metadata": {},
   "source": [
    "This class is for acquiring NuSTAR data, particularly that taken when the telescope is pointing at specific targets; i.e. it cannot be used to filter and download data taken when the telescope is slewing from one target to the next. NuSTAR is still in use, so the number of observations that are available are constantly increasing - this also means that some data are still in a proprietary period, and DAXA will not be able to access them. **Note that data downloads can optionally include pre-generated images**\n",
    "\n",
    "NuSTAR has two instruments that observe simultaneously, and are essentially identical, Focal Plane Module A & B.\n",
    "\n",
    "Values that can be passed to the `insts` argument of NuSTARPointed on declaration (either as single strings or as part of a list):\n",
    "\n",
    "* FPMA\n",
    "* FPMB"
   ]
  },
  {
   "cell_type": "code",
   "execution_count": null,
   "id": "bf746442",
   "metadata": {},
   "outputs": [],
   "source": [
    "nu = NuSTARPointed()"
   ]
  },
  {
   "cell_type": "markdown",
   "id": "0378739f",
   "metadata": {},
   "source": [
    "### Swift"
   ]
  },
  {
   "cell_type": "markdown",
   "id": "2f0d2b65",
   "metadata": {},
   "source": [
    "This class is for acquiring Swift data. Swift is still in use, so the number of observations that are available are constantly increasing. Also, due to the Swift's primary mission of rapid transient follow-up, and how observations are split up, the table of available observations is unusually large (only INTEGRAL is comparable) - **as such this class may take several minutes to declare, depending on your internet connection**.\n",
    "\n",
    "Swift has three instruments that generally observe simultaneously; the X-ray Telescope (XRT), the Burst Alert Telescope (BAT) which is has poor spatial resolution but has a large field of view and is sensitive to very high energy photons, and the Ultraviolet and Optical Telescope (UVOT). **Note that data downloads can optionally include pre-generated images, but not for BAT observations.**\n",
    "\n",
    "Values that can be passed to the `insts` argument of Swift on declaration (either as single strings or as part of a list); the XRT and BAT instruments are selected by default:\n",
    "\n",
    "* XRT\n",
    "* BAT\n",
    "* UVOT"
   ]
  },
  {
   "cell_type": "code",
   "execution_count": null,
   "id": "5c14a3e8",
   "metadata": {},
   "outputs": [],
   "source": [
    "sw = Swift()"
   ]
  },
  {
   "cell_type": "markdown",
   "id": "a08e3d23",
   "metadata": {},
   "source": [
    "### ROSAT All-Sky Survey"
   ]
  },
  {
   "cell_type": "markdown",
   "id": "3265faf0",
   "metadata": {},
   "source": [
    "This class provides access to data taken by ROSAT during its all-sky survey. Though ROSAT had multiple instruments, this was all taken with the position-sensitive proportional counters (PSPC) - specifically with the 'PSPC-C' instrument (ROSAT had two PSPC instruments). The initial all-sky survey was abandoned after an accidental pass over the sun destroyed PSPC-C, but follow-up observations with PSPC-B were taken towards the end of ROSAT's lifetime to complete the survey (**these are not included in this class**).\n",
    "\n",
    "**Note: Data acquired through this class will include just event lists by default, but can also include pre-generated images and exposure maps.**"
   ]
  },
  {
   "cell_type": "code",
   "execution_count": null,
   "id": "be5cca74",
   "metadata": {},
   "outputs": [],
   "source": [
    "ra = ROSATAllSky()"
   ]
  },
  {
   "cell_type": "markdown",
   "id": "38daf9d1",
   "metadata": {},
   "source": [
    "### ROSAT-Pointed"
   ]
  },
  {
   "cell_type": "markdown",
   "id": "e8cc636f",
   "metadata": {},
   "source": [
    "This class provides access to data taken by ROSAT during the pointed phase of its lifetime (including follow-up observations used to complete the all-sky survey). ROSAT instruments could not observe simultaneously, so each separate observation uses a single instrument. **Note: Data acquired through this class will include just event lists by default, but can also include pre-generated images (PSPC & HRI) and exposure maps (just PSPC).**\n",
    "\n",
    "Values that can be passed to the `insts` argument of ROSATPointed on declaration (either as single strings or as part of a list):\n",
    "\n",
    "* PSPCB\n",
    "* PSPCC\n",
    "* HRI"
   ]
  },
  {
   "cell_type": "code",
   "execution_count": null,
   "id": "bbf56b58",
   "metadata": {},
   "outputs": [],
   "source": [
    "rp = ROSATPointed()"
   ]
  },
  {
   "cell_type": "markdown",
   "id": "4dc94f5c",
   "metadata": {},
   "source": [
    "### Suzaku"
   ]
  },
  {
   "cell_type": "markdown",
   "id": "224808fe",
   "metadata": {},
   "source": [
    "This class provides access to data taken by the Suzaku X-ray telescope during pointed observations (data taken while slewing are not included in the public archive). **Note: Data acquired through this class will include just event lists by default, but can also include pre-generated images.**\n",
    "\n",
    "We provide access to XIS data, but not XRS (as the cooling system was damaged soon after launch) or HXD (as it was not an imaging instrument).\n",
    "\n",
    "Values that can be passed to the `insts` argument of Suzaku on declaration (either as single strings or as part of a list):\n",
    "\n",
    "* XIS0\n",
    "* XIS1\n",
    "* XIS2\n",
    "* XIS3"
   ]
  },
  {
   "cell_type": "code",
   "execution_count": null,
   "id": "391573de",
   "metadata": {},
   "outputs": [],
   "source": [
    "su = Suzaku()"
   ]
  },
  {
   "cell_type": "markdown",
   "id": "ffc8a32f",
   "metadata": {},
   "source": [
    "### ASCA"
   ]
  },
  {
   "cell_type": "markdown",
   "id": "9ac9695b",
   "metadata": {},
   "source": [
    "This class provides access to data taken by the ASCA X-ray telescope during pointed observations (we cannot find anywhere to access the data taken whilst slewing). **Note: Data acquired through this class will include just event lists by default, but can also include pre-generated images, spectra, and lightcurves.**\n",
    "\n",
    "\n",
    "Values that can be passed to the `insts` argument of ASCA on declaration (either as single strings or as part of a list):\n",
    "\n",
    "* SIS0\n",
    "* SIS1\n",
    "* GIS2\n",
    "* GIS3"
   ]
  },
  {
   "cell_type": "code",
   "execution_count": null,
   "id": "739d0dd4",
   "metadata": {},
   "outputs": [],
   "source": [
    "asca = ASCA()"
   ]
  },
  {
   "cell_type": "markdown",
   "id": "fc5010cd",
   "metadata": {},
   "source": [
    "### INTEGRAL-Pointed"
   ]
  },
  {
   "cell_type": "markdown",
   "id": "aa4e6477",
   "metadata": {},
   "source": [
    "This class is for acquiring INTEGRAL data. INTEGRAL is still in use, so the number of observations that are available are still increasing (_though operations will see around the end of 2024_). The table of available observations is unusually large (only Swift is comparable) - **as such this class may take several minutes to declare, depending on your internet connection**.\n",
    "\n",
    "INTEGRAl has a selection of instruments that cover different parts of the X-ray and Gamma-ray energy range - most of them are based on the 'coded mask' technology, and so have very limited spatial resolution. **Note that only raw data/calibration files can be downloaded through DAXA, there are no pre-processed images available**.\n",
    "\n",
    "Values that can be passed to the `insts` argument of INTEGRALPointed on declaration (either as single strings or as part of a list):\n",
    "\n",
    "* JEMX1\n",
    "* JEMX2\n",
    "* ISGRI\n",
    "* PICsIT\n",
    "* SPI"
   ]
  },
  {
   "cell_type": "code",
   "execution_count": null,
   "id": "4fe3792f",
   "metadata": {},
   "outputs": [],
   "source": [
    "inte = INTEGRALPointed()"
   ]
  },
  {
   "cell_type": "markdown",
   "id": "de20de1e",
   "metadata": {},
   "source": [
    "## Mission properties"
   ]
  },
  {
   "cell_type": "markdown",
   "id": "3d2ed064",
   "metadata": {},
   "source": [
    "Here we run through the basic properties that each of the DAXA mission classes share. We also show examples, particularly in cases where differences between telescopes result in us assigning different values for particular properties."
   ]
  },
  {
   "cell_type": "markdown",
   "id": "92db12d1",
   "metadata": {},
   "source": [
    "### Name"
   ]
  },
  {
   "cell_type": "markdown",
   "id": "0fc6ff1d",
   "metadata": {},
   "source": [
    "The name assigned to each mission class, so that they can be differentiated both by the user and by DAXA functions. Each mission class has two names, the 'internal DAXA name' (used by DAXA to identify missions) and the 'pretty name', which is typically in a more aethsetically pleasing format.\n",
    "\n",
    "For instance, we show the 'name' and 'pretty name' of the XMMPointed and eROSITA All-Sky Survey 1 classes:"
   ]
  },
  {
   "cell_type": "code",
   "execution_count": null,
   "id": "8311e438",
   "metadata": {},
   "outputs": [],
   "source": [
    "print(xm.name)\n",
    "print(xm.pretty_name, '\\n')\n",
    "\n",
    "print(ea.name)\n",
    "print(ea.pretty_name)"
   ]
  },
  {
   "cell_type": "markdown",
   "id": "d113a40f",
   "metadata": {},
   "source": [
    "### All Instruments & Chosen Instruments"
   ]
  },
  {
   "cell_type": "markdown",
   "id": "c7432d30",
   "metadata": {},
   "source": [
    "Most telescopes have multiple instruments, though not all are necessarily selected by default. This can be for a number of reasons, but is generally because they either aren't suited to archival/serindipitious science (which is the primary reason this module exists) or because they aren't X-ray telescopes (like the optical monitors on XMM and Swift). \n",
    "\n",
    "The instruments whose data is to be acquired are generally specified when the mission class is declared (using the `insts` argument), but can also be set through the `chosen_instruments` property.\n",
    "\n",
    "Every available instrument for a mission is stored in the `all_mission_instruments` property:"
   ]
  },
  {
   "cell_type": "code",
   "execution_count": null,
   "id": "7af6f2f0",
   "metadata": {},
   "outputs": [],
   "source": [
    "print(rp.all_mission_instruments)\n",
    "print(ch.all_mission_instruments)"
   ]
  },
  {
   "cell_type": "markdown",
   "id": "232e0d03",
   "metadata": {},
   "source": [
    "The selected instruments (normally specified on declaration) are stored in the `chosen_instruments` property, which can also be set:"
   ]
  },
  {
   "cell_type": "code",
   "execution_count": null,
   "id": "74edb595",
   "metadata": {},
   "outputs": [],
   "source": [
    "print(rp.chosen_instruments)\n",
    "print(ch.chosen_instruments)\n",
    "ch.chosen_instruments = ['ACIS-I', 'ACIS-S']\n",
    "print(ch.chosen_instruments)"
   ]
  },
  {
   "cell_type": "markdown",
   "id": "c1b10d64",
   "metadata": {},
   "source": [
    "### ObsID Regular Expression"
   ]
  },
  {
   "cell_type": "markdown",
   "id": "eb309849",
   "metadata": {},
   "source": [
    "Each of the mission's observations are uniquely identified by an 'ObsID', and each telescope/mission has a different format of ObsID (generally just made up of numeric characters) - there are points where the mission class may have to check the format of a supplied ObsID, and it does that by comparing to the ObsID regular expression:"
   ]
  },
  {
   "cell_type": "code",
   "execution_count": null,
   "id": "eeef607e",
   "metadata": {},
   "outputs": [],
   "source": [
    "print(xm.id_regex)\n",
    "print(rp.id_regex)"
   ]
  },
  {
   "cell_type": "markdown",
   "id": "e26806ba",
   "metadata": {},
   "source": [
    "### Field of View"
   ]
  },
  {
   "cell_type": "markdown",
   "id": "0fe5ba9c",
   "metadata": {},
   "source": [
    "The field of view (FoV) values attached to DAXA mission classes represent the half-width (or radius) of the region of sky that a telescope/instrument observes. Given that each telescope instrument tends to have a unique geometry, this is a simplification, but it is beneficial to have a single number that represents how much of the sky an instrument can see.\n",
    "\n",
    "In the simplest cases, the FoV property is just a single quantity, meaning that there is either only one instrument, or that every instrument has the same field of view. In other cases there may be multiple instruments associated with a mission, in which case they will all have their own entry in a FoV dictionary.\n",
    "\n",
    "Finally, some telescopes (such as Chandra) have instruments which have irregular geometries (the ACIS-S and HRC-S chips), or that are frequently used in different observational modes that enable and disable different parts of the sensor. As such the actual coverage of the FoV can vary dramatically, in cases like these we will have gone with the half-width of the longest possible side of the field of view."
   ]
  },
  {
   "cell_type": "code",
   "execution_count": null,
   "id": "386f8181",
   "metadata": {},
   "outputs": [],
   "source": [
    "print(xm.pretty_name, '-', xm.fov, '\\n')\n",
    "print(rp.pretty_name, '-', rp.fov, '\\n')\n",
    "print(sw.pretty_name, '-', sw.fov, '\\n')\n",
    "print(ch.pretty_name, '-', ch.fov)"
   ]
  },
  {
   "cell_type": "markdown",
   "id": "9a72c7d5",
   "metadata": {},
   "source": [
    "### Coordinate Frame"
   ]
  },
  {
   "cell_type": "markdown",
   "id": "63293d42",
   "metadata": {},
   "source": [
    "This property contains the coordinate frame for the central positions of observations taken by the mission - this is largely irrelevant to the user, and will be used in cases where the mission class needs to compare an input coordinate to an observation coordinate. \n",
    "\n",
    "Also, practically speaking the difference between the ICRS and FK5 frames (most commonly used) is neglible compared to the typical spatial uncertainty involved in X-ray data:"
   ]
  },
  {
   "cell_type": "code",
   "execution_count": null,
   "id": "493b9e53",
   "metadata": {},
   "outputs": [],
   "source": [
    "print(ch.coord_frame)\n",
    "print(asca.coord_frame)"
   ]
  },
  {
   "cell_type": "markdown",
   "id": "e3f645f1",
   "metadata": {},
   "source": [
    "### Pre-processed Energy Bands"
   ]
  },
  {
   "cell_type": "markdown",
   "id": "3891278b",
   "metadata": {},
   "source": [
    "This property will contain the upper and lower energy bounds available for pre-processed data products for a particular mission (if their online dataset supplies energy-bound data products) - these energy bounds are provided on an instrument level (as some missions provide different energy-bound products for different instruments). The left hand column indicates the lower energy bound, and the right hand column the upper energy bound. \n",
    "\n",
    "An energy bound being present here does not guarantee that all products supplied by the mission online dataset are available in that bound - e.g. some missions provide bound images and a single, general, exposure map."
   ]
  },
  {
   "cell_type": "code",
   "execution_count": null,
   "id": "41ff2bc5",
   "metadata": {},
   "outputs": [],
   "source": [
    "rp.preprocessed_energy_bands"
   ]
  },
  {
   "cell_type": "markdown",
   "id": "ba5d7df3",
   "metadata": {},
   "source": [
    "If the mission in question cannot provide pre-processed data products that are energy bound, then an error will be raised:"
   ]
  },
  {
   "cell_type": "code",
   "execution_count": null,
   "id": "6fd7abe5",
   "metadata": {},
   "outputs": [],
   "source": [
    "inte.preprocessed_energy_bands"
   ]
  },
  {
   "cell_type": "markdown",
   "id": "d09594cd",
   "metadata": {},
   "source": [
    "### Observation Information"
   ]
  },
  {
   "cell_type": "markdown",
   "id": "cc18fe8c",
   "metadata": {},
   "source": [
    "One of the most important properties of a DAXA mission class - this returns a dataframe of all the observations that are associated with a mission. This can include observations that are not yet publicly available (i.e. they are still in a proprietary period), but will never include observations that are planned but haven't been taken yet. \n",
    "\n",
    "In most cases this data is dynamically updated when a mission is declared (i.e. the table is pulled down from a mission server) - this is not the case for eROSITACalPV and eRASS1DE. **Please also note that the Swift and INTEGRALPointed missions have very large `all_obs_info` tables due to the way their data/observations are organised.**\n",
    "\n",
    "Some information will be constant across telescopes, and some will be mission specific. We present truncated versions of `all_obs_info` for every DAXA mission as of the current date:"
   ]
  },
  {
   "cell_type": "code",
   "execution_count": null,
   "id": "7552e901",
   "metadata": {},
   "outputs": [],
   "source": [
    "date.today().strftime('%d-%B-%Y')"
   ]
  },
  {
   "cell_type": "code",
   "execution_count": null,
   "id": "3099460c",
   "metadata": {},
   "outputs": [],
   "source": [
    "xm.all_obs_info"
   ]
  },
  {
   "cell_type": "code",
   "execution_count": null,
   "id": "c92c0a35",
   "metadata": {},
   "outputs": [],
   "source": [
    "ch.all_obs_info"
   ]
  },
  {
   "cell_type": "code",
   "execution_count": null,
   "id": "cbb95211",
   "metadata": {},
   "outputs": [],
   "source": [
    "ea.all_obs_info"
   ]
  },
  {
   "cell_type": "code",
   "execution_count": null,
   "id": "b1ae1d09",
   "metadata": {},
   "outputs": [],
   "source": [
    "ecpv.all_obs_info"
   ]
  },
  {
   "cell_type": "code",
   "execution_count": null,
   "id": "24ca3a30",
   "metadata": {},
   "outputs": [],
   "source": [
    "nu.all_obs_info"
   ]
  },
  {
   "cell_type": "code",
   "execution_count": null,
   "id": "3edffeee",
   "metadata": {},
   "outputs": [],
   "source": [
    "sw.all_obs_info"
   ]
  },
  {
   "cell_type": "code",
   "execution_count": null,
   "id": "81650437",
   "metadata": {},
   "outputs": [],
   "source": [
    "ra.all_obs_info"
   ]
  },
  {
   "cell_type": "code",
   "execution_count": null,
   "id": "47256b6e",
   "metadata": {},
   "outputs": [],
   "source": [
    "rp.all_obs_info"
   ]
  },
  {
   "cell_type": "code",
   "execution_count": null,
   "id": "43b9d09d",
   "metadata": {},
   "outputs": [],
   "source": [
    "su.all_obs_info"
   ]
  },
  {
   "cell_type": "code",
   "execution_count": null,
   "id": "f23283d1",
   "metadata": {},
   "outputs": [],
   "source": [
    "asca.all_obs_info"
   ]
  },
  {
   "cell_type": "code",
   "execution_count": null,
   "id": "2e4b8db1",
   "metadata": {},
   "outputs": [],
   "source": [
    "inte.all_obs_info"
   ]
  },
  {
   "cell_type": "markdown",
   "id": "a0e9870a",
   "metadata": {},
   "source": [
    "### Filter Array"
   ]
  },
  {
   "cell_type": "markdown",
   "id": "7815612c",
   "metadata": {},
   "source": [
    "This is unlikely to ever be accessed directly by the user, but is what defines the observations that a mission currently deems to be accepted/selected. It is a boolean numpy array with a length equal to the number of observations in the all_obs_info dataframe, a `True` value means the observation is accepted and a `False` value means it is excluded; all observations start off as accepted.\n",
    "\n",
    "Various filtering methods can be used to adjust the filter array and set the observations which are to be downloaded/included in a DAXA archive, depending on your particular sample and science case. \n",
    "\n",
    "It is also possible to manually set this filter array, as is demonstrated below:"
   ]
  },
  {
   "cell_type": "code",
   "execution_count": null,
   "id": "a7a3b494",
   "metadata": {},
   "outputs": [],
   "source": [
    "# The filter array defaults to all True, so all observations are accepted\n",
    "xm.filter_array"
   ]
  },
  {
   "cell_type": "code",
   "execution_count": null,
   "id": "7eb783f5",
   "metadata": {},
   "outputs": [],
   "source": [
    "# Demonstrating manually setting a filter array - it must be boolean and be the same length as the\n",
    "#  'all_obs_info' table, otherewise it will not be accepted\n",
    "demo_filt_arr = np.full(len(xm.all_obs_info), True)\n",
    "demo_filt_arr[0] = False\n",
    "xm.filter_array = demo_filt_arr\n",
    "xm.filter_array"
   ]
  },
  {
   "cell_type": "markdown",
   "id": "dba8d57c",
   "metadata": {},
   "source": [
    "## Selecting relevant observations"
   ]
  },
  {
   "cell_type": "markdown",
   "id": "77b245b6",
   "metadata": {},
   "source": [
    "Few users will wish to download, process, and maintain ___complete___ observation archives, preferring to just locate data that may be relevant to the sources that they are studying. This can be achieved with the use of several filtering methods which are built into all DAXA missions.\n",
    "\n",
    "Here we introduce the different filtering methods that are currently implemented for DAXA missions, but we do not provide detailed demonstrations of their use; that is [left to specific case studies](../../tutorials.casestudies.html) designed to show scientists with different needs how DAXA can be used in ways that are most relevant to them."
   ]
  },
  {
   "cell_type": "markdown",
   "id": "bd2243d6",
   "metadata": {},
   "source": [
    "### Filtering on ObsID"
   ]
  },
  {
   "cell_type": "markdown",
   "id": "1d9fb360",
   "metadata": {},
   "source": [
    "The most basic filtering method available can be used when you already know which observation(s) you are interested in - if you have the ObsID(s) you can just pass them to the `filter_on_obs_ids` method, and select only that data:"
   ]
  },
  {
   "cell_type": "code",
   "execution_count": null,
   "id": "db1f04f5",
   "metadata": {},
   "outputs": [],
   "source": [
    "help(xm.filter_on_obs_ids)"
   ]
  },
  {
   "cell_type": "markdown",
   "id": "fe57b124",
   "metadata": {},
   "source": [
    "### Filtering on position"
   ]
  },
  {
   "cell_type": "markdown",
   "id": "7cc440a9",
   "metadata": {},
   "source": [
    "Arguably the most useful type of filtering supported by DAXA missions, the `filter_on_positions` method allows us to search for observations that are relevant to specific positions on the sky (generally these will represent particular objects). A search can be performed either for a single position, or for a whole sample.\n",
    "\n",
    "The `search_distance` argument controls how close the central coordinate of an observation must be to a search position for that observation to be accepted. The default search positions are defined by the field-of-view of the telescope (if a mission has multiple instruments with different field-of-views then each instrument will be searched with the correct field-of-view). The user may also specify their own search distance value (or values), and it is also possible to specify a different search distance for every position.\n",
    "\n",
    "The `return_pos_obs_info` argument controls whether a dataframe is returned that links passed positions to particular observations that are relevant to them - this dataframe would not include positions that are determined to have no relevant observations."
   ]
  },
  {
   "cell_type": "code",
   "execution_count": null,
   "id": "27cf162d",
   "metadata": {},
   "outputs": [],
   "source": [
    "help(xm.filter_on_positions)"
   ]
  },
  {
   "cell_type": "markdown",
   "id": "6bb0374b",
   "metadata": {},
   "source": [
    "### Filtering on name"
   ]
  },
  {
   "cell_type": "markdown",
   "id": "c1ad7495",
   "metadata": {},
   "source": [
    "If you are interested in data relevant to named objects, you can pass the name(s) to the `filter_on_name` method. It will use a lookup service (specifically Sesame), to locate coordinates for the object(s), and then pass that to the `filter_on_positions` method. \n",
    "\n",
    "Bear in mind that you are reliant on the lookup service having accurate central coordinates for the named object, so it could be worth checking with your own coordinates and using `filter_on_positions` directly if you can't find any observations!"
   ]
  },
  {
   "cell_type": "code",
   "execution_count": null,
   "id": "34659b01",
   "metadata": {},
   "outputs": [],
   "source": [
    "help(xm.filter_on_name)"
   ]
  },
  {
   "cell_type": "markdown",
   "id": "a65868bc",
   "metadata": {},
   "source": [
    "### Filtering on target type"
   ]
  },
  {
   "cell_type": "markdown",
   "id": "b2a0c56c",
   "metadata": {},
   "source": [
    "It is possible to filter observations based on the type of object that was the original target of the observation. **Warning: this should be used with significant caution, as our object taxonomy may not be granular enough to represent all different types of astronomical objects, and conversions between the different target types used by different missions and our target types is imperfect!**\n",
    "\n",
    "Here we display the DAXA source type taxonomy, the short form codes on the left are what should be passed to the `filter_on_target_type` method - the user may pass either a single target type, or a list of them:"
   ]
  },
  {
   "cell_type": "code",
   "execution_count": null,
   "id": "4defee9e",
   "metadata": {},
   "outputs": [],
   "source": [
    "xm.show_allowed_target_types()"
   ]
  },
  {
   "cell_type": "code",
   "execution_count": null,
   "id": "dc81d777",
   "metadata": {},
   "outputs": [],
   "source": [
    "help(xm.filter_on_target_type)"
   ]
  },
  {
   "cell_type": "markdown",
   "id": "70eb1e03",
   "metadata": {},
   "source": [
    "### Filtering on time"
   ]
  },
  {
   "cell_type": "markdown",
   "id": "dae2f675",
   "metadata": {},
   "source": [
    "Observations can be filtered on ___when___ they were taken, with the user specifying a time frame (defined by a start and end date-time) from which they wish to select observations. By default any observation that coincides with that time window (either starting in it, ending in it, or starting and ending outside but being taken during it) will be selected - it is also possible to require that an observation must have taken place entirely within the time window.\n",
    "\n",
    "___Warning: Observations of survey missions like eRASS1DE and ROSATAllSky may repeatedly visit a particular location, and all that data may be incorporated as one observation, meaning that there may not constant coverage in such an observation___"
   ]
  },
  {
   "cell_type": "code",
   "execution_count": null,
   "id": "120cf282",
   "metadata": {},
   "outputs": [],
   "source": [
    "help(xm.filter_on_time)"
   ]
  },
  {
   "cell_type": "markdown",
   "id": "6523aa28",
   "metadata": {},
   "source": [
    "### Filtering on time & position"
   ]
  },
  {
   "cell_type": "markdown",
   "id": "a2a04005",
   "metadata": {},
   "source": [
    "A method of filtering that combines positional and temporal filtering, so that observations of a particular position, within a particular time window, can be located. The user ___does not___ have to filter for one position-time combination at a time - they may pass a set of positions, with a corresponding set of time windows, and find all the observations that fulfill those requirements.\n",
    "\n",
    "The `filter_on_positions_at_time` method supports the same arguments passed to `filter_on_positions` and `filter_on_time`, which set search distances from the passed coordinate (`search_distance`), whether a dataframe linking particular input coordinates to particular selected observations (`return_obs_info`), and whether only observations that start and end within the specified time period should be considered (`over_run`). "
   ]
  },
  {
   "cell_type": "code",
   "execution_count": null,
   "id": "656fdf7b",
   "metadata": {},
   "outputs": [],
   "source": [
    "help(xm.filter_on_positions_at_time)"
   ]
  },
  {
   "cell_type": "markdown",
   "id": "1dbe4908",
   "metadata": {},
   "source": [
    "## Downloading data"
   ]
  },
  {
   "cell_type": "markdown",
   "id": "f78eb2f0",
   "metadata": {},
   "source": [
    "Once the user has decided upon a set of observations, for a particular mission, that are relevant to their research - the next step is often to download them. This section specifies what can be downloaded, and how to download it."
   ]
  },
  {
   "cell_type": "markdown",
   "id": "de9d33c1",
   "metadata": {},
   "source": [
    "### What can be downloaded?"
   ]
  },
  {
   "cell_type": "markdown",
   "id": "57f37bed",
   "metadata": {},
   "source": [
    "The exact data that can be downloaded depends on what a particular mission has made available on their online archive - Event lists are available for all missions bar INTEGRAL, and most missions support the acquisition of pre-generated images, but not all (INTEGRAL and eROSITA CalPV) for instance).\n",
    "\n",
    "We make a distinction between 'raw' and 'pre-processed' data, which is necessarily fuzzy due to the disparate natures of the various data archives we have to deal with. Broadly speaking '**raw**' data means either absolutely raw files that need to be processed into initial event lists (the case with XMMPointed) or just event lists (uncleaned and pre-cleaned); '**pre-processed**' data includes pre-processed data products such as images, exposure maps, and background maps.\n",
    "\n",
    "**This means that the user can either set up an archive using the pre-processed data, or re-process data using DAXA interfaces to the various telescope backend software packages.**\n",
    "\n",
    "Pre-processed products are downloaded by default (in addition to the raw data), but when setting up an Archive you can choose between using pre-processed data or re-processing the raw data; if you do not wish to acquire pre-processed data products, you can pass `download_products=False` to the download method (see below). \n",
    "\n",
    "**Event lists are considered raw data (i.e. not pre-processed) for most missions, and will always be downloaded**"
   ]
  },
  {
   "cell_type": "markdown",
   "id": "b22a543a",
   "metadata": {},
   "source": [
    "#### XMM-Newton"
   ]
  },
  {
   "cell_type": "markdown",
   "id": "53a95a4c",
   "metadata": {},
   "source": [
    "_Currently_ we only support the acquisition of raw data."
   ]
  },
  {
   "cell_type": "markdown",
   "id": "ab73a50a",
   "metadata": {},
   "source": [
    "#### Chandra"
   ]
  },
  {
   "cell_type": "markdown",
   "id": "015d5f63",
   "metadata": {},
   "source": [
    "The following data products can be downloaded:\n",
    "\n",
    "* Full FoV image (if an Archive is constructed including pre-processed Chandra data, this is what is included).\n",
    "* High-resolution central image."
   ]
  },
  {
   "cell_type": "markdown",
   "id": "413e3aeb",
   "metadata": {},
   "source": [
    "#### eROSITA All-Sky DR1 (German Half)"
   ]
  },
  {
   "cell_type": "markdown",
   "id": "de8521d0",
   "metadata": {},
   "source": [
    "The following data products can be downloaded:\n",
    "\n",
    "* Images\n",
    "* Exposure maps\n",
    "* Background maps"
   ]
  },
  {
   "cell_type": "markdown",
   "id": "ae96967f",
   "metadata": {},
   "source": [
    "#### eROSITA Calibration and Performance Verification"
   ]
  },
  {
   "cell_type": "markdown",
   "id": "ea378559",
   "metadata": {},
   "source": [
    "No pre-processed data products are available, only event lists."
   ]
  },
  {
   "cell_type": "markdown",
   "id": "f7552651",
   "metadata": {},
   "source": [
    "#### NuSTAR-Pointed"
   ]
  },
  {
   "cell_type": "markdown",
   "id": "4d397a07",
   "metadata": {},
   "source": [
    "The following data products can be downloaded:\n",
    "\n",
    "* Images"
   ]
  },
  {
   "cell_type": "markdown",
   "id": "377115d2",
   "metadata": {},
   "source": [
    "#### Swift"
   ]
  },
  {
   "cell_type": "markdown",
   "id": "60846399",
   "metadata": {},
   "source": [
    "The following data products can be downloaded (_no products are available for BAT, only raw data_):\n",
    "\n",
    "* Images (XRT and UVOT)\n",
    "* Exposure maps (XRT and UVOT)"
   ]
  },
  {
   "cell_type": "markdown",
   "id": "97e4dc80",
   "metadata": {},
   "source": [
    "#### ROSAT All-Sky Survey"
   ]
  },
  {
   "cell_type": "markdown",
   "id": "7d575892",
   "metadata": {},
   "source": [
    "The following data products can be downloaded:\n",
    "\n",
    "* Images\n",
    "* Exposure maps"
   ]
  },
  {
   "cell_type": "markdown",
   "id": "4772e63c",
   "metadata": {},
   "source": [
    "#### ROSAT-Pointed"
   ]
  },
  {
   "cell_type": "markdown",
   "id": "0ffe5c8b",
   "metadata": {},
   "source": [
    "The following data products can be downloaded:\n",
    "\n",
    "* Images\n",
    "* Exposure maps (only PSPC, no HRI)"
   ]
  },
  {
   "cell_type": "markdown",
   "id": "b09bf500",
   "metadata": {},
   "source": [
    "#### Suzaku"
   ]
  },
  {
   "cell_type": "markdown",
   "id": "7ebbfba7",
   "metadata": {},
   "source": [
    "The following data products can be downloaded:\n",
    "\n",
    "* Images"
   ]
  },
  {
   "cell_type": "markdown",
   "id": "85104b97",
   "metadata": {},
   "source": [
    "#### ASCA"
   ]
  },
  {
   "cell_type": "markdown",
   "id": "0e591e07",
   "metadata": {},
   "source": [
    "The following data products can be downloaded:\n",
    "\n",
    "* Images (SIS0 + SIS1, and GIS2 + GIS3)\n",
    "* Exposure maps\n",
    "* Lightcurves (not included in Archive constructed from pre-processed data)\n",
    "* Spectra (not included in Archive constructed from pre-processed data)"
   ]
  },
  {
   "cell_type": "markdown",
   "id": "7ea63558",
   "metadata": {},
   "source": [
    "#### INTEGRAL-Pointed"
   ]
  },
  {
   "cell_type": "markdown",
   "id": "6447f7d7",
   "metadata": {},
   "source": [
    "No pre-processed data (nor even event lists) are available to download for INTEGRAL, only raw data and calibration files."
   ]
  },
  {
   "cell_type": "markdown",
   "id": "93bb95e8",
   "metadata": {},
   "source": [
    "### How can it be downloaded?"
   ]
  },
  {
   "cell_type": "markdown",
   "id": "c65a1967",
   "metadata": {},
   "source": [
    "The selected data can be downloaded using the `download` method that is built into each mission class.\n",
    "\n",
    "If multiple observations have been selected, then downloads can be multi-threaded; this can sometimes offer a speed benefit, though only if the archive and user internet connections are not saturated by the download. The number of cores used can be set via the `num_cores` argument; by defualt this is set to the NUM_CORES DAXA constant, which can either be set by the user in the DAXA configuration file/by setting the value of daxa.NUM_CORES, or will be 90% of the cores of the system.\n",
    "\n",
    "**Note that it is not necessary to manually activate the download method if you will be creating a DAXA Archive from the filtered mission objects, as that will be done on archive initialisation - [see the Archive tutorial for more information.](archives.html)**\n",
    "\n",
    "Here we demonstrate a simple XMM download, as well as a Chandra download that includes pre-generated images (standard Chandra reprocessing scripts can be used on this downloaded data):"
   ]
  },
  {
   "cell_type": "code",
   "execution_count": 5,
   "id": "27f26c00",
   "metadata": {},
   "outputs": [
    {
     "name": "stderr",
     "output_type": "stream",
     "text": [
      "/var/folders/td/gw9qkx6d3szb1nkt_cfvcbzm000vzl/T/ipykernel_19955/612227930.py:2: UserWarning: The raw data for this mission have already been downloaded.\n",
      "  xm.download(num_cores=1)\n",
      "/var/folders/td/gw9qkx6d3szb1nkt_cfvcbzm000vzl/T/ipykernel_19955/612227930.py:5: UserWarning: The raw data for this mission have already been downloaded.\n",
      "  ch.download(num_cores=1, download_products=True)\n"
     ]
    }
   ],
   "source": [
    "xm.filter_on_obs_ids('0201903501')\n",
    "xm.download(num_cores=1)\n",
    "\n",
    "ch.filter_on_obs_ids('3205')\n",
    "ch.download(num_cores=1, download_products=True)"
   ]
  },
  {
   "cell_type": "markdown",
   "id": "55fcf080",
   "metadata": {},
   "source": [
    "## Getting paths to downloaded mission data products"
   ]
  },
  {
   "cell_type": "markdown",
   "id": "900b8bd4",
   "metadata": {},
   "source": [
    "If pre-processed data have been downloaded, it is possible to use methods built into the mission class to retrieve the paths to various data products. **If you intend on using an XGA archive, using these methods should not be necessary** as the data will be moved to the Archive processed data storage structure, but it may still be useful if you just wish to use DAXA to download data.\n",
    "\n",
    "There are four different get methods:\n",
    "\n",
    "* `get_evt_list_path` - to retrieve event lists.\n",
    "* `get_image_path` - to retrieve images.\n",
    "* `get_expmap_path` - to retrieve exposure maps.\n",
    "* `get_background_path` - to retrieve background maps.\n",
    "\n",
    "They are very easy to use - only the ObsID, instrument (in most cases, not necessary if the mission has only one instrument per ObsID), and lower/upper energy bound (for images, exposure maps, and background maps - though if the products only have one energy band it will be completed automatically) need to be provided. They also provide helpful, detailed, error messages if what is requested isn't possible.\n",
    "\n",
    "Here we retrive the path to the event list (note that we do not need to pass the instrument name, as Chandra has only one per ObsID):"
   ]
  },
  {
   "cell_type": "code",
   "execution_count": 6,
   "id": "e80b6537",
   "metadata": {},
   "outputs": [
    {
     "data": {
      "text/plain": [
       "'/Users/dt237/code/DAXA/docs/source/notebooks/tutorials/daxa_output/chandra_raw/3205/primary/acisf03205N006_evt2.fits'"
      ]
     },
     "execution_count": 6,
     "metadata": {},
     "output_type": "execute_result"
    }
   ],
   "source": [
    "ch.get_evt_list_path('3205')"
   ]
  },
  {
   "cell_type": "markdown",
   "id": "72fd56d5",
   "metadata": {},
   "source": [
    "We can also retrieve the path to the full-FoV image (again we don't need to pass instrument in this specific instance, nor do we need to pass energy bounds because Chandra only supplies one): "
   ]
  },
  {
   "cell_type": "code",
   "execution_count": 7,
   "id": "b5d1d541",
   "metadata": {},
   "outputs": [
    {
     "data": {
      "text/plain": [
       "'/Users/dt237/code/DAXA/docs/source/notebooks/tutorials/daxa_output/chandra_raw/3205/primary/acisf03205N006_full_img2.fits'"
      ]
     },
     "execution_count": 7,
     "metadata": {},
     "output_type": "execute_result"
    }
   ],
   "source": [
    "ch.get_image_path('3205')"
   ]
  },
  {
   "cell_type": "markdown",
   "id": "c85e8c8f",
   "metadata": {},
   "source": [
    "A more typical way of using this function would be this:"
   ]
  },
  {
   "cell_type": "code",
   "execution_count": 11,
   "id": "7b289bb9",
   "metadata": {},
   "outputs": [
    {
     "data": {
      "text/plain": [
       "'/Users/dt237/code/DAXA/docs/source/notebooks/tutorials/daxa_output/chandra_raw/3205/primary/acisf03205N006_full_img2.fits'"
      ]
     },
     "execution_count": 11,
     "metadata": {},
     "output_type": "execute_result"
    }
   ],
   "source": [
    "ch.get_image_path('3205', Quantity(0.5, 'keV'), Quantity(7, 'keV'), 'ACIS-I')"
   ]
  },
  {
   "cell_type": "markdown",
   "id": "09daa04a",
   "metadata": {},
   "source": [
    "The get methods for exposure and background map paths operate identically to the image path method, though will show an error for Chandra:"
   ]
  },
  {
   "cell_type": "code",
   "execution_count": 12,
   "id": "ca4daf37",
   "metadata": {},
   "outputs": [
    {
     "ename": "PreProcessedNotSupportedError",
     "evalue": "This mission (Chandra) does not support the download of pre-processed exposure maps, so a path cannot be provided. ",
     "output_type": "error",
     "traceback": [
      "\u001b[0;31m---------------------------------------------------------------------------\u001b[0m",
      "\u001b[0;31mPreProcessedNotSupportedError\u001b[0m             Traceback (most recent call last)",
      "Cell \u001b[0;32mIn [12], line 1\u001b[0m\n\u001b[0;32m----> 1\u001b[0m \u001b[43mch\u001b[49m\u001b[38;5;241;43m.\u001b[39;49m\u001b[43mget_expmap_path\u001b[49m\u001b[43m(\u001b[49m\u001b[38;5;124;43m'\u001b[39;49m\u001b[38;5;124;43m3205\u001b[39;49m\u001b[38;5;124;43m'\u001b[39;49m\u001b[43m,\u001b[49m\u001b[43m \u001b[49m\u001b[43mQuantity\u001b[49m\u001b[43m(\u001b[49m\u001b[38;5;241;43m0.5\u001b[39;49m\u001b[43m,\u001b[49m\u001b[43m \u001b[49m\u001b[38;5;124;43m'\u001b[39;49m\u001b[38;5;124;43mkeV\u001b[39;49m\u001b[38;5;124;43m'\u001b[39;49m\u001b[43m)\u001b[49m\u001b[43m,\u001b[49m\u001b[43m \u001b[49m\u001b[43mQuantity\u001b[49m\u001b[43m(\u001b[49m\u001b[38;5;241;43m7\u001b[39;49m\u001b[43m,\u001b[49m\u001b[43m \u001b[49m\u001b[38;5;124;43m'\u001b[39;49m\u001b[38;5;124;43mkeV\u001b[39;49m\u001b[38;5;124;43m'\u001b[39;49m\u001b[43m)\u001b[49m\u001b[43m,\u001b[49m\u001b[43m \u001b[49m\u001b[38;5;124;43m'\u001b[39;49m\u001b[38;5;124;43mACIS-I\u001b[39;49m\u001b[38;5;124;43m'\u001b[39;49m\u001b[43m)\u001b[49m\n",
      "File \u001b[0;32m~/code/DAXA/daxa/mission/base.py:2034\u001b[0m, in \u001b[0;36mBaseMission.get_expmap_path\u001b[0;34m(self, obs_id, lo_en, hi_en, inst)\u001b[0m\n\u001b[1;32m   2022\u001b[0m \u001b[38;5;124;03m\"\"\"\u001b[39;00m\n\u001b[1;32m   2023\u001b[0m \u001b[38;5;124;03mA get method that provides the path to a downloaded pre-generated exposure map for the current mission (if\u001b[39;00m\n\u001b[1;32m   2024\u001b[0m \u001b[38;5;124;03mavailable). This method will not work if pre-processed data have not been downloaded.\u001b[39;00m\n\u001b[0;32m   (...)\u001b[0m\n\u001b[1;32m   2031\u001b[0m \u001b[38;5;124;03m:rtype: str\u001b[39;00m\n\u001b[1;32m   2032\u001b[0m \u001b[38;5;124;03m\"\"\"\u001b[39;00m\n\u001b[1;32m   2033\u001b[0m \u001b[38;5;28;01mif\u001b[39;00m \u001b[38;5;28mself\u001b[39m\u001b[38;5;241m.\u001b[39m_template_exp_name \u001b[38;5;129;01mis\u001b[39;00m \u001b[38;5;28;01mNone\u001b[39;00m:\n\u001b[0;32m-> 2034\u001b[0m     \u001b[38;5;28;01mraise\u001b[39;00m PreProcessedNotSupportedError(\u001b[38;5;124m\"\u001b[39m\u001b[38;5;124mThis mission (\u001b[39m\u001b[38;5;132;01m{m}\u001b[39;00m\u001b[38;5;124m) does not support the download of pre-processed \u001b[39m\u001b[38;5;124m\"\u001b[39m\n\u001b[1;32m   2035\u001b[0m                                         \u001b[38;5;124m\"\u001b[39m\u001b[38;5;124mexposure maps, so a path cannot be \u001b[39m\u001b[38;5;124m\"\u001b[39m\n\u001b[1;32m   2036\u001b[0m                                         \u001b[38;5;124m\"\u001b[39m\u001b[38;5;124mprovided.\u001b[39m\u001b[38;5;124m\"\u001b[39m\u001b[38;5;241m.\u001b[39mformat(m\u001b[38;5;241m=\u001b[39m\u001b[38;5;28mself\u001b[39m\u001b[38;5;241m.\u001b[39mpretty_name))\n\u001b[1;32m   2038\u001b[0m \u001b[38;5;28;01mif\u001b[39;00m lo_en \u001b[38;5;129;01mis\u001b[39;00m \u001b[38;5;129;01mnot\u001b[39;00m \u001b[38;5;28;01mNone\u001b[39;00m:\n\u001b[1;32m   2039\u001b[0m     \u001b[38;5;66;03m# We make sure that the provided energy bounds are in keV\u001b[39;00m\n\u001b[1;32m   2040\u001b[0m     lo_en \u001b[38;5;241m=\u001b[39m lo_en\u001b[38;5;241m.\u001b[39mto(\u001b[38;5;124m'\u001b[39m\u001b[38;5;124mkeV\u001b[39m\u001b[38;5;124m'\u001b[39m)\n",
      "\u001b[0;31mPreProcessedNotSupportedError\u001b[0m: This mission (Chandra) does not support the download of pre-processed exposure maps, so a path cannot be provided. "
     ]
    }
   ],
   "source": [
    "ch.get_expmap_path('3205', Quantity(0.5, 'keV'), Quantity(7, 'keV'), 'ACIS-I')"
   ]
  }
 ],
 "metadata": {
  "kernelspec": {
   "display_name": "Python 3 (ipykernel)",
   "language": "python",
   "name": "python3"
  },
  "language_info": {
   "codemirror_mode": {
    "name": "ipython",
    "version": 3
   },
   "file_extension": ".py",
   "mimetype": "text/x-python",
   "name": "python",
   "nbconvert_exporter": "python",
   "pygments_lexer": "ipython3",
   "version": "3.9.0"
  }
 },
 "nbformat": 4,
 "nbformat_minor": 5
}
