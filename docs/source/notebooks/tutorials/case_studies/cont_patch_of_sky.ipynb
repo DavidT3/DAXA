{
 "cells": [
  {
   "cell_type": "markdown",
   "id": "a13b8653",
   "metadata": {},
   "source": [
    "# Observations within the XXL region"
   ]
  },
  {
   "cell_type": "markdown",
   "id": "2453f437",
   "metadata": {},
   "source": []
  },
  {
   "cell_type": "markdown",
   "id": "5e2a28b1",
   "metadata": {},
   "source": [
    "## Import Statements"
   ]
  },
  {
   "cell_type": "code",
   "execution_count": null,
   "id": "aa9f16e8",
   "metadata": {},
   "outputs": [],
   "source": [
    "import pandas as pd"
   ]
  },
  {
   "cell_type": "markdown",
   "id": "fa824356",
   "metadata": {},
   "source": [
    "## Other Tutorials"
   ]
  },
  {
   "cell_type": "markdown",
   "id": "cc8b77fc",
   "metadata": {},
   "source": [
    "These case studies are meant to be highly specific examples of how you might acquire data for a particular science case, they do not provide general instruction on how to use DAXA missions or archives. We instead direct you to:\n",
    "\n",
    "* [Using DAXA missions](../missions.html) - Here we explain what DAXA mission classes are and how to use them to select only the data you need.\n",
    "* [Creating a DAXA archive](../archives.html) - This explains how to create an archive, load an existing archive, and the various properties and features of DAXA archives.\n",
    "* [Processing telescope data](../tutorials.process.html) - The processing tutorials for different missions are presented here, though there may not yet be processing support for all missions.\n",
    "\n",
    "Reading through these should give you a good understanding of how DAXA can be used to acquire, organise, and process multi-mission X-ray datasets for your specific use case."
   ]
  },
  {
   "cell_type": "markdown",
   "id": "d39a0cd0",
   "metadata": {},
   "source": [
    "## Sample"
   ]
  },
  {
   "cell_type": "markdown",
   "id": "30377d82",
   "metadata": {},
   "source": []
  },
  {
   "cell_type": "code",
   "execution_count": null,
   "id": "78c35ab9",
   "metadata": {},
   "outputs": [],
   "source": [
    "# samp"
   ]
  },
  {
   "cell_type": "markdown",
   "id": "cda7ed3b",
   "metadata": {},
   "source": [
    "## Defining missions"
   ]
  },
  {
   "cell_type": "markdown",
   "id": "1db78091",
   "metadata": {},
   "source": []
  },
  {
   "cell_type": "code",
   "execution_count": null,
   "id": "032436b4",
   "metadata": {},
   "outputs": [],
   "source": []
  },
  {
   "cell_type": "markdown",
   "id": "c7dda794",
   "metadata": {},
   "source": [
    "## Searching for observations"
   ]
  },
  {
   "cell_type": "markdown",
   "id": "df78c594",
   "metadata": {},
   "source": []
  },
  {
   "cell_type": "code",
   "execution_count": null,
   "id": "2e622e5a",
   "metadata": {},
   "outputs": [],
   "source": []
  }
 ],
 "metadata": {
  "kernelspec": {
   "display_name": "Python 3 (ipykernel)",
   "language": "python",
   "name": "python3"
  },
  "language_info": {
   "codemirror_mode": {
    "name": "ipython",
    "version": 3
   },
   "file_extension": ".py",
   "mimetype": "text/x-python",
   "name": "python",
   "nbconvert_exporter": "python",
   "pygments_lexer": "ipython3",
   "version": "3.9.0"
  }
 },
 "nbformat": 4,
 "nbformat_minor": 5
}
