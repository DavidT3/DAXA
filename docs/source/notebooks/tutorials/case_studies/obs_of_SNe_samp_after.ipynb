{
 "cells": [
  {
   "cell_type": "markdown",
   "id": "1e662c64",
   "metadata": {},
   "source": [
    "# Finding X-ray observations for a sample of SNe within 30 days of eruption"
   ]
  },
  {
   "cell_type": "markdown",
   "id": "dcc90137",
   "metadata": {},
   "source": []
  },
  {
   "cell_type": "markdown",
   "id": "28697652",
   "metadata": {},
   "source": [
    "## Import Statements"
   ]
  },
  {
   "cell_type": "markdown",
   "id": "e0b9b71a",
   "metadata": {},
   "source": []
  },
  {
   "cell_type": "markdown",
   "id": "84943c76",
   "metadata": {},
   "source": [
    "## Other Tutorials"
   ]
  },
  {
   "cell_type": "markdown",
   "id": "8454ce75",
   "metadata": {},
   "source": [
    "These case studies are meant to be highly specific examples of how you might acquire data for a particular science case, they do not provide general instruction on how to use DAXA missions or archives. We instead direct you to:\n",
    "\n",
    "* [Using DAXA missions](missions.html) - Here we explain what DAXA mission classes are and how to use them to select only the data you need.\n",
    "* [Creating a DAXA archive](archives.html) - This explains how to create an archive, load an existing archive, and the various properties and features of DAXA archives.\n",
    "* [Processing telescope data](tutorials.process.html) - The processing tutorials for different missions are presented here, though there may not yet be processing support for all missions.\n"
   ]
  }
 ],
 "metadata": {
  "kernelspec": {
   "display_name": "Python 3 (ipykernel)",
   "language": "python",
   "name": "python3"
  },
  "language_info": {
   "codemirror_mode": {
    "name": "ipython",
    "version": 3
   },
   "file_extension": ".py",
   "mimetype": "text/x-python",
   "name": "python",
   "nbconvert_exporter": "python",
   "pygments_lexer": "ipython3",
   "version": "3.9.0"
  }
 },
 "nbformat": 4,
 "nbformat_minor": 5
}
