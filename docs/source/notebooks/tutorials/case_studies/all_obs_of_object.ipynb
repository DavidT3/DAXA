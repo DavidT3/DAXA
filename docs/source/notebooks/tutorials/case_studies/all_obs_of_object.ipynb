{
 "cells": [
  {
   "cell_type": "markdown",
   "id": "a13b8653",
   "metadata": {},
   "source": [
    "# Observations of Messier 51 from many telescope archives"
   ]
  },
  {
   "cell_type": "markdown",
   "id": "2453f437",
   "metadata": {},
   "source": [
    "This case study searches for X-ray observations of the Messier 51 galaxy, taken by a variety of X-ray telescopes. We chose this galaxy because it is active (and thus likely X-ray bright), and nearby - this makes it a priority target for many X-ray observatories. This process could equally be applied to any named object (or object at a specific set of coordinates)."
   ]
  },
  {
   "cell_type": "markdown",
   "id": "5e2a28b1",
   "metadata": {},
   "source": [
    "## Import Statements"
   ]
  },
  {
   "cell_type": "code",
   "execution_count": 1,
   "id": "aa9f16e8",
   "metadata": {},
   "outputs": [],
   "source": [
    "from warnings import warn\n",
    "\n",
    "from daxa.mission import XMMPointed, Chandra, ASCA, Suzaku, ROSATPointed, ROSATAllSky\n",
    "from daxa.archive import Archive\n",
    "from daxa.exceptions import NoObsAfterFilterError"
   ]
  },
  {
   "cell_type": "markdown",
   "id": "fa824356",
   "metadata": {},
   "source": [
    "## Other Tutorials"
   ]
  },
  {
   "cell_type": "markdown",
   "id": "cc8b77fc",
   "metadata": {},
   "source": [
    "These case studies are meant to be highly specific examples of how you might acquire data for a particular science case, they do not provide general instruction on how to use DAXA missions or archives. We instead direct you to:\n",
    "\n",
    "* [Using DAXA missions](../missions.html) - Here we explain what DAXA mission classes are and how to use them to select only the data you need.\n",
    "* [Creating a DAXA archive](../archives.html) - This explains how to create an archive, load an existing archive, and the various properties and features of DAXA archives.\n",
    "* [Processing telescope data](../../tutorials.process.html) - The processing tutorials for different missions are presented here, though there may not yet be processing support for all missions.\n",
    "\n",
    "Reading through these should give you a good understanding of how DAXA can be used to acquire, organise, and process multi-mission X-ray datasets for your specific use case."
   ]
  },
  {
   "cell_type": "markdown",
   "id": "cda7ed3b",
   "metadata": {},
   "source": [
    "## Defining missions"
   ]
  },
  {
   "cell_type": "markdown",
   "id": "1db78091",
   "metadata": {},
   "source": [
    "We create instances of the XMM, Chandra, ASCA, Suzaku, ROSAT Pointed, and ROSAT All-Sky missions in order to search their archives - other missions are supported by DAXA (and can be found in the missions tutorial), but these are a subset likely to have observations of M51:"
   ]
  },
  {
   "cell_type": "code",
   "execution_count": 2,
   "id": "032436b4",
   "metadata": {},
   "outputs": [
    {
     "name": "stderr",
     "output_type": "stream",
     "text": [
      "/Users/dt237/code/DAXA/daxa/mission/xmm.py:83: UserWarning: 140 of the 17692 observations located for this mission have been removed due to NaN RA or Dec values\n",
      "  self._fetch_obs_info()\n",
      "/Users/dt237/code/DAXA/daxa/mission/asca.py:91: UserWarning: 5 of the 3079 observations located for ASCA have been removed due to all instrument exposures being zero.\n",
      "  self._fetch_obs_info()\n",
      "/Users/dt237/code/DAXA/daxa/mission/suzaku.py:96: UserWarning: 14 of the 3055 observations located for Suzaku have been removed due to all instrument exposures being zero.\n",
      "  self._fetch_obs_info()\n"
     ]
    }
   ],
   "source": [
    "xm = XMMPointed()\n",
    "ch = Chandra()\n",
    "asc = ASCA()\n",
    "su = Suzaku()\n",
    "rp = ROSATPointed()\n",
    "ra = ROSATAllSky()"
   ]
  },
  {
   "cell_type": "markdown",
   "id": "c7dda794",
   "metadata": {},
   "source": [
    "## Searching for observations"
   ]
  },
  {
   "cell_type": "markdown",
   "id": "df78c594",
   "metadata": {},
   "source": [
    "In this instance we use the `filter_on_name` method to search for observations of M51 - this will use the Sesame name resolver to look-up the coordinates for the object. Alternatively, we could use the `filter_on_positions` method and supply the coordinate ourselves:"
   ]
  },
  {
   "cell_type": "code",
   "execution_count": 3,
   "id": "2e622e5a",
   "metadata": {},
   "outputs": [
    {
     "name": "stderr",
     "output_type": "stream",
     "text": [
      "/Users/dt237/code/DAXA/daxa/mission/base.py:1075: UserWarning: Chandra FoV are difficult to define, as they can be strongly dependant on observation mode; as such take these as very approximate.\n",
      "  fov = self.fov\n",
      "/Users/dt237/code/DAXA/daxa/mission/base.py:97: UserWarning: There are multiple chosen instruments SIS0, SIS1, GIS2, GIS3 for asca with different FoVs, but they observe simultaneously. As such the search distance has been set to the largest FoV of the chosen instruments.\n",
      "  any_ret = change_func(*args, **kwargs)\n"
     ]
    }
   ],
   "source": [
    "xm.filter_on_name(\"M51\")\n",
    "ch.filter_on_name(\"M51\")\n",
    "asc.filter_on_name(\"M51\")\n",
    "rp.filter_on_name(\"M51\")\n",
    "ra.filter_on_name(\"M51\")"
   ]
  },
  {
   "cell_type": "markdown",
   "id": "a67f3350",
   "metadata": {},
   "source": [
    "We have deliberately separated the Suzaku search, as we are aware that it will not find any matching data - as such we'll use this to highlight that the standard Python exception-catching statements can be used to stop a failure to find data derailing your script (for instance you might wish to iterate through a list of missions and have a try-except statement like this:"
   ]
  },
  {
   "cell_type": "code",
   "execution_count": 4,
   "id": "11491c6c",
   "metadata": {},
   "outputs": [
    {
     "name": "stderr",
     "output_type": "stream",
     "text": [
      "/opt/anaconda3/envs/daxa_dev/lib/python3.9/site-packages/IPython/core/interactiveshell.py:3433: UserWarning: The positional search has returned no Suzaku observations.\n",
      "  exec(code_obj, self.user_global_ns, self.user_ns)\n"
     ]
    }
   ],
   "source": [
    "try:\n",
    "    su.filter_on_name(\"M51\")\n",
    "except NoObsAfterFilterError as err:\n",
    "    warn(err.message, stacklevel=2)"
   ]
  },
  {
   "cell_type": "markdown",
   "id": "cf8164f8",
   "metadata": {},
   "source": [
    "## Example of observations identified from filtering"
   ]
  },
  {
   "cell_type": "markdown",
   "id": "05d61c8f",
   "metadata": {},
   "source": [
    "We can use the `filtered_obs_info` property to retrieve the information table describing the accepted observations:"
   ]
  },
  {
   "cell_type": "code",
   "execution_count": 5,
   "id": "c6b433fa",
   "metadata": {},
   "outputs": [
    {
     "data": {
      "text/html": [
       "<div>\n",
       "<style scoped>\n",
       "    .dataframe tbody tr th:only-of-type {\n",
       "        vertical-align: middle;\n",
       "    }\n",
       "\n",
       "    .dataframe tbody tr th {\n",
       "        vertical-align: top;\n",
       "    }\n",
       "\n",
       "    .dataframe thead th {\n",
       "        text-align: right;\n",
       "    }\n",
       "</style>\n",
       "<table border=\"1\" class=\"dataframe\">\n",
       "  <thead>\n",
       "    <tr style=\"text-align: right;\">\n",
       "      <th></th>\n",
       "      <th>ra</th>\n",
       "      <th>dec</th>\n",
       "      <th>ObsID</th>\n",
       "      <th>science_usable</th>\n",
       "      <th>start</th>\n",
       "      <th>end</th>\n",
       "      <th>duration</th>\n",
       "      <th>instrument</th>\n",
       "      <th>with_filter</th>\n",
       "      <th>target_category</th>\n",
       "      <th>target_name</th>\n",
       "      <th>proc_rev</th>\n",
       "      <th>fits_type</th>\n",
       "    </tr>\n",
       "  </thead>\n",
       "  <tbody>\n",
       "    <tr>\n",
       "      <th>368</th>\n",
       "      <td>202.47</td>\n",
       "      <td>47.2</td>\n",
       "      <td>RH600601N00</td>\n",
       "      <td>True</td>\n",
       "      <td>1994-06-18 13:11:33.000000</td>\n",
       "      <td>1994-06-24 08:04:24.000001</td>\n",
       "      <td>0 days 10:05:23</td>\n",
       "      <td>HRI</td>\n",
       "      <td>N</td>\n",
       "      <td>NGS</td>\n",
       "      <td>M 51</td>\n",
       "      <td>2</td>\n",
       "      <td>RDF 3_4</td>\n",
       "    </tr>\n",
       "    <tr>\n",
       "      <th>917</th>\n",
       "      <td>202.47</td>\n",
       "      <td>47.2</td>\n",
       "      <td>RP600158N00</td>\n",
       "      <td>True</td>\n",
       "      <td>1991-11-28 16:07:59.999998</td>\n",
       "      <td>1991-12-13 17:50:20.999999</td>\n",
       "      <td>0 days 06:39:16</td>\n",
       "      <td>PSPCB</td>\n",
       "      <td>N</td>\n",
       "      <td>NGS</td>\n",
       "      <td>N5194/N5195</td>\n",
       "      <td>2</td>\n",
       "      <td>RDF 3_4</td>\n",
       "    </tr>\n",
       "    <tr>\n",
       "      <th>2904</th>\n",
       "      <td>202.47</td>\n",
       "      <td>47.2</td>\n",
       "      <td>RH600062A03</td>\n",
       "      <td>True</td>\n",
       "      <td>1994-05-22 05:24:01.000002</td>\n",
       "      <td>1994-05-23 07:16:07.000000</td>\n",
       "      <td>0 days 02:36:32</td>\n",
       "      <td>HRI</td>\n",
       "      <td>N</td>\n",
       "      <td>NGS</td>\n",
       "      <td>M51</td>\n",
       "      <td>2</td>\n",
       "      <td>RDF 3_4</td>\n",
       "    </tr>\n",
       "    <tr>\n",
       "      <th>3096</th>\n",
       "      <td>202.47</td>\n",
       "      <td>47.2</td>\n",
       "      <td>RH600062A01</td>\n",
       "      <td>True</td>\n",
       "      <td>1992-05-22 23:44:46.000000</td>\n",
       "      <td>1992-06-05 21:50:42.999999</td>\n",
       "      <td>0 days 02:27:11</td>\n",
       "      <td>HRI</td>\n",
       "      <td>N</td>\n",
       "      <td>NGS</td>\n",
       "      <td>M51</td>\n",
       "      <td>2</td>\n",
       "      <td>RFITS V3.</td>\n",
       "    </tr>\n",
       "    <tr>\n",
       "      <th>3174</th>\n",
       "      <td>202.47</td>\n",
       "      <td>47.2</td>\n",
       "      <td>RH600062A00</td>\n",
       "      <td>True</td>\n",
       "      <td>1991-12-07 09:46:57.000003</td>\n",
       "      <td>1992-01-10 05:10:12.999996</td>\n",
       "      <td>0 days 02:22:21</td>\n",
       "      <td>HRI</td>\n",
       "      <td>N</td>\n",
       "      <td>NGS</td>\n",
       "      <td>M51</td>\n",
       "      <td>2</td>\n",
       "      <td>RFITS V3.</td>\n",
       "    </tr>\n",
       "    <tr>\n",
       "      <th>3303</th>\n",
       "      <td>202.47</td>\n",
       "      <td>47.2</td>\n",
       "      <td>RH601115N00</td>\n",
       "      <td>True</td>\n",
       "      <td>1997-12-26 23:37:19.000001</td>\n",
       "      <td>1997-12-30 07:46:24.000001</td>\n",
       "      <td>0 days 02:15:04</td>\n",
       "      <td>HRI</td>\n",
       "      <td>N</td>\n",
       "      <td>NGS</td>\n",
       "      <td></td>\n",
       "      <td>2</td>\n",
       "      <td>RDF 4_2</td>\n",
       "    </tr>\n",
       "  </tbody>\n",
       "</table>\n",
       "</div>"
      ],
      "text/plain": [
       "          ra   dec        ObsID  science_usable                      start  \\\n",
       "368   202.47  47.2  RH600601N00            True 1994-06-18 13:11:33.000000   \n",
       "917   202.47  47.2  RP600158N00            True 1991-11-28 16:07:59.999998   \n",
       "2904  202.47  47.2  RH600062A03            True 1994-05-22 05:24:01.000002   \n",
       "3096  202.47  47.2  RH600062A01            True 1992-05-22 23:44:46.000000   \n",
       "3174  202.47  47.2  RH600062A00            True 1991-12-07 09:46:57.000003   \n",
       "3303  202.47  47.2  RH601115N00            True 1997-12-26 23:37:19.000001   \n",
       "\n",
       "                            end        duration instrument with_filter  \\\n",
       "368  1994-06-24 08:04:24.000001 0 days 10:05:23        HRI           N   \n",
       "917  1991-12-13 17:50:20.999999 0 days 06:39:16      PSPCB           N   \n",
       "2904 1994-05-23 07:16:07.000000 0 days 02:36:32        HRI           N   \n",
       "3096 1992-06-05 21:50:42.999999 0 days 02:27:11        HRI           N   \n",
       "3174 1992-01-10 05:10:12.999996 0 days 02:22:21        HRI           N   \n",
       "3303 1997-12-30 07:46:24.000001 0 days 02:15:04        HRI           N   \n",
       "\n",
       "     target_category  target_name  proc_rev  fits_type  \n",
       "368              NGS         M 51         2    RDF 3_4  \n",
       "917              NGS  N5194/N5195         2    RDF 3_4  \n",
       "2904             NGS          M51         2    RDF 3_4  \n",
       "3096             NGS          M51         2  RFITS V3.  \n",
       "3174             NGS          M51         2  RFITS V3.  \n",
       "3303             NGS                      2    RDF 4_2  "
      ]
     },
     "execution_count": 5,
     "metadata": {},
     "output_type": "execute_result"
    }
   ],
   "source": [
    "rp.filtered_obs_info"
   ]
  },
  {
   "cell_type": "markdown",
   "id": "24d0309b",
   "metadata": {},
   "source": [
    "## Defining an Archive"
   ]
  },
  {
   "cell_type": "markdown",
   "id": "fd03b59a",
   "metadata": {},
   "source": [
    "The filtered missions can then be used to define an archive containing the selected data:"
   ]
  },
  {
   "cell_type": "code",
   "execution_count": null,
   "id": "8e0b9e51",
   "metadata": {},
   "outputs": [
    {
     "name": "stderr",
     "output_type": "stream",
     "text": [
      "Downloading XMM-Newton Pointed data:  75%|███████████████████████████         | 12/16 [07:50<03:18, 49.72s/it]"
     ]
    }
   ],
   "source": [
    "arch = Archive('M51', [xm, ch, asc, rp, ra])\n",
    "arch.info()"
   ]
  }
 ],
 "metadata": {
  "kernelspec": {
   "display_name": "Python 3 (ipykernel)",
   "language": "python",
   "name": "python3"
  },
  "language_info": {
   "codemirror_mode": {
    "name": "ipython",
    "version": 3
   },
   "file_extension": ".py",
   "mimetype": "text/x-python",
   "name": "python",
   "nbconvert_exporter": "python",
   "pygments_lexer": "ipython3",
   "version": "3.9.0"
  }
 },
 "nbformat": 4,
 "nbformat_minor": 5
}
