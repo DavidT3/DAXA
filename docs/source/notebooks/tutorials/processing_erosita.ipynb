{
 "cells": [
  {
   "cell_type": "markdown",
   "id": "52ac7bfe",
   "metadata": {},
   "source": [
    "# Processing eROSITA data"
   ]
  },
  {
   "cell_type": "markdown",
   "id": "fa461803",
   "metadata": {},
   "source": []
  },
  {
   "cell_type": "markdown",
   "id": "6a8a9f31",
   "metadata": {},
   "source": [
    "## Import Statements"
   ]
  },
  {
   "cell_type": "code",
   "execution_count": 2,
   "id": "ad908eed-a558-4b67-93e1-94147da691c0",
   "metadata": {},
   "outputs": [],
   "source": [
    "from daxa.mission import eRASS1DE\n",
    "from daxa.archive import Archive\n",
    "from daxa.process.simple import full_process_erosita"
   ]
  },
  {
   "cell_type": "markdown",
   "id": "47895b2f-8718-44f5-83f8-8489698f851f",
   "metadata": {},
   "source": [
    "## An Archive to be processed"
   ]
  },
  {
   "cell_type": "markdown",
   "id": "22a90678-5e83-4e09-9b1f-841f59b3f35a",
   "metadata": {},
   "source": [
    "Every processing function implemented in DAXA takes an Archive instance as its first argument; if you don't already know what that is then you should go back and read the following tutorials:\n",
    "\n",
    "* [Creating a DAXA archive](archives.html) - This explains how to create an archive, load an existing archive, and the various properties and features of DAXA archives.\n",
    "* [Using DAXA missions](missions.html) - Here we explain what DAXA mission classes are and how to use them to select only the data you need.\n",
    "\n",
    "Here we create an archive of eRASS DR1 observations of the galaxy cluster Abell 3266:"
   ]
  },
  {
   "cell_type": "code",
   "execution_count": 5,
   "id": "6d4b22d8-ee0d-40bd-9e46-b26e94ff9d4a",
   "metadata": {},
   "outputs": [
    {
     "name": "stderr",
     "output_type": "stream",
     "text": [
      "Downloading eRASS DE:1 data: 100%|██████████████████████████████████████████████| 2/2 [00:10<00:00,  5.16s/it]\n"
     ]
    }
   ],
   "source": [
    "er = eRASS1DE()\n",
    "er.filter_on_name('A3266')\n",
    "arch = Archive('Abell3266', er)"
   ]
  },
  {
   "cell_type": "markdown",
   "id": "b0664768-2e02-40bb-8fea-22ab69db0d5a",
   "metadata": {},
   "source": [
    "## One-line solution"
   ]
  },
  {
   "cell_type": "markdown",
   "id": "bfc2e58b-90a2-4896-b5b0-92c84e27ceb9",
   "metadata": {},
   "source": [
    "Though we provide individual functions that wrap the various steps required to reduce and prepare eROSITA data, and they can be used separately for greater control over the configuration parameters, we also include a one-line solution which executes the processing steps with default configuration.\n",
    "\n",
    "We believe that the default parameters are adequate for most use cases, and this allows for users unfamiliar with the intricacies of eROSITA data to easily start working with it. Executing the following will automatically generate cleaned combined event lists for all telescope modules selected upon the original declaration of the mission."
   ]
  },
  {
   "cell_type": "code",
   "execution_count": 6,
   "id": "dbb88e2b-61a4-4465-9a9b-341da0109249",
   "metadata": {},
   "outputs": [
    {
     "name": "stderr",
     "output_type": "stream",
     "text": [
      "eRASS DE:1 - Finding flares in observations: 100%|██████████████████████████████| 2/2 [00:00<00:00,  3.28it/s]\n"
     ]
    },
    {
     "ename": "TypeError",
     "evalue": "The lo_en and hi_en arguments must be astropy quantities in units that can be converted to keV.",
     "output_type": "error",
     "traceback": [
      "\u001b[0;31m---------------------------------------------------------------------------\u001b[0m",
      "\u001b[0;31mTypeError\u001b[0m                                 Traceback (most recent call last)",
      "Input \u001b[0;32mIn [6]\u001b[0m, in \u001b[0;36m<cell line: 1>\u001b[0;34m()\u001b[0m\n\u001b[0;32m----> 1\u001b[0m \u001b[43mfull_process_erosita\u001b[49m\u001b[43m(\u001b[49m\u001b[43march\u001b[49m\u001b[43m)\u001b[49m\n",
      "File \u001b[0;32m/mnt/pact/dt237/code/PycharmProjects/DAXA/daxa/process/simple.py:126\u001b[0m, in \u001b[0;36mfull_process_erosita\u001b[0;34m(obs_archive, lo_en, hi_en, num_cores, timeout)\u001b[0m\n\u001b[1;32m    124\u001b[0m flaregti(obs_archive, num_cores\u001b[38;5;241m=\u001b[39mnum_cores, timeout\u001b[38;5;241m=\u001b[39mtimeout)\n\u001b[1;32m    125\u001b[0m \u001b[38;5;66;03m# Creates final cleaned event lists for eROSITA missions\u001b[39;00m\n\u001b[0;32m--> 126\u001b[0m \u001b[43meros_cleaned_evt_lists\u001b[49m\u001b[43m(\u001b[49m\u001b[43mobs_archive\u001b[49m\u001b[43m,\u001b[49m\u001b[43m \u001b[49m\u001b[43mlo_en\u001b[49m\u001b[43m,\u001b[49m\u001b[43m \u001b[49m\u001b[43mhi_en\u001b[49m\u001b[43m,\u001b[49m\u001b[43m \u001b[49m\u001b[43mnum_cores\u001b[49m\u001b[38;5;241;43m=\u001b[39;49m\u001b[43mnum_cores\u001b[49m\u001b[43m,\u001b[49m\u001b[43m \u001b[49m\u001b[43mtimeout\u001b[49m\u001b[38;5;241;43m=\u001b[39;49m\u001b[43mtimeout\u001b[49m\u001b[43m)\u001b[49m\n",
      "File \u001b[0;32m/mnt/pact/dt237/code/PycharmProjects/DAXA/daxa/process/_cleanup.py:34\u001b[0m, in \u001b[0;36m_last_process.<locals>.last_process_function.<locals>.wrapper\u001b[0;34m(*args, **kwargs)\u001b[0m\n\u001b[1;32m     29\u001b[0m \u001b[38;5;129m@wraps\u001b[39m(proc_func)\n\u001b[1;32m     30\u001b[0m \u001b[38;5;28;01mdef\u001b[39;00m \u001b[38;5;21mwrapper\u001b[39m(\u001b[38;5;241m*\u001b[39margs, \u001b[38;5;241m*\u001b[39m\u001b[38;5;241m*\u001b[39mkwargs):\n\u001b[1;32m     31\u001b[0m \n\u001b[1;32m     32\u001b[0m     \u001b[38;5;66;03m# This runs the actual processing step that this decorator is wrapped around - obviously that needs\u001b[39;00m\n\u001b[1;32m     33\u001b[0m     \u001b[38;5;66;03m#  to happen\u001b[39;00m\n\u001b[0;32m---> 34\u001b[0m     \u001b[43mproc_func\u001b[49m\u001b[43m(\u001b[49m\u001b[38;5;241;43m*\u001b[39;49m\u001b[43margs\u001b[49m\u001b[43m,\u001b[49m\u001b[43m \u001b[49m\u001b[38;5;241;43m*\u001b[39;49m\u001b[38;5;241;43m*\u001b[39;49m\u001b[43mkwargs\u001b[49m\u001b[43m)\u001b[49m\n\u001b[1;32m     36\u001b[0m     \u001b[38;5;66;03m# We check if the first argument to the initial processing function was an archive. If not then either\u001b[39;00m\n\u001b[1;32m     37\u001b[0m     \u001b[38;5;66;03m#  the processing function has been designed incompatibly, or this has been used to decorate the\u001b[39;00m\n\u001b[1;32m     38\u001b[0m     \u001b[38;5;66;03m#  wrong thing\u001b[39;00m\n\u001b[1;32m     39\u001b[0m     \u001b[38;5;28;01mif\u001b[39;00m \u001b[38;5;129;01mnot\u001b[39;00m \u001b[38;5;28misinstance\u001b[39m(args[\u001b[38;5;241m0\u001b[39m], Archive):\n",
      "File \u001b[0;32m/mnt/pact/dt237/code/PycharmProjects/DAXA/daxa/process/erosita/_common.py:251\u001b[0m, in \u001b[0;36mesass_call.<locals>.wrapper\u001b[0;34m(*args, **kwargs)\u001b[0m\n\u001b[1;32m    247\u001b[0m         _prepare_erosita_info(obs_archive, miss)\n\u001b[1;32m    249\u001b[0m \u001b[38;5;66;03m# This is the output from whatever function this is a decorator for\u001b[39;00m\n\u001b[1;32m    250\u001b[0m (miss_cmds, miss_final_paths, miss_extras, process_message, cores, disable, timeout,\n\u001b[0;32m--> 251\u001b[0m  esass_in_docker) \u001b[38;5;241m=\u001b[39m \u001b[43mesass_func\u001b[49m\u001b[43m(\u001b[49m\u001b[38;5;241;43m*\u001b[39;49m\u001b[43margs\u001b[49m\u001b[43m,\u001b[49m\u001b[43m \u001b[49m\u001b[38;5;241;43m*\u001b[39;49m\u001b[38;5;241;43m*\u001b[39;49m\u001b[43mkwargs\u001b[49m\u001b[43m)\u001b[49m\n\u001b[1;32m    253\u001b[0m \u001b[38;5;66;03m# Converting the timeout from whatever time units it is in, to seconds - but first checking that the user\u001b[39;00m\n\u001b[1;32m    254\u001b[0m \u001b[38;5;66;03m#  hasn't been daft and passed a non-time quantity\u001b[39;00m\n\u001b[1;32m    255\u001b[0m \u001b[38;5;28;01mif\u001b[39;00m timeout \u001b[38;5;129;01mis\u001b[39;00m \u001b[38;5;129;01mnot\u001b[39;00m \u001b[38;5;28;01mNone\u001b[39;00m \u001b[38;5;129;01mand\u001b[39;00m \u001b[38;5;129;01mnot\u001b[39;00m timeout\u001b[38;5;241m.\u001b[39munit\u001b[38;5;241m.\u001b[39mis_equivalent(\u001b[38;5;124m'\u001b[39m\u001b[38;5;124ms\u001b[39m\u001b[38;5;124m'\u001b[39m):\n",
      "File \u001b[0;32m/mnt/pact/dt237/code/PycharmProjects/DAXA/daxa/process/erosita/assemble.py:59\u001b[0m, in \u001b[0;36mcleaned_evt_lists\u001b[0;34m(obs_archive, lo_en, hi_en, flag, flag_invert, pattern, num_cores, disable_progress, timeout)\u001b[0m\n\u001b[1;32m     57\u001b[0m \u001b[38;5;66;03m# Checking user's choice of energy limit parameters\u001b[39;00m\n\u001b[1;32m     58\u001b[0m \u001b[38;5;28;01mif\u001b[39;00m \u001b[38;5;129;01mnot\u001b[39;00m \u001b[38;5;28misinstance\u001b[39m(lo_en, Quantity) \u001b[38;5;129;01mor\u001b[39;00m \u001b[38;5;129;01mnot\u001b[39;00m \u001b[38;5;28misinstance\u001b[39m(hi_en, Quantity):\n\u001b[0;32m---> 59\u001b[0m     \u001b[38;5;28;01mraise\u001b[39;00m \u001b[38;5;167;01mTypeError\u001b[39;00m(\u001b[38;5;124m\"\u001b[39m\u001b[38;5;124mThe lo_en and hi_en arguments must be astropy quantities in units \u001b[39m\u001b[38;5;124m\"\u001b[39m\n\u001b[1;32m     60\u001b[0m                     \u001b[38;5;124m\"\u001b[39m\u001b[38;5;124mthat can be converted to keV.\u001b[39m\u001b[38;5;124m\"\u001b[39m)\n\u001b[1;32m     62\u001b[0m \u001b[38;5;66;03m# Have to make sure that the energy bounds are in units that can be converted to keV (which is what evtool\u001b[39;00m\n\u001b[1;32m     63\u001b[0m \u001b[38;5;66;03m#  expects for these arguments).\u001b[39;00m\n\u001b[1;32m     64\u001b[0m \u001b[38;5;28;01melif\u001b[39;00m \u001b[38;5;129;01mnot\u001b[39;00m lo_en\u001b[38;5;241m.\u001b[39munit\u001b[38;5;241m.\u001b[39mis_equivalent(\u001b[38;5;124m'\u001b[39m\u001b[38;5;124meV\u001b[39m\u001b[38;5;124m'\u001b[39m) \u001b[38;5;129;01mor\u001b[39;00m \u001b[38;5;129;01mnot\u001b[39;00m hi_en\u001b[38;5;241m.\u001b[39munit\u001b[38;5;241m.\u001b[39mis_equivalent(\u001b[38;5;124m'\u001b[39m\u001b[38;5;124meV\u001b[39m\u001b[38;5;124m'\u001b[39m):\n",
      "\u001b[0;31mTypeError\u001b[0m: The lo_en and hi_en arguments must be astropy quantities in units that can be converted to keV."
     ]
    }
   ],
   "source": [
    "full_process_erosita(arch)"
   ]
  },
  {
   "cell_type": "markdown",
   "id": "fc2e7491-7aa3-4dc3-b17c-5d46435b981f",
   "metadata": {},
   "source": [
    "## General arguments for all processing functions"
   ]
  },
  {
   "cell_type": "markdown",
   "id": "5c94107c-8c1e-4d27-a0e4-2166df09993e",
   "metadata": {},
   "source": [
    "There are some arguments that all processing functions will take - they don't control the behaviour of the processing step itself, but instead how the commands are executed:\n",
    "\n",
    "* **num_cores** - The number of cores that the function is allowed to use. This is set globally by the daxa.NUM_CORES constant (if set before any other DAXA function is imported), and by default is 90% of the cores available on the system.\n",
    "* **timeout** - This controls how long an individual instance of the process is allowed to run before it is cancelled; the whole function may run for longer depending how many pieces of data need processing and how many cores are allocated. The default is generally null, but it can be set using an astropy quantity with time units."
   ]
  },
  {
   "cell_type": "code",
   "execution_count": null,
   "id": "e90351fe-fc26-4440-8c4a-8d62b414f659",
   "metadata": {},
   "outputs": [],
   "source": []
  },
  {
   "cell_type": "markdown",
   "id": "5b1e1360-7315-4472-a316-b7b10e8a5462",
   "metadata": {},
   "source": [
    "## Breaking down the eROSITA processing steps"
   ]
  },
  {
   "cell_type": "markdown",
   "id": "a79803ed-4e7b-4be0-9164-317b7edf859b",
   "metadata": {},
   "source": [
    "[flaregti function](../../daxa.process.xmm.html#daxa.process.erosita.clean.flaregti)"
   ]
  },
  {
   "cell_type": "code",
   "execution_count": null,
   "id": "c73b2446-00fc-46fb-b6cd-595a550f809c",
   "metadata": {},
   "outputs": [],
   "source": []
  },
  {
   "cell_type": "markdown",
   "id": "0a1ee926-6234-4a3e-afc4-9448cf07ae1a",
   "metadata": {},
   "source": [
    "[cleaned_evt_lists function](../../daxa.process.xmm.html#daxa.process.erosita.assemble.cleaned_evt_lists)"
   ]
  }
 ],
 "metadata": {
  "kernelspec": {
   "display_name": "Python 3 (ipykernel)",
   "language": "python",
   "name": "python3"
  },
  "language_info": {
   "codemirror_mode": {
    "name": "ipython",
    "version": 3
   },
   "file_extension": ".py",
   "mimetype": "text/x-python",
   "name": "python",
   "nbconvert_exporter": "python",
   "pygments_lexer": "ipython3",
   "version": "3.9.15"
  }
 },
 "nbformat": 4,
 "nbformat_minor": 5
}
