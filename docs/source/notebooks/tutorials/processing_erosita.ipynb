{
 "cells": [
  {
   "cell_type": "markdown",
   "id": "52ac7bfe",
   "metadata": {},
   "source": [
    "# Processing eROSITA data"
   ]
  },
  {
   "cell_type": "markdown",
   "id": "fa461803",
   "metadata": {},
   "source": [
    "This tutorial will teach you how to use DAXA to process raw eROSITA data into a science ready state using one line of Python code (or several lines, if you wish to have more control over the settings for each step). **This relies on there being an initialised (either manually before launching Python, or in your bash profile/rc) backend installation of the eROSITA Science Analysis Software System (eSASS), including accessible calibration files** - DAXA will check for such an installation, and will not allow processing to start without it.\n",
    "\n",
    "**All DAXA processing steps will parallelise as much as possible - processes running on different ObsIDs/instruments/sub-exposures will be run simultaneously (if cores are available)**"
   ]
  },
  {
   "cell_type": "markdown",
   "id": "6a8a9f31",
   "metadata": {},
   "source": [
    "## Import Statements"
   ]
  },
  {
   "cell_type": "code",
   "execution_count": 1,
   "id": "ad908eed-a558-4b67-93e1-94147da691c0",
   "metadata": {},
   "outputs": [],
   "source": [
    "from daxa.mission import eRASS1DE, eROSITACalPV\n",
    "from daxa.archive import Archive\n",
    "from daxa.process.simple import full_process_erosita\n",
    "from daxa.process.erosita.clean import flaregti\n",
    "from daxa.process.erosita.assemble import cleaned_evt_lists"
   ]
  },
  {
   "cell_type": "markdown",
   "id": "47895b2f-8718-44f5-83f8-8489698f851f",
   "metadata": {},
   "source": [
    "## An Archive to be processed"
   ]
  },
  {
   "cell_type": "markdown",
   "id": "22a90678-5e83-4e09-9b1f-841f59b3f35a",
   "metadata": {},
   "source": [
    "Every processing function implemented in DAXA takes an Archive instance as its first argument; if you don't already know what that is then you should go back and read the following tutorials:\n",
    "\n",
    "* [Creating a DAXA archive](archives.html) - This explains how to create an archive, load an existing archive, and the various properties and features of DAXA archives.\n",
    "* [Using DAXA missions](missions.html) - Here we explain what DAXA mission classes are and how to use them to select only the data you need.\n",
    "\n",
    "Here we create an archive of eRASS DR1 observations of the galaxy cluster Abell 3266:"
   ]
  },
  {
   "cell_type": "code",
   "execution_count": 2,
   "id": "6d4b22d8-ee0d-40bd-9e46-b26e94ff9d4a",
   "metadata": {},
   "outputs": [
    {
     "name": "stderr",
     "output_type": "stream",
     "text": [
      "/mnt/pact/dt237/code/PycharmProjects/DAXA/daxa/mission/base.py:1075: UserWarning: A field-of-view cannot be easily defined for eROSITACalPV and this number is the approximate half-length of an eFEDS section, the worst case separation - this is unnecessarily large for pointed observations, and you should make your own judgement on a search distance.\n",
      "  fov = self.fov\n",
      "Downloading eROSITACalPV data: 100%|████████████████████████████████████████████| 1/1 [00:24<00:00, 24.83s/it]\n",
      "Downloading eRASS DE:1 data: 100%|██████████████████████████████████████████████| 2/2 [00:01<00:00,  1.24it/s]\n"
     ]
    }
   ],
   "source": [
    "ec = eROSITACalPV()\n",
    "ec.filter_on_positions([[133.071, -1.025]])\n",
    "er = eRASS1DE()\n",
    "er.filter_on_positions([[133.071, -1.025]])\n",
    "\n",
    "arch = Archive('eFEDSXCS-339', [ec, er], clobber=True)"
   ]
  },
  {
   "cell_type": "markdown",
   "id": "b0664768-2e02-40bb-8fea-22ab69db0d5a",
   "metadata": {},
   "source": [
    "## One-line solution"
   ]
  },
  {
   "cell_type": "markdown",
   "id": "bfc2e58b-90a2-4896-b5b0-92c84e27ceb9",
   "metadata": {},
   "source": [
    "Though we provide individual functions that wrap the various steps required to reduce and prepare eROSITA data, and they can be used separately for greater control over the configuration parameters, we also include a one-line solution which executes the processing steps with default configuration.\n",
    "\n",
    "We believe that the default parameters are adequate for most use cases, and this allows for users unfamiliar with the intricacies of eROSITA data to easily start working with it. Executing the following will automatically generate cleaned combined event lists for all telescope modules selected upon the original declaration of the mission."
   ]
  },
  {
   "cell_type": "markdown",
   "id": "d693c8c5-baae-4250-b3d5-d5b0f9bfedd3",
   "metadata": {},
   "source": [
    "fm00_300007_020_EventList_c001.fits"
   ]
  },
  {
   "cell_type": "code",
   "execution_count": 3,
   "id": "dbb88e2b-61a4-4465-9a9b-341da0109249",
   "metadata": {},
   "outputs": [
    {
     "name": "stderr",
     "output_type": "stream",
     "text": [
      "eROSITACalPV - Finding flares in observations: 100%|████████████████████████████| 2/2 [00:13<00:00,  6.62s/it]\n",
      "eRASS DE:1 - Finding flares in observations: 100%|██████████████████████████████| 2/2 [00:02<00:00,  1.02s/it]\n",
      "eROSITACalPV - Generating final event lists: 100%|██████████████████████████████| 2/2 [00:58<00:00, 29.38s/it]\n",
      "eRASS DE:1 - Generating final event lists: 100%|████████████████████████████████| 2/2 [00:01<00:00,  1.01it/s]\n"
     ]
    }
   ],
   "source": [
    "full_process_erosita(arch)"
   ]
  },
  {
   "cell_type": "markdown",
   "id": "fc2e7491-7aa3-4dc3-b17c-5d46435b981f",
   "metadata": {},
   "source": [
    "## General arguments for all processing functions"
   ]
  },
  {
   "cell_type": "markdown",
   "id": "5c94107c-8c1e-4d27-a0e4-2166df09993e",
   "metadata": {},
   "source": [
    "There are some arguments that all processing functions will take - they don't control the behaviour of the processing step itself, but instead how the commands are executed:\n",
    "\n",
    "* **num_cores** - The number of cores that the function is allowed to use. This is set globally by the daxa.NUM_CORES constant (if set before any other DAXA function is imported), and by default is 90% of the cores available on the system.\n",
    "* **timeout** - This controls how long an individual instance of the process is allowed to run before it is cancelled; the whole function may run for longer depending how many pieces of data need processing and how many cores are allocated. The default is generally null, but it can be set using an astropy quantity with time units."
   ]
  },
  {
   "cell_type": "markdown",
   "id": "5b1e1360-7315-4472-a316-b7b10e8a5462",
   "metadata": {},
   "source": [
    "## Breaking down the eROSITA processing steps"
   ]
  },
  {
   "cell_type": "markdown",
   "id": "902d128e-7116-4fda-8e69-c7a8033ff2e9",
   "metadata": {},
   "source": [
    "There are fewer individual steps for eROSITA compared to a telescope like XMM - this reflects its simpler design, with only a single camera type, as well as the differences in how data are served to the community and the backend software design. This section deals describes the different processing steps that DAXA can apply to eROSITA data (both all-sky and calibration)."
   ]
  },
  {
   "cell_type": "markdown",
   "id": "818e32cf-fbf6-4fe3-8410-492749a5d951",
   "metadata": {},
   "source": [
    "### Identifying periods of high flaring (flaregti)"
   ]
  },
  {
   "cell_type": "markdown",
   "id": "a79803ed-4e7b-4be0-9164-317b7edf859b",
   "metadata": {},
   "source": [
    "[flaregti function](../../daxa.process.erosita.html#daxa.process.erosita.clean.flaregti)"
   ]
  },
  {
   "cell_type": "code",
   "execution_count": 6,
   "id": "c73b2446-00fc-46fb-b6cd-595a550f809c",
   "metadata": {},
   "outputs": [
    {
     "name": "stdout",
     "output_type": "stream",
     "text": [
      "Help on function flaregti in module daxa.process.erosita.clean:\n",
      "\n",
      "flaregti(obs_archive: daxa.archive.base.Archive, pimin: astropy.units.quantity.Quantity = <Quantity 200. eV>, pimax: astropy.units.quantity.Quantity = <Quantity 10000. eV>, mask_pimin: astropy.units.quantity.Quantity = <Quantity 200. eV>, mask_pimax: astropy.units.quantity.Quantity = <Quantity 10000. eV>, binsize: int = 1200, detml: Union[float, int] = 10, timebin: astropy.units.quantity.Quantity = <Quantity 20. s>, source_size: astropy.units.quantity.Quantity = <Quantity 25. arcsec>, source_like: Union[float, int] = 10, threshold: astropy.units.quantity.Quantity = <Quantity -1. ct / (deg2 s)>, max_threshold: astropy.units.quantity.Quantity = <Quantity -1. ct / (deg2 s)>, mask_iter: int = 3, num_cores: int = 115, disable_progress: bool = False, timeout: astropy.units.quantity.Quantity = None)\n",
      "    The DAXA wrapper for the eROSITA eSASS task flaregti, which attempts to identify good time intervals with\n",
      "    minimal flaring. This has been tested up to flaregti v1.20.\n",
      "    \n",
      "    This function does not generate final event lists, but instead is used to create good-time-interval files\n",
      "    which are then applied to the creation of final event lists, along with other user-specified filters, in the\n",
      "    'cleaned_evt_lists' function.\n",
      "    \n",
      "    :param Archive obs_archive: An Archive instance containing eROSITA mission instances with observations for\n",
      "        which flaregti should be run. This function will fail if no eROSITA missions are present in the archive.\n",
      "    :param float pimin:  Lower PI bound of energy range for lightcurve creation.\n",
      "    :param float pimax:  Upper PI bound of energy range for lightcurve creation.\n",
      "    :param float mask_pimin: Lower PI bound of energy range for finding sources to mask.\n",
      "    :param float mask_pimax: Upper PI bound of energy range for finding sources to mask.\n",
      "    :param int binsize: Bin size of mask image (unit: sky pixels).\n",
      "    :param int detml: Likelihood threshold for mask creation.\n",
      "    :param int timebin: Bin size for lightcurve (unit: seconds).\n",
      "    :param int source_size: Diameter of source extracton area for dynamic threshold calculation (unit: arcsec);\n",
      "        this is the most important parameter if optimizing for extended sources.\n",
      "    :param int source_like: Source likelihood for automatic threshold calculation.\n",
      "    :param float threshold: Flare threshold; dynamic if negative (unit: counts/deg^2/sec).\n",
      "    :param float max_threshold: Maximum threshold rate, if positive (unit: counts/deg^2/sec),\n",
      "        if set this forces the threshold to be this rate or less.\n",
      "    :param int mask_iter: Number of repetitions of source masking and GTI creation.\n",
      "    :param int num_cores: The number of cores to use, default is set to 90% of available.\n",
      "    :param bool disable_progress: Setting this to true will turn off the SAS generation progress bar.\n",
      "    :param Quantity timeout: The amount of time each individual process is allowed to run for, the default is None.\n",
      "        Please note that this is not a timeout for the entire flaregti process, but a timeout for individual\n",
      "        ObsID-Inst-subexposure processes.\n",
      "    :return: Information required by the eSASS decorator that will run commands. Top level keys of any dictionaries are\n",
      "        internal DAXA mission names, next level keys are ObsIDs. The return is a tuple containing a) a dictionary of\n",
      "        bash commands, b) a dictionary of final output paths to check, c) a dictionary of extra info (in this case\n",
      "        obs and analysis dates), d) a generation message for the progress bar, e) the number of cores allowed, and\n",
      "        f) whether the progress bar should be hidden or not.\n",
      "    :rtype: Tuple[dict, dict, dict, str, int, bool, Quantity]\n",
      "\n"
     ]
    }
   ],
   "source": [
    "help(flaregti)"
   ]
  },
  {
   "cell_type": "markdown",
   "id": "ada9e44b-e4ef-4438-9f20-2c91f426fca4",
   "metadata": {},
   "source": [
    "### Applying event filtering and good-time-intervals to the raw event lists (cleaned_evt_lists)"
   ]
  },
  {
   "cell_type": "markdown",
   "id": "0a1ee926-6234-4a3e-afc4-9448cf07ae1a",
   "metadata": {},
   "source": [
    "This function ([cleaned_evt_lists function](../../daxa.process.erosita.html#daxa.process.erosita.assemble.cleaned_evt_lists)) creates the final, filtered and cleaned, event lists for eROSITA data. We make use of the evtool eSASS task for this. Our function will apply the good-time intervals generated by `flaregti`, as well as allowing the filtering of events based on pattern, flag, and energy. This is achieved through the passage of the following arguments:\n",
    "\n",
    "* **lo_en** - This controls the lowest energy of event allowed into the cleaned event lists - the default is 0.2 keV, the lowest allowed by the eSASS tool.\n",
    "* **hi_en** - This controls the highest energy of event allowed into the cleaned event lists - the default is 10.0 keV, the highest allowed by the eSASS tool.\n",
    "* **flag** - Events are flagged during their initial processing (prior to download) - the flags represent combinations of circumstances, and include information on the owner (MPE or IKE), rejection decision, quality, and whether they are corrupted or not. We use a default value that will select all events flagged as either singly corrupt or as part of a corrupt frame.\n",
    "* **flag_invert** - This controls whether the flag is used to define which events to _select_ or which to _exclude_. It is often easier to define the bad events with a flag and then invert it, which is the default behaviour here - any event selected by `flag` will be excluded, unless `flag_invert` is set to False.\n",
    "* **pattern** - Defines which event patterns are acceptable (where a pattern describes how an event was registered by the detector ([this](https://erosita.mpe.mpg.de/edr/eROSITATechnical/patternfractions.html) discusses eROSITA pattern fractions. - the default value is 15, which represent 1111 in binary, which in turn means that single, double, triple, and quadruple events are all selected by default. If the absolute highest quality is required, and you have sufficient events, then it may make sense to limit this more, in which case you could pass 1000 (for singles only), or 1010 (for singles and triples), etc."
   ]
  },
  {
   "cell_type": "code",
   "execution_count": 7,
   "id": "9d5de8b2-f512-432a-ac40-6c42b89a4f27",
   "metadata": {},
   "outputs": [
    {
     "name": "stdout",
     "output_type": "stream",
     "text": [
      "Help on function cleaned_evt_lists in module daxa.process.erosita.assemble:\n",
      "\n",
      "cleaned_evt_lists(obs_archive: daxa.archive.base.Archive, lo_en: astropy.units.quantity.Quantity = <Quantity 0.2 keV>, hi_en: astropy.units.quantity.Quantity = <Quantity 10. keV>, flag: int = 3221225472, flag_invert: bool = True, pattern: int = 15, num_cores: int = 115, disable_progress: bool = False, timeout: astropy.units.quantity.Quantity = None)\n",
      "    The function wraps the eROSITA eSASS task evtool, which is used for selecting events.\n",
      "    This has been tested up to evtool v2.10.1\n",
      "    \n",
      "    This function is used to apply the soft-proton filtering (along with any other filtering you may desire, including\n",
      "    the setting of energy limits) to eROSITA event lists, resulting in the creation of sets of cleaned event lists\n",
      "    which are ready to be analysed.\n",
      "    \n",
      "    :param Archive obs_archive: An Archive instance containing eROSITA mission instances with observations for\n",
      "        which cleaned event lists should be created. This function will fail if no eROSITA missions are present in\n",
      "        the archive.\n",
      "    :param Quantity lo_en: The lower bound of an energy filter to be applied to the cleaned, filtered, event lists. If\n",
      "        'lo_en' is set to an Astropy Quantity, then 'hi_en' must be as well. Default is 0.2 keV, which is the\n",
      "        minimum allowed by the eROSITA toolset. Passing None will result in the default value being used.\n",
      "    :param Quantity hi_en: The upper bound of an energy filter to be applied to the cleaned, filtered, event lists. If\n",
      "        'hi_en' is set to an Astropy Quantity, then 'lo_en' must be as well. Default is 10 keV, which is the\n",
      "        maximum allowed by the eROSITA toolset. Passing None will result in the default value being used.\n",
      "    :param int flag: FLAG parameter to select events based on owner, information, rejection, quality, and corrupted\n",
      "        data. The eROSITA website contains the full description of event flags in section 1.1.2 of the following link:\n",
      "        https://erosita.mpe.mpg.de/edr/DataAnalysis/prod_descript/EventFiles_edr.html. The default parameter will\n",
      "        remove all events flagged as either singly corrupt or as part of a corrupt frame.\n",
      "    :param bool flag_invert: If set to True, this function will discard all events selected by the flag parameter.\n",
      "    :param int pattern: Selects events of a certain pattern chosen by the integer key. The default of 15 selects\n",
      "        all four of the recognized legal patterns.\n",
      "    :param int num_cores: The number of cores to use, default is set to 90% of available.\n",
      "    :param bool disable_progress: Setting this to true will turn off the eSASS generation progress bar.\n",
      "    :param Quantity timeout: The amount of time each individual process is allowed to run for, the default is None.\n",
      "        Please note that this is not a timeout for the entire cleaned_evt_lists process, but a timeout for individual\n",
      "        ObsID-Inst-subexposure processes.\n",
      "\n"
     ]
    }
   ],
   "source": [
    "help(cleaned_evt_lists)"
   ]
  }
 ],
 "metadata": {
  "kernelspec": {
   "display_name": "Python 3 (ipykernel)",
   "language": "python",
   "name": "python3"
  },
  "language_info": {
   "codemirror_mode": {
    "name": "ipython",
    "version": 3
   },
   "file_extension": ".py",
   "mimetype": "text/x-python",
   "name": "python",
   "nbconvert_exporter": "python",
   "pygments_lexer": "ipython3",
   "version": "3.9.15"
  }
 },
 "nbformat": 4,
 "nbformat_minor": 5
}
