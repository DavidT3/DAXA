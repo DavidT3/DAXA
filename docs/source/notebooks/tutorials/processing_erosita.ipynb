{
 "cells": [
  {
   "cell_type": "markdown",
   "id": "52ac7bfe",
   "metadata": {},
   "source": [
    "# Processing eROSITA data"
   ]
  },
  {
   "cell_type": "markdown",
   "id": "fa461803",
   "metadata": {},
   "source": [
    "This tutorial will teach you how to use DAXA to process raw eROSITA data into a science ready state using one line of Python code (or several lines, if you wish to have more control over the settings for each step). **This relies on there being an initialised (either manually before launching Python, or in your bash profile/rc) backend installation of the eROSITA Science Analysis Software System (eSASS), including accessible calibration files** - DAXA will check for such an installation, and will not allow processing to start without it.\n",
    "\n",
    "**All DAXA processing steps will parallelise as much as possible - processes running on different ObsIDs/instruments/sub-exposures will be run simultaneously (if cores are available)**"
   ]
  },
  {
   "cell_type": "markdown",
   "id": "6a8a9f31",
   "metadata": {},
   "source": [
    "## Import Statements"
   ]
  },
  {
   "cell_type": "code",
   "execution_count": 1,
   "id": "ad908eed-a558-4b67-93e1-94147da691c0",
   "metadata": {},
   "outputs": [],
   "source": [
    "from daxa.mission import eRASS1DE\n",
    "from daxa.archive import Archive\n",
    "from daxa.process.simple import full_process_erosita\n",
    "from daxa.process.erosita.clean import flaregti\n",
    "from daxa.process.erosita.assemble import cleaned_evt_lists"
   ]
  },
  {
   "cell_type": "markdown",
   "id": "47895b2f-8718-44f5-83f8-8489698f851f",
   "metadata": {},
   "source": [
    "## An Archive to be processed"
   ]
  },
  {
   "cell_type": "markdown",
   "id": "22a90678-5e83-4e09-9b1f-841f59b3f35a",
   "metadata": {},
   "source": [
    "Every processing function implemented in DAXA takes an Archive instance as its first argument; if you don't already know what that is then you should go back and read the following tutorials:\n",
    "\n",
    "* [Creating a DAXA archive](archives.html) - This explains how to create an archive, load an existing archive, and the various properties and features of DAXA archives.\n",
    "* [Using DAXA missions](missions.html) - Here we explain what DAXA mission classes are and how to use them to select only the data you need.\n",
    "\n",
    "Here we create an archive of eRASS DR1 observations of the galaxy cluster Abell 3266:"
   ]
  },
  {
   "cell_type": "code",
   "execution_count": 2,
   "id": "6d4b22d8-ee0d-40bd-9e46-b26e94ff9d4a",
   "metadata": {},
   "outputs": [
    {
     "name": "stderr",
     "output_type": "stream",
     "text": [
      "/mnt/pact/dt237/code/PycharmProjects/DAXA/daxa/mission/base.py:1075: UserWarning: A field-of-view cannot be easily defined for eROSITACalPV and this number is the approximate half-length of an eFEDS section, the worst case separation - this is unnecessarily large for pointed observations, and you should make your own judgement on a search distance.\n",
      "  fov = self.fov\n",
      "Downloading eROSITACalPV data: 100%|████████████████████████████████████████████| 1/1 [00:35<00:00, 35.03s/it]\n"
     ]
    }
   ],
   "source": [
    "# er = eRASS1DE()\n",
    "# er.filter_on_name('A3266')\n",
    "# arch = Archive('Abell3266', er, clobber=True)\n",
    "\n",
    "from daxa.mission import eROSITACalPV\n",
    "\n",
    "ec = eROSITACalPV()\n",
    "ec.filter_on_positions([[133.071, -1.025]])\n",
    "arch = Archive('eFEDSXCS-339', ec, clobber=True)"
   ]
  },
  {
   "cell_type": "markdown",
   "id": "b0664768-2e02-40bb-8fea-22ab69db0d5a",
   "metadata": {},
   "source": [
    "## One-line solution"
   ]
  },
  {
   "cell_type": "markdown",
   "id": "bfc2e58b-90a2-4896-b5b0-92c84e27ceb9",
   "metadata": {},
   "source": [
    "Though we provide individual functions that wrap the various steps required to reduce and prepare eROSITA data, and they can be used separately for greater control over the configuration parameters, we also include a one-line solution which executes the processing steps with default configuration.\n",
    "\n",
    "We believe that the default parameters are adequate for most use cases, and this allows for users unfamiliar with the intricacies of eROSITA data to easily start working with it. Executing the following will automatically generate cleaned combined event lists for all telescope modules selected upon the original declaration of the mission."
   ]
  },
  {
   "cell_type": "markdown",
   "id": "d693c8c5-baae-4250-b3d5-d5b0f9bfedd3",
   "metadata": {},
   "source": [
    "fm00_300007_020_EventList_c001.fits"
   ]
  },
  {
   "cell_type": "code",
   "execution_count": 3,
   "id": "dbb88e2b-61a4-4465-9a9b-341da0109249",
   "metadata": {},
   "outputs": [
    {
     "name": "stderr",
     "output_type": "stream",
     "text": [
      "eROSITACalPV - Finding flares in observations: 100%|████████████████████████████| 2/2 [00:11<00:00,  5.92s/it]\n",
      "eROSITACalPV - Generating final event lists: 100%|██████████████████████████████| 2/2 [00:58<00:00, 29.24s/it]\n"
     ]
    }
   ],
   "source": [
    "full_process_erosita(arch)"
   ]
  },
  {
   "cell_type": "markdown",
   "id": "fc2e7491-7aa3-4dc3-b17c-5d46435b981f",
   "metadata": {},
   "source": [
    "## General arguments for all processing functions"
   ]
  },
  {
   "cell_type": "markdown",
   "id": "5c94107c-8c1e-4d27-a0e4-2166df09993e",
   "metadata": {},
   "source": [
    "There are some arguments that all processing functions will take - they don't control the behaviour of the processing step itself, but instead how the commands are executed:\n",
    "\n",
    "* **num_cores** - The number of cores that the function is allowed to use. This is set globally by the daxa.NUM_CORES constant (if set before any other DAXA function is imported), and by default is 90% of the cores available on the system.\n",
    "* **timeout** - This controls how long an individual instance of the process is allowed to run before it is cancelled; the whole function may run for longer depending how many pieces of data need processing and how many cores are allocated. The default is generally null, but it can be set using an astropy quantity with time units."
   ]
  },
  {
   "cell_type": "markdown",
   "id": "5b1e1360-7315-4472-a316-b7b10e8a5462",
   "metadata": {},
   "source": [
    "## Breaking down the eROSITA processing steps"
   ]
  },
  {
   "cell_type": "markdown",
   "id": "902d128e-7116-4fda-8e69-c7a8033ff2e9",
   "metadata": {},
   "source": [
    "There are fewer individual steps for eROSITA compared to a telescope like XMM - this reflects its simpler design, with only a single camera type, as well as the differences in how data are served to the community and the backend software design. This section deals describes the different processing steps that DAXA can apply to eROSITA data (both all-sky and calibration)."
   ]
  },
  {
   "cell_type": "markdown",
   "id": "818e32cf-fbf6-4fe3-8410-492749a5d951",
   "metadata": {},
   "source": [
    "### Identifying periods of high flaring (flaregti)"
   ]
  },
  {
   "cell_type": "markdown",
   "id": "a79803ed-4e7b-4be0-9164-317b7edf859b",
   "metadata": {},
   "source": [
    "[flaregti function](../../daxa.process.erosita.html#daxa.process.erosita.clean.flaregti)"
   ]
  },
  {
   "cell_type": "code",
   "execution_count": null,
   "id": "c73b2446-00fc-46fb-b6cd-595a550f809c",
   "metadata": {},
   "outputs": [],
   "source": []
  },
  {
   "cell_type": "markdown",
   "id": "ada9e44b-e4ef-4438-9f20-2c91f426fca4",
   "metadata": {},
   "source": [
    "### Applying event filtering and good-time-intervals to the raw event lists (cleaned_evt_lists)"
   ]
  },
  {
   "cell_type": "markdown",
   "id": "0a1ee926-6234-4a3e-afc4-9448cf07ae1a",
   "metadata": {},
   "source": [
    "[cleaned_evt_lists function](../../daxa.process.erosita.html#daxa.process.erosita.assemble.cleaned_evt_lists)"
   ]
  }
 ],
 "metadata": {
  "kernelspec": {
   "display_name": "Python 3 (ipykernel)",
   "language": "python",
   "name": "python3"
  },
  "language_info": {
   "codemirror_mode": {
    "name": "ipython",
    "version": 3
   },
   "file_extension": ".py",
   "mimetype": "text/x-python",
   "name": "python",
   "nbconvert_exporter": "python",
   "pygments_lexer": "ipython3",
   "version": "3.9.15"
  }
 },
 "nbformat": 4,
 "nbformat_minor": 5
}
