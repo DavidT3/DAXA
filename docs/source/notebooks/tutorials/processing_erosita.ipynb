{
 "cells": [
  {
   "cell_type": "markdown",
   "id": "52ac7bfe",
   "metadata": {},
   "source": [
    "# Processing eROSITA data"
   ]
  },
  {
   "cell_type": "markdown",
   "id": "fa461803",
   "metadata": {},
   "source": []
  },
  {
   "cell_type": "markdown",
   "id": "6a8a9f31",
   "metadata": {},
   "source": [
    "## Import Statements"
   ]
  },
  {
   "cell_type": "code",
   "execution_count": null,
   "id": "56e8d906",
   "metadata": {},
   "outputs": [],
   "source": []
  },
  {
   "cell_type": "markdown",
   "id": "40a036d5",
   "metadata": {},
   "source": []
  }
 ],
 "metadata": {
  "kernelspec": {
   "display_name": "Python 3 (ipykernel)",
   "language": "python",
   "name": "python3"
  },
  "language_info": {
   "codemirror_mode": {
    "name": "ipython",
    "version": 3
   },
   "file_extension": ".py",
   "mimetype": "text/x-python",
   "name": "python",
   "nbconvert_exporter": "python",
   "pygments_lexer": "ipython3",
   "version": "3.8.12"
  }
 },
 "nbformat": 4,
 "nbformat_minor": 5
}
